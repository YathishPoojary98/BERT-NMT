{
 "cells": [
  {
   "cell_type": "code",
   "execution_count": 1,
   "id": "e7e24262",
   "metadata": {},
   "outputs": [
    {
     "name": "stderr",
     "output_type": "stream",
     "text": [
      "Found cached dataset naamapadam (/home/pranam/.cache/huggingface/datasets/ai4bharat___naamapadam/kn/1.0.0/99b5ec77eabfaa3fbff510d8cf70d7c34519486cb7dbee99ede19474ddff9b20)\n"
     ]
    },
    {
     "data": {
      "application/vnd.jupyter.widget-view+json": {
       "model_id": "59d51c8629c947bcadaa0d0df3519278",
       "version_major": 2,
       "version_minor": 0
      },
      "text/plain": [
       "  0%|          | 0/3 [00:00<?, ?it/s]"
      ]
     },
     "metadata": {},
     "output_type": "display_data"
    }
   ],
   "source": [
    "# Let's download the Naampadam (Indic NER) dataset\n",
    "from datasets import ClassLabel, load_dataset, load_metric, DownloadMode\n",
    "\n",
    "lang='kn'\n",
    "\n",
    "raw_datasets = load_dataset('ai4bharat/naamapadam', lang)"
   ]
  },
  {
   "cell_type": "code",
   "execution_count": 2,
   "id": "09af8e47",
   "metadata": {},
   "outputs": [],
   "source": [
    "train_data = raw_datasets['train']"
   ]
  },
  {
   "cell_type": "code",
   "execution_count": 9,
   "id": "d083c9e6",
   "metadata": {},
   "outputs": [
    {
     "data": {
      "text/plain": [
       "['ನಿರ್ದೇಶಕರುಃ', 'ಶಿವಗಣೇಶ್']"
      ]
     },
     "execution_count": 9,
     "metadata": {},
     "output_type": "execute_result"
    }
   ],
   "source": [
    "train_data['tokens'][0]"
   ]
  },
  {
   "cell_type": "code",
   "execution_count": 16,
   "id": "99b5cf4f",
   "metadata": {},
   "outputs": [],
   "source": [
    "import pandas as pd\n",
    "import pickle\n",
    "with open(\"data.pickle\", \"rb\") as f:\n",
    "    pos_data = pickle.load(f)"
   ]
  },
  {
   "cell_type": "code",
   "execution_count": 18,
   "id": "d3d8c3bf",
   "metadata": {},
   "outputs": [
    {
     "data": {
      "text/html": [
       "<div>\n",
       "<style scoped>\n",
       "    .dataframe tbody tr th:only-of-type {\n",
       "        vertical-align: middle;\n",
       "    }\n",
       "\n",
       "    .dataframe tbody tr th {\n",
       "        vertical-align: top;\n",
       "    }\n",
       "\n",
       "    .dataframe thead th {\n",
       "        text-align: right;\n",
       "    }\n",
       "</style>\n",
       "<table border=\"1\" class=\"dataframe\">\n",
       "  <thead>\n",
       "    <tr style=\"text-align: right;\">\n",
       "      <th></th>\n",
       "      <th>tokens</th>\n",
       "      <th>pos_tags</th>\n",
       "    </tr>\n",
       "  </thead>\n",
       "  <tbody>\n",
       "    <tr>\n",
       "      <th>0</th>\n",
       "      <td>[ಬಾಯಿಯ, ಆರೋಗ್ಯ, ,, ಸಾಮಾನ್ಯ, ದೇಹಾರೋಗ್ಯಗಳ, ನಡುವಣ...</td>\n",
       "      <td>[JJ, N__NN, RD__PUNC, JJ, N__NN, RP__RPD, N__N...</td>\n",
       "    </tr>\n",
       "    <tr>\n",
       "      <th>1</th>\n",
       "      <td>[ಬಾಯಿ, ಮತ್ತು, ದೇಹ, ಒಂದರಲ್ಲಿ, ಒಂದು, ಹಾಸುಹೊಕ್ಕಾಗ...</td>\n",
       "      <td>[N__NN, CC__CCD, N__NN, N__NN, QT__QTC, RB, V_...</td>\n",
       "    </tr>\n",
       "    <tr>\n",
       "      <th>2</th>\n",
       "      <td>[ಬಾಯಿಯ, ಕಳಪೆ, ಆರೋಗ್ಯವು, -, ಅಸಮರ್ಪಕ, ಜಗಿಯುವಿಕೆ,...</td>\n",
       "      <td>[N__NN, JJ, N__NN, RD__SYM, JJ, N__NNV, CC__CC...</td>\n",
       "    </tr>\n",
       "    <tr>\n",
       "      <th>3</th>\n",
       "      <td>[ಹಲ್ಲುಗಳಲ್ಲಿ, ಬ್ಯಾಕ್ಟೀರಿಯಾ, ಸಂಗ್ರಹ, ಆಗುವುದು, ಅ...</td>\n",
       "      <td>[N__NN, N__NN, N__NN, V__VM__VF, CC__CCD, N__N...</td>\n",
       "    </tr>\n",
       "    <tr>\n",
       "      <th>4</th>\n",
       "      <td>[ಹೃದ್ರೋಗಗಳು, ,, ಮಧುಮೇಹ, ,, ಪ್ರತಿಕೂಲ, ಪ್ರಸೂತಿ, ...</td>\n",
       "      <td>[N__NN, RD__PUNC, N__NN, RD__PUNC, JJ, N__NN, ...</td>\n",
       "    </tr>\n",
       "    <tr>\n",
       "      <th>...</th>\n",
       "      <td>...</td>\n",
       "      <td>...</td>\n",
       "    </tr>\n",
       "    <tr>\n",
       "      <th>11699</th>\n",
       "      <td>[ಇಲಾಖೆಯು, ಕೈಗೊಂಡ, ಕೆಲಸದ, ಗುಣಮಟ್ಟವನ್ನು, ಮೇಲ್ವಿಚ...</td>\n",
       "      <td>[N__NN, V__VM__VNG, N__NN, N__NN, N__NN, V__VM...</td>\n",
       "    </tr>\n",
       "    <tr>\n",
       "      <th>11700</th>\n",
       "      <td>[ಈ, ಇಲಾಖೆಯ, ನಿರ್ವಹಣೆಯಲ್ಲಿ, ರಸ್ತೆಗಳಲ್ಲಿ, ನೀರು, ...</td>\n",
       "      <td>[DM__DMD, N__NN, N__NNV, N__NN, N__NN, V__VM__...</td>\n",
       "    </tr>\n",
       "    <tr>\n",
       "      <th>11701</th>\n",
       "      <td>[ಭವಿಷ್ಯದಲ್ಲಿ, ನಡೆಸಲು, ಆಗುವ, ರಸ್ತೆ, ಮತ್ತು, ಸೇತು...</td>\n",
       "      <td>[N__NN, V__VM__VINF, V__VAUX, N__NN, CC__CCD, ...</td>\n",
       "    </tr>\n",
       "    <tr>\n",
       "      <th>11702</th>\n",
       "      <td>[ತಮಿಳುನಾಡಿನಲ್ಲಿ, ಚಿಕ್ಕ, ಬಂದರುಗಳನ್ನು, ಖಾಸಗಿ, ಹೂ...</td>\n",
       "      <td>[N__NNP, JJ, N__NN, JJ, N__NNV, RP__RPD, N__NN...</td>\n",
       "    </tr>\n",
       "    <tr>\n",
       "      <th>11703</th>\n",
       "      <td>[ಅವುಗಳ, ಬೆಳವಣಿಗೆಗೆ, ಅವಕಾಶಗಳನ್ನು, ಸೃಷ್ಟಿಸಲು, ಆಗ...</td>\n",
       "      <td>[DM__DMD, N__NNV, N__NN, V__VM__VF, V__VAUX, R...</td>\n",
       "    </tr>\n",
       "  </tbody>\n",
       "</table>\n",
       "<p>11704 rows × 2 columns</p>\n",
       "</div>"
      ],
      "text/plain": [
       "                                                  tokens  \\\n",
       "0      [ಬಾಯಿಯ, ಆರೋಗ್ಯ, ,, ಸಾಮಾನ್ಯ, ದೇಹಾರೋಗ್ಯಗಳ, ನಡುವಣ...   \n",
       "1      [ಬಾಯಿ, ಮತ್ತು, ದೇಹ, ಒಂದರಲ್ಲಿ, ಒಂದು, ಹಾಸುಹೊಕ್ಕಾಗ...   \n",
       "2      [ಬಾಯಿಯ, ಕಳಪೆ, ಆರೋಗ್ಯವು, -, ಅಸಮರ್ಪಕ, ಜಗಿಯುವಿಕೆ,...   \n",
       "3      [ಹಲ್ಲುಗಳಲ್ಲಿ, ಬ್ಯಾಕ್ಟೀರಿಯಾ, ಸಂಗ್ರಹ, ಆಗುವುದು, ಅ...   \n",
       "4      [ಹೃದ್ರೋಗಗಳು, ,, ಮಧುಮೇಹ, ,, ಪ್ರತಿಕೂಲ, ಪ್ರಸೂತಿ, ...   \n",
       "...                                                  ...   \n",
       "11699  [ಇಲಾಖೆಯು, ಕೈಗೊಂಡ, ಕೆಲಸದ, ಗುಣಮಟ್ಟವನ್ನು, ಮೇಲ್ವಿಚ...   \n",
       "11700  [ಈ, ಇಲಾಖೆಯ, ನಿರ್ವಹಣೆಯಲ್ಲಿ, ರಸ್ತೆಗಳಲ್ಲಿ, ನೀರು, ...   \n",
       "11701  [ಭವಿಷ್ಯದಲ್ಲಿ, ನಡೆಸಲು, ಆಗುವ, ರಸ್ತೆ, ಮತ್ತು, ಸೇತು...   \n",
       "11702  [ತಮಿಳುನಾಡಿನಲ್ಲಿ, ಚಿಕ್ಕ, ಬಂದರುಗಳನ್ನು, ಖಾಸಗಿ, ಹೂ...   \n",
       "11703  [ಅವುಗಳ, ಬೆಳವಣಿಗೆಗೆ, ಅವಕಾಶಗಳನ್ನು, ಸೃಷ್ಟಿಸಲು, ಆಗ...   \n",
       "\n",
       "                                                pos_tags  \n",
       "0      [JJ, N__NN, RD__PUNC, JJ, N__NN, RP__RPD, N__N...  \n",
       "1      [N__NN, CC__CCD, N__NN, N__NN, QT__QTC, RB, V_...  \n",
       "2      [N__NN, JJ, N__NN, RD__SYM, JJ, N__NNV, CC__CC...  \n",
       "3      [N__NN, N__NN, N__NN, V__VM__VF, CC__CCD, N__N...  \n",
       "4      [N__NN, RD__PUNC, N__NN, RD__PUNC, JJ, N__NN, ...  \n",
       "...                                                  ...  \n",
       "11699  [N__NN, V__VM__VNG, N__NN, N__NN, N__NN, V__VM...  \n",
       "11700  [DM__DMD, N__NN, N__NNV, N__NN, N__NN, V__VM__...  \n",
       "11701  [N__NN, V__VM__VINF, V__VAUX, N__NN, CC__CCD, ...  \n",
       "11702  [N__NNP, JJ, N__NN, JJ, N__NNV, RP__RPD, N__NN...  \n",
       "11703  [DM__DMD, N__NNV, N__NN, V__VM__VF, V__VAUX, R...  \n",
       "\n",
       "[11704 rows x 2 columns]"
      ]
     },
     "execution_count": 18,
     "metadata": {},
     "output_type": "execute_result"
    }
   ],
   "source": [
    "df = pd.DataFrame(data=pos_data,columns=['tokens','pos_tags'])\n",
    "df"
   ]
  },
  {
   "cell_type": "code",
   "execution_count": 19,
   "id": "ad863331",
   "metadata": {},
   "outputs": [],
   "source": [
    "pos_tags = df['pos_tags'].values.tolist()"
   ]
  },
  {
   "cell_type": "code",
   "execution_count": 20,
   "id": "a753df1a",
   "metadata": {},
   "outputs": [
    {
     "name": "stdout",
     "output_type": "stream",
     "text": [
      "<class 'list'>\n",
      "<class 'list'>\n",
      "<class 'list'>\n",
      "<class 'list'>\n",
      "<class 'list'>\n"
     ]
    }
   ],
   "source": [
    "for i in pos_tags[:5]:\n",
    "    print(type(i))"
   ]
  },
  {
   "cell_type": "code",
   "execution_count": 42,
   "id": "ce32c5ba",
   "metadata": {},
   "outputs": [],
   "source": [
    "def replace_value(list_of_lists, old_value, new_value):\n",
    "    for sublist in list_of_lists:\n",
    "        for i in range(len(sublist)):\n",
    "            if sublist[i] == old_value:\n",
    "                sublist[i] = new_value"
   ]
  },
  {
   "cell_type": "code",
   "execution_count": 73,
   "id": "2e7611bc",
   "metadata": {},
   "outputs": [],
   "source": [
    "to_replace = [('CC_CCD','CC__CCD'),('DM_DMD','DM__DMD'),('NNP','N__NNP'),('NST','N__NST'),('N_NN','N__NN'),('N_NNP','N__NNP'),('N_NNV','N__NNV'),('N__N','N__NN'),\n",
    "             ('N__NSt','N__NST'),('PR_PRI','PR__PRI'),('PR_PRP','PR__PRP'),('PR_PRQ','PR__PRQ'),('QT_QTC','QT__QTC'),('RBP','RB'),\n",
    "             ('RDS__RDF','RD__RDF'),('RD_PUNC','RD__PUNC'),('RD_SYM','RD__SYM'),('RO__RPD','RD__RPD'),('RP_RPD','RP__RPD'),('V_VAUX','V__VAUX'),\n",
    "             ('V_VM_VF','V__VM__VF'),('V_VM_VINF','V__VM__VINF'),('V_VM_VNF','V__VM__VNF'),('V_VM_VNG','V__VM__VNG'),('V_VM__VNG','V__VM__VNG'),\n",
    "             ('V__','V__VM__VF'),('V__VAUx','V__VAUX'),('V__VAX','V__VAUX'),('V__VAux','V__VAUX'),('V__VMAUX','V__VAUX'),\n",
    "             ('V__VM_VNG','V__VM__VNG'),('V__VM__V','V__VM__VF'),('V__VM__VGF','V__VM__VF'),('V__VM__VGN','V__VM__VNG'),\n",
    "             ('V__VM__VN','V__VM__VNG'),('V__VM__VNIF','V__VM__VINF'),('V__VM__VNINF','V__VM__VINF'),('V__VNG','V__VM__VNG'),\n",
    "             ('V__VUAX','V__VAUX'),('V__VUX','V__VAUX'),('psp','PSP'),('','UNK'),('10ರಲ್ಲಿ','QT__QTC'),('N__NNT','N__NST'),('CC__CCP','CC__CCS'),('N__NEG','RP__NEG'),\n",
    "             ('RD__NEG','RP__NEG'),('RP__ECH','RD__ECH'),('RP__PUNC','RD__PUNC'),('RD__INTF','RP__INTF'),('RD__BLK','RD__BUL')]"
   ]
  },
  {
   "cell_type": "code",
   "execution_count": 74,
   "id": "19b6b0dc",
   "metadata": {},
   "outputs": [],
   "source": [
    "for i in to_replace:\n",
    "    replace_value(pos_tags,i[0],i[1])"
   ]
  },
  {
   "cell_type": "code",
   "execution_count": 75,
   "id": "7aa84716",
   "metadata": {},
   "outputs": [
    {
     "data": {
      "text/html": [
       "<style>#sk-container-id-4 {color: black;background-color: white;}#sk-container-id-4 pre{padding: 0;}#sk-container-id-4 div.sk-toggleable {background-color: white;}#sk-container-id-4 label.sk-toggleable__label {cursor: pointer;display: block;width: 100%;margin-bottom: 0;padding: 0.3em;box-sizing: border-box;text-align: center;}#sk-container-id-4 label.sk-toggleable__label-arrow:before {content: \"▸\";float: left;margin-right: 0.25em;color: #696969;}#sk-container-id-4 label.sk-toggleable__label-arrow:hover:before {color: black;}#sk-container-id-4 div.sk-estimator:hover label.sk-toggleable__label-arrow:before {color: black;}#sk-container-id-4 div.sk-toggleable__content {max-height: 0;max-width: 0;overflow: hidden;text-align: left;background-color: #f0f8ff;}#sk-container-id-4 div.sk-toggleable__content pre {margin: 0.2em;color: black;border-radius: 0.25em;background-color: #f0f8ff;}#sk-container-id-4 input.sk-toggleable__control:checked~div.sk-toggleable__content {max-height: 200px;max-width: 100%;overflow: auto;}#sk-container-id-4 input.sk-toggleable__control:checked~label.sk-toggleable__label-arrow:before {content: \"▾\";}#sk-container-id-4 div.sk-estimator input.sk-toggleable__control:checked~label.sk-toggleable__label {background-color: #d4ebff;}#sk-container-id-4 div.sk-label input.sk-toggleable__control:checked~label.sk-toggleable__label {background-color: #d4ebff;}#sk-container-id-4 input.sk-hidden--visually {border: 0;clip: rect(1px 1px 1px 1px);clip: rect(1px, 1px, 1px, 1px);height: 1px;margin: -1px;overflow: hidden;padding: 0;position: absolute;width: 1px;}#sk-container-id-4 div.sk-estimator {font-family: monospace;background-color: #f0f8ff;border: 1px dotted black;border-radius: 0.25em;box-sizing: border-box;margin-bottom: 0.5em;}#sk-container-id-4 div.sk-estimator:hover {background-color: #d4ebff;}#sk-container-id-4 div.sk-parallel-item::after {content: \"\";width: 100%;border-bottom: 1px solid gray;flex-grow: 1;}#sk-container-id-4 div.sk-label:hover label.sk-toggleable__label {background-color: #d4ebff;}#sk-container-id-4 div.sk-serial::before {content: \"\";position: absolute;border-left: 1px solid gray;box-sizing: border-box;top: 0;bottom: 0;left: 50%;z-index: 0;}#sk-container-id-4 div.sk-serial {display: flex;flex-direction: column;align-items: center;background-color: white;padding-right: 0.2em;padding-left: 0.2em;position: relative;}#sk-container-id-4 div.sk-item {position: relative;z-index: 1;}#sk-container-id-4 div.sk-parallel {display: flex;align-items: stretch;justify-content: center;background-color: white;position: relative;}#sk-container-id-4 div.sk-item::before, #sk-container-id-4 div.sk-parallel-item::before {content: \"\";position: absolute;border-left: 1px solid gray;box-sizing: border-box;top: 0;bottom: 0;left: 50%;z-index: -1;}#sk-container-id-4 div.sk-parallel-item {display: flex;flex-direction: column;z-index: 1;position: relative;background-color: white;}#sk-container-id-4 div.sk-parallel-item:first-child::after {align-self: flex-end;width: 50%;}#sk-container-id-4 div.sk-parallel-item:last-child::after {align-self: flex-start;width: 50%;}#sk-container-id-4 div.sk-parallel-item:only-child::after {width: 0;}#sk-container-id-4 div.sk-dashed-wrapped {border: 1px dashed gray;margin: 0 0.4em 0.5em 0.4em;box-sizing: border-box;padding-bottom: 0.4em;background-color: white;}#sk-container-id-4 div.sk-label label {font-family: monospace;font-weight: bold;display: inline-block;line-height: 1.2em;}#sk-container-id-4 div.sk-label-container {text-align: center;}#sk-container-id-4 div.sk-container {/* jupyter's `normalize.less` sets `[hidden] { display: none; }` but bootstrap.min.css set `[hidden] { display: none !important; }` so we also need the `!important` here to be able to override the default hidden behavior on the sphinx rendered scikit-learn.org. See: https://github.com/scikit-learn/scikit-learn/issues/21755 */display: inline-block !important;position: relative;}#sk-container-id-4 div.sk-text-repr-fallback {display: none;}</style><div id=\"sk-container-id-4\" class=\"sk-top-container\"><div class=\"sk-text-repr-fallback\"><pre>LabelEncoder()</pre><b>In a Jupyter environment, please rerun this cell to show the HTML representation or trust the notebook. <br />On GitHub, the HTML representation is unable to render, please try loading this page with nbviewer.org.</b></div><div class=\"sk-container\" hidden><div class=\"sk-item\"><div class=\"sk-estimator sk-toggleable\"><input class=\"sk-toggleable__control sk-hidden--visually\" id=\"sk-estimator-id-4\" type=\"checkbox\" checked><label for=\"sk-estimator-id-4\" class=\"sk-toggleable__label sk-toggleable__label-arrow\">LabelEncoder</label><div class=\"sk-toggleable__content\"><pre>LabelEncoder()</pre></div></div></div></div></div>"
      ],
      "text/plain": [
       "LabelEncoder()"
      ]
     },
     "execution_count": 75,
     "metadata": {},
     "output_type": "execute_result"
    }
   ],
   "source": [
    "from sklearn.preprocessing import LabelEncoder\n",
    "flattened_pos_tags = [tag for sublist in pos_tags for tag in sublist]\n",
    "\n",
    "# Create an instance of LabelEncoder\n",
    "encoder = LabelEncoder()\n",
    "\n",
    "# Fit the encoder on the flattened POS tags\n",
    "encoder.fit(flattened_pos_tags)"
   ]
  },
  {
   "cell_type": "code",
   "execution_count": 76,
   "id": "544b13c0",
   "metadata": {},
   "outputs": [],
   "source": [
    "encoded_pos_tags = [[encoder.transform([tag])[0] for tag in sublist] for sublist in pos_tags]\n",
    "\n",
    "# Create a dictionary of encoding\n",
    "encoding_dict = {\n",
    "    encoded_value: original_value\n",
    "    for encoded_value, original_value in zip(\n",
    "        encoder.transform(encoder.classes_), encoder.classes_\n",
    "    )\n",
    "}"
   ]
  },
  {
   "cell_type": "code",
   "execution_count": 77,
   "id": "3af5fca8",
   "metadata": {},
   "outputs": [
    {
     "data": {
      "text/plain": [
       "[[7, 8, 25, 7, 8, 33, 8, 25],\n",
       " [8, 0, 8, 8, 19, 22, 38, 16, 25],\n",
       " [8,\n",
       "  7,\n",
       "  8,\n",
       "  28,\n",
       "  7,\n",
       "  10,\n",
       "  0,\n",
       "  8,\n",
       "  39,\n",
       "  8,\n",
       "  8,\n",
       "  7,\n",
       "  10,\n",
       "  33,\n",
       "  8,\n",
       "  36,\n",
       "  1,\n",
       "  7,\n",
       "  8,\n",
       "  25,\n",
       "  39,\n",
       "  8,\n",
       "  33,\n",
       "  8,\n",
       "  25,\n",
       "  39,\n",
       "  0,\n",
       "  8,\n",
       "  39,\n",
       "  8,\n",
       "  8,\n",
       "  7,\n",
       "  8,\n",
       "  25,\n",
       "  8,\n",
       "  0,\n",
       "  22,\n",
       "  8,\n",
       "  33,\n",
       "  7,\n",
       "  8,\n",
       "  36,\n",
       "  25],\n",
       " [8,\n",
       "  8,\n",
       "  8,\n",
       "  36,\n",
       "  0,\n",
       "  8,\n",
       "  11,\n",
       "  8,\n",
       "  8,\n",
       "  8,\n",
       "  8,\n",
       "  7,\n",
       "  8,\n",
       "  28,\n",
       "  8,\n",
       "  16,\n",
       "  8,\n",
       "  39,\n",
       "  7,\n",
       "  8,\n",
       "  28,\n",
       "  39,\n",
       "  7,\n",
       "  8,\n",
       "  7,\n",
       "  8,\n",
       "  25],\n",
       " [8, 25, 8, 25, 7, 8, 8, 0, 9, 7, 8, 39, 20, 8, 33, 7, 8, 7, 8, 36, 25],\n",
       " [9, 9, 8, 39, 8, 8, 8, 39, 8, 7, 8, 36, 25],\n",
       " [7, 8, 7, 8, 39, 0, 8, 39, 8, 7, 8, 39, 8, 25, 7, 8, 8, 38, 25, 8, 36, 25],\n",
       " [0,\n",
       "  25,\n",
       "  7,\n",
       "  8,\n",
       "  7,\n",
       "  8,\n",
       "  7,\n",
       "  8,\n",
       "  39,\n",
       "  8,\n",
       "  0,\n",
       "  7,\n",
       "  8,\n",
       "  7,\n",
       "  8,\n",
       "  8,\n",
       "  8,\n",
       "  8,\n",
       "  8,\n",
       "  39,\n",
       "  33,\n",
       "  8,\n",
       "  37,\n",
       "  7,\n",
       "  8,\n",
       "  7,\n",
       "  8,\n",
       "  36,\n",
       "  25],\n",
       " [7, 8, 7, 8, 36, 0, 31, 7, 8, 39, 8, 7, 8, 33, 7, 8, 33, 31, 7, 8, 8, 36, 25],\n",
       " [8,\n",
       "  8,\n",
       "  39,\n",
       "  8,\n",
       "  8,\n",
       "  8,\n",
       "  39,\n",
       "  8,\n",
       "  33,\n",
       "  8,\n",
       "  38,\n",
       "  7,\n",
       "  8,\n",
       "  0,\n",
       "  8,\n",
       "  31,\n",
       "  7,\n",
       "  8,\n",
       "  7,\n",
       "  8,\n",
       "  8,\n",
       "  39,\n",
       "  8,\n",
       "  36,\n",
       "  1,\n",
       "  3,\n",
       "  36,\n",
       "  25]]"
      ]
     },
     "execution_count": 77,
     "metadata": {},
     "output_type": "execute_result"
    }
   ],
   "source": [
    "encoded_pos_tags[:10]"
   ]
  },
  {
   "cell_type": "code",
   "execution_count": 78,
   "id": "8f3c9646",
   "metadata": {},
   "outputs": [
    {
     "data": {
      "text/plain": [
       "{0: 'CC__CCD',\n",
       " 1: 'CC__CCS',\n",
       " 2: 'CC__CCS__UT',\n",
       " 3: 'DM__DMD',\n",
       " 4: 'DM__DMI',\n",
       " 5: 'DM__DMQ',\n",
       " 6: 'DM__DMR',\n",
       " 7: 'JJ',\n",
       " 8: 'N__NN',\n",
       " 9: 'N__NNP',\n",
       " 10: 'N__NNV',\n",
       " 11: 'N__NST',\n",
       " 12: 'PR__PRC',\n",
       " 13: 'PR__PRF',\n",
       " 14: 'PR__PRI',\n",
       " 15: 'PR__PRL',\n",
       " 16: 'PR__PRP',\n",
       " 17: 'PR__PRQ',\n",
       " 18: 'PSP',\n",
       " 19: 'QT__QTC',\n",
       " 20: 'QT__QTF',\n",
       " 21: 'QT__QTO',\n",
       " 22: 'RB',\n",
       " 23: 'RD__BUL',\n",
       " 24: 'RD__ECH',\n",
       " 25: 'RD__PUNC',\n",
       " 26: 'RD__RDF',\n",
       " 27: 'RD__RPD',\n",
       " 28: 'RD__SYM',\n",
       " 29: 'RP__CL',\n",
       " 30: 'RP__INJ',\n",
       " 31: 'RP__INTF',\n",
       " 32: 'RP__NEG',\n",
       " 33: 'RP__RPD',\n",
       " 34: 'UNK',\n",
       " 35: 'V__VAUX',\n",
       " 36: 'V__VM__VF',\n",
       " 37: 'V__VM__VINF',\n",
       " 38: 'V__VM__VNF',\n",
       " 39: 'V__VM__VNG'}"
      ]
     },
     "execution_count": 78,
     "metadata": {},
     "output_type": "execute_result"
    }
   ],
   "source": [
    "encoding_dict"
   ]
  },
  {
   "cell_type": "code",
   "execution_count": 72,
   "id": "c29e46b5",
   "metadata": {},
   "outputs": [
    {
     "name": "stdout",
     "output_type": "stream",
     "text": [
      "['4.', 'ಜಮೈಕಾದ', 'ಜೊತೆ', 'ನಮ್ಮನ್ನು', 'ನಿಕಟವಾಗಿ', 'ಸಂಪರ್ಕಿಸುವುದು', 'ನಮ್ಮ', 'ವಲಸಿಗರು', 'ಮಾತ್ರ', 'ಅಲ್ಲ', '.']\n",
      "['RD__BLK', 'N__NN', 'RP__RPD', 'PR__PRP', 'RB', 'V__VM__VNG', 'PR__PRP', 'N__NN', 'RP__RPD', 'RP__NEG', 'RD__PUNC']\n",
      "4. -- > RD__BLK\n"
     ]
    }
   ],
   "source": [
    "for i in pos_data:\n",
    "    check = 'RD__BLK'\n",
    "    if check in i[1]:\n",
    "        print(i[0])\n",
    "        print(i[1])\n",
    "        ind = i[1].index(check)\n",
    "        print(f\"{i[0][ind]} -- > {check}\")"
   ]
  },
  {
   "cell_type": "code",
   "execution_count": 65,
   "id": "03437c3b",
   "metadata": {},
   "outputs": [
    {
     "name": "stdout",
     "output_type": "stream",
     "text": [
      "! --> RD__PUNC\n",
      "! --> RD__PUNC\n",
      "! --> RD__PUNC\n",
      "! --> RD__PUNC\n",
      "! --> RD__PUNC\n",
      "! --> RD__PUNC\n",
      "! --> RD__PUNC\n",
      "! --> RD__PUNC\n",
      "! --> RD__PUNC\n",
      "! --> RD__PUNC\n",
      "! --> RD__PUNC\n",
      "! --> RD__PUNC\n",
      "! --> RD__PUNC\n",
      "! --> RD__PUNC\n",
      "! --> RD__PUNC\n",
      "! --> RD__PUNC\n",
      "! --> RD__PUNC\n",
      "! --> RD__PUNC\n",
      "! --> RD__PUNC\n",
      "! --> RD__PUNC\n",
      "! --> RD__PUNC\n",
      "! --> RD__PUNC\n",
      "! --> RD__PUNC\n",
      "! --> RP__PUNC\n",
      "! --> RD__PUNC\n",
      "! --> RD__PUNC\n",
      "! --> RD__PUNC\n",
      "! --> RD__PUNC\n",
      "! --> RD__PUNC\n",
      "! --> RP__PUNC\n",
      "! --> RP__PUNC\n",
      "! --> RD__PUNC\n",
      "! --> RD__PUNC\n",
      "! --> RD__PUNC\n",
      "! --> RD__PUNC\n",
      "! --> RD__PUNC\n",
      "! --> RD__PUNC\n",
      "! --> RD__PUNC\n",
      "! --> RD__PUNC\n",
      "! --> RD__PUNC\n",
      "! --> RD__PUNC\n",
      "! --> RD__PUNC\n",
      "! --> RD__PUNC\n",
      "! --> RD__PUNC\n",
      "! --> RD__PUNC\n",
      "! --> RD__PUNC\n",
      "! --> RD__PUNC\n",
      "! --> RD__PUNC\n",
      "! --> RD__PUNC\n",
      "! --> RD__PUNC\n",
      "! --> RD__PUNC\n",
      "! --> RD__PUNC\n",
      "! --> RD__SYM\n",
      "! --> RD__PUNC\n",
      "! --> RD__PUNC\n",
      "! --> RD__PUNC\n",
      "! --> RD__PUNC\n",
      "! --> RD__PUNC\n",
      "! --> RD__PUNC\n",
      "! --> RD__PUNC\n",
      "! --> RD__PUNC\n",
      "! --> RD__PUNC\n",
      "! --> RD__PUNC\n",
      "! --> RD__PUNC\n",
      "! --> RD__PUNC\n",
      "! --> RD__PUNC\n"
     ]
    }
   ],
   "source": [
    "for i in pos_data:\n",
    "    check = \"!\"\n",
    "    if check in i[0]:\n",
    "        ind = i[0].index(check)\n",
    "        print(f\"{check} --> {i[1][ind]}\")"
   ]
  },
  {
   "cell_type": "code",
   "execution_count": 63,
   "id": "cc75511c",
   "metadata": {},
   "outputs": [],
   "source": [
    "with open(\"pos_encoding.pickle\", \"wb\") as f:\n",
    "    pickle.dump(encoding_dict, f)"
   ]
  },
  {
   "cell_type": "code",
   "execution_count": 80,
   "id": "4ea594ab",
   "metadata": {},
   "outputs": [],
   "source": [
    "df['pos_tags'] = encoded_pos_tags"
   ]
  },
  {
   "cell_type": "code",
   "execution_count": 81,
   "id": "b20a8f45",
   "metadata": {},
   "outputs": [
    {
     "data": {
      "text/html": [
       "<div>\n",
       "<style scoped>\n",
       "    .dataframe tbody tr th:only-of-type {\n",
       "        vertical-align: middle;\n",
       "    }\n",
       "\n",
       "    .dataframe tbody tr th {\n",
       "        vertical-align: top;\n",
       "    }\n",
       "\n",
       "    .dataframe thead th {\n",
       "        text-align: right;\n",
       "    }\n",
       "</style>\n",
       "<table border=\"1\" class=\"dataframe\">\n",
       "  <thead>\n",
       "    <tr style=\"text-align: right;\">\n",
       "      <th></th>\n",
       "      <th>tokens</th>\n",
       "      <th>pos_tags</th>\n",
       "    </tr>\n",
       "  </thead>\n",
       "  <tbody>\n",
       "    <tr>\n",
       "      <th>0</th>\n",
       "      <td>[ಬಾಯಿಯ, ಆರೋಗ್ಯ, ,, ಸಾಮಾನ್ಯ, ದೇಹಾರೋಗ್ಯಗಳ, ನಡುವಣ...</td>\n",
       "      <td>[7, 8, 25, 7, 8, 33, 8, 25]</td>\n",
       "    </tr>\n",
       "    <tr>\n",
       "      <th>1</th>\n",
       "      <td>[ಬಾಯಿ, ಮತ್ತು, ದೇಹ, ಒಂದರಲ್ಲಿ, ಒಂದು, ಹಾಸುಹೊಕ್ಕಾಗ...</td>\n",
       "      <td>[8, 0, 8, 8, 19, 22, 38, 16, 25]</td>\n",
       "    </tr>\n",
       "    <tr>\n",
       "      <th>2</th>\n",
       "      <td>[ಬಾಯಿಯ, ಕಳಪೆ, ಆರೋಗ್ಯವು, -, ಅಸಮರ್ಪಕ, ಜಗಿಯುವಿಕೆ,...</td>\n",
       "      <td>[8, 7, 8, 28, 7, 10, 0, 8, 39, 8, 8, 7, 10, 33...</td>\n",
       "    </tr>\n",
       "    <tr>\n",
       "      <th>3</th>\n",
       "      <td>[ಹಲ್ಲುಗಳಲ್ಲಿ, ಬ್ಯಾಕ್ಟೀರಿಯಾ, ಸಂಗ್ರಹ, ಆಗುವುದು, ಅ...</td>\n",
       "      <td>[8, 8, 8, 36, 0, 8, 11, 8, 8, 8, 8, 7, 8, 28, ...</td>\n",
       "    </tr>\n",
       "    <tr>\n",
       "      <th>4</th>\n",
       "      <td>[ಹೃದ್ರೋಗಗಳು, ,, ಮಧುಮೇಹ, ,, ಪ್ರತಿಕೂಲ, ಪ್ರಸೂತಿ, ...</td>\n",
       "      <td>[8, 25, 8, 25, 7, 8, 8, 0, 9, 7, 8, 39, 20, 8,...</td>\n",
       "    </tr>\n",
       "    <tr>\n",
       "      <th>...</th>\n",
       "      <td>...</td>\n",
       "      <td>...</td>\n",
       "    </tr>\n",
       "    <tr>\n",
       "      <th>11699</th>\n",
       "      <td>[ಇಲಾಖೆಯು, ಕೈಗೊಂಡ, ಕೆಲಸದ, ಗುಣಮಟ್ಟವನ್ನು, ಮೇಲ್ವಿಚ...</td>\n",
       "      <td>[8, 39, 8, 8, 8, 36, 1, 36, 25]</td>\n",
       "    </tr>\n",
       "    <tr>\n",
       "      <th>11700</th>\n",
       "      <td>[ಈ, ಇಲಾಖೆಯ, ನಿರ್ವಹಣೆಯಲ್ಲಿ, ರಸ್ತೆಗಳಲ್ಲಿ, ನೀರು, ...</td>\n",
       "      <td>[3, 8, 10, 8, 8, 39, 38, 7, 8, 10, 33, 7, 8, 8...</td>\n",
       "    </tr>\n",
       "    <tr>\n",
       "      <th>11701</th>\n",
       "      <td>[ಭವಿಷ್ಯದಲ್ಲಿ, ನಡೆಸಲು, ಆಗುವ, ರಸ್ತೆ, ಮತ್ತು, ಸೇತು...</td>\n",
       "      <td>[8, 37, 35, 8, 0, 8, 8, 37, 7, 8, 36, 25]</td>\n",
       "    </tr>\n",
       "    <tr>\n",
       "      <th>11702</th>\n",
       "      <td>[ತಮಿಳುನಾಡಿನಲ್ಲಿ, ಚಿಕ್ಕ, ಬಂದರುಗಳನ್ನು, ಖಾಸಗಿ, ಹೂ...</td>\n",
       "      <td>[9, 7, 8, 7, 10, 33, 8, 36, 35, 25]</td>\n",
       "    </tr>\n",
       "    <tr>\n",
       "      <th>11703</th>\n",
       "      <td>[ಅವುಗಳ, ಬೆಳವಣಿಗೆಗೆ, ಅವಕಾಶಗಳನ್ನು, ಸೃಷ್ಟಿಸಲು, ಆಗ...</td>\n",
       "      <td>[3, 10, 8, 36, 35, 25]</td>\n",
       "    </tr>\n",
       "  </tbody>\n",
       "</table>\n",
       "<p>11704 rows × 2 columns</p>\n",
       "</div>"
      ],
      "text/plain": [
       "                                                  tokens  \\\n",
       "0      [ಬಾಯಿಯ, ಆರೋಗ್ಯ, ,, ಸಾಮಾನ್ಯ, ದೇಹಾರೋಗ್ಯಗಳ, ನಡುವಣ...   \n",
       "1      [ಬಾಯಿ, ಮತ್ತು, ದೇಹ, ಒಂದರಲ್ಲಿ, ಒಂದು, ಹಾಸುಹೊಕ್ಕಾಗ...   \n",
       "2      [ಬಾಯಿಯ, ಕಳಪೆ, ಆರೋಗ್ಯವು, -, ಅಸಮರ್ಪಕ, ಜಗಿಯುವಿಕೆ,...   \n",
       "3      [ಹಲ್ಲುಗಳಲ್ಲಿ, ಬ್ಯಾಕ್ಟೀರಿಯಾ, ಸಂಗ್ರಹ, ಆಗುವುದು, ಅ...   \n",
       "4      [ಹೃದ್ರೋಗಗಳು, ,, ಮಧುಮೇಹ, ,, ಪ್ರತಿಕೂಲ, ಪ್ರಸೂತಿ, ...   \n",
       "...                                                  ...   \n",
       "11699  [ಇಲಾಖೆಯು, ಕೈಗೊಂಡ, ಕೆಲಸದ, ಗುಣಮಟ್ಟವನ್ನು, ಮೇಲ್ವಿಚ...   \n",
       "11700  [ಈ, ಇಲಾಖೆಯ, ನಿರ್ವಹಣೆಯಲ್ಲಿ, ರಸ್ತೆಗಳಲ್ಲಿ, ನೀರು, ...   \n",
       "11701  [ಭವಿಷ್ಯದಲ್ಲಿ, ನಡೆಸಲು, ಆಗುವ, ರಸ್ತೆ, ಮತ್ತು, ಸೇತು...   \n",
       "11702  [ತಮಿಳುನಾಡಿನಲ್ಲಿ, ಚಿಕ್ಕ, ಬಂದರುಗಳನ್ನು, ಖಾಸಗಿ, ಹೂ...   \n",
       "11703  [ಅವುಗಳ, ಬೆಳವಣಿಗೆಗೆ, ಅವಕಾಶಗಳನ್ನು, ಸೃಷ್ಟಿಸಲು, ಆಗ...   \n",
       "\n",
       "                                                pos_tags  \n",
       "0                            [7, 8, 25, 7, 8, 33, 8, 25]  \n",
       "1                       [8, 0, 8, 8, 19, 22, 38, 16, 25]  \n",
       "2      [8, 7, 8, 28, 7, 10, 0, 8, 39, 8, 8, 7, 10, 33...  \n",
       "3      [8, 8, 8, 36, 0, 8, 11, 8, 8, 8, 8, 7, 8, 28, ...  \n",
       "4      [8, 25, 8, 25, 7, 8, 8, 0, 9, 7, 8, 39, 20, 8,...  \n",
       "...                                                  ...  \n",
       "11699                    [8, 39, 8, 8, 8, 36, 1, 36, 25]  \n",
       "11700  [3, 8, 10, 8, 8, 39, 38, 7, 8, 10, 33, 7, 8, 8...  \n",
       "11701          [8, 37, 35, 8, 0, 8, 8, 37, 7, 8, 36, 25]  \n",
       "11702                [9, 7, 8, 7, 10, 33, 8, 36, 35, 25]  \n",
       "11703                             [3, 10, 8, 36, 35, 25]  \n",
       "\n",
       "[11704 rows x 2 columns]"
      ]
     },
     "execution_count": 81,
     "metadata": {},
     "output_type": "execute_result"
    }
   ],
   "source": [
    "df"
   ]
  },
  {
   "cell_type": "code",
   "execution_count": 60,
   "id": "4581a9e1",
   "metadata": {},
   "outputs": [],
   "source": [
    "with open('df_data.pickle', 'wb') as f:\n",
    "    pickle.dump(df, f)\n"
   ]
  },
  {
   "cell_type": "markdown",
   "id": "3b36c39f",
   "metadata": {},
   "source": [
    "## BERT POS Tagger"
   ]
  },
  {
   "cell_type": "code",
   "execution_count": 6,
   "id": "9913b96c",
   "metadata": {},
   "outputs": [],
   "source": [
    "import pickle"
   ]
  },
  {
   "cell_type": "code",
   "execution_count": 21,
   "id": "98e1d354",
   "metadata": {},
   "outputs": [],
   "source": [
    "with open(\"df_data.pickle\", 'rb') as file:\n",
    "    df = pickle.load(file)"
   ]
  },
  {
   "cell_type": "code",
   "execution_count": 22,
   "id": "20a61326",
   "metadata": {},
   "outputs": [
    {
     "data": {
      "text/html": [
       "<div>\n",
       "<style scoped>\n",
       "    .dataframe tbody tr th:only-of-type {\n",
       "        vertical-align: middle;\n",
       "    }\n",
       "\n",
       "    .dataframe tbody tr th {\n",
       "        vertical-align: top;\n",
       "    }\n",
       "\n",
       "    .dataframe thead th {\n",
       "        text-align: right;\n",
       "    }\n",
       "</style>\n",
       "<table border=\"1\" class=\"dataframe\">\n",
       "  <thead>\n",
       "    <tr style=\"text-align: right;\">\n",
       "      <th></th>\n",
       "      <th>tokens</th>\n",
       "      <th>pos_tags</th>\n",
       "      <th>split</th>\n",
       "    </tr>\n",
       "  </thead>\n",
       "  <tbody>\n",
       "    <tr>\n",
       "      <th>0</th>\n",
       "      <td>[ಬಾಯಿಯ, ಆರೋಗ್ಯ, ,, ಸಾಮಾನ್ಯ, ದೇಹಾರೋಗ್ಯಗಳ, ನಡುವಣ...</td>\n",
       "      <td>[7, 8, 25, 7, 8, 33, 8, 25]</td>\n",
       "      <td>train</td>\n",
       "    </tr>\n",
       "    <tr>\n",
       "      <th>1</th>\n",
       "      <td>[ಬಾಯಿ, ಮತ್ತು, ದೇಹ, ಒಂದರಲ್ಲಿ, ಒಂದು, ಹಾಸುಹೊಕ್ಕಾಗ...</td>\n",
       "      <td>[8, 0, 8, 8, 19, 22, 37, 16, 25]</td>\n",
       "      <td>train</td>\n",
       "    </tr>\n",
       "    <tr>\n",
       "      <th>2</th>\n",
       "      <td>[ಬಾಯಿಯ, ಕಳಪೆ, ಆರೋಗ್ಯವು, -, ಅಸಮರ್ಪಕ, ಜಗಿಯುವಿಕೆ,...</td>\n",
       "      <td>[8, 7, 8, 28, 7, 10, 0, 8, 38, 8, 8, 7, 10, 33...</td>\n",
       "      <td>train</td>\n",
       "    </tr>\n",
       "    <tr>\n",
       "      <th>3</th>\n",
       "      <td>[ಹಲ್ಲುಗಳಲ್ಲಿ, ಬ್ಯಾಕ್ಟೀರಿಯಾ, ಸಂಗ್ರಹ, ಆಗುವುದು, ಅ...</td>\n",
       "      <td>[8, 8, 8, 35, 0, 8, 11, 8, 8, 8, 8, 7, 8, 28, ...</td>\n",
       "      <td>train</td>\n",
       "    </tr>\n",
       "    <tr>\n",
       "      <th>4</th>\n",
       "      <td>[ಹೃದ್ರೋಗಗಳು, ,, ಮಧುಮೇಹ, ,, ಪ್ರತಿಕೂಲ, ಪ್ರಸೂತಿ, ...</td>\n",
       "      <td>[8, 25, 8, 25, 7, 8, 8, 0, 9, 7, 8, 38, 20, 8,...</td>\n",
       "      <td>test</td>\n",
       "    </tr>\n",
       "    <tr>\n",
       "      <th>...</th>\n",
       "      <td>...</td>\n",
       "      <td>...</td>\n",
       "      <td>...</td>\n",
       "    </tr>\n",
       "    <tr>\n",
       "      <th>11699</th>\n",
       "      <td>[ಇಲಾಖೆಯು, ಕೈಗೊಂಡ, ಕೆಲಸದ, ಗುಣಮಟ್ಟವನ್ನು, ಮೇಲ್ವಿಚ...</td>\n",
       "      <td>[8, 38, 8, 8, 8, 35, 1, 35, 25]</td>\n",
       "      <td>train</td>\n",
       "    </tr>\n",
       "    <tr>\n",
       "      <th>11700</th>\n",
       "      <td>[ಈ, ಇಲಾಖೆಯ, ನಿರ್ವಹಣೆಯಲ್ಲಿ, ರಸ್ತೆಗಳಲ್ಲಿ, ನೀರು, ...</td>\n",
       "      <td>[3, 8, 10, 8, 8, 38, 37, 7, 8, 10, 33, 7, 8, 8...</td>\n",
       "      <td>train</td>\n",
       "    </tr>\n",
       "    <tr>\n",
       "      <th>11701</th>\n",
       "      <td>[ಭವಿಷ್ಯದಲ್ಲಿ, ನಡೆಸಲು, ಆಗುವ, ರಸ್ತೆ, ಮತ್ತು, ಸೇತು...</td>\n",
       "      <td>[8, 36, 34, 8, 0, 8, 8, 36, 7, 8, 35, 25]</td>\n",
       "      <td>train</td>\n",
       "    </tr>\n",
       "    <tr>\n",
       "      <th>11702</th>\n",
       "      <td>[ತಮಿಳುನಾಡಿನಲ್ಲಿ, ಚಿಕ್ಕ, ಬಂದರುಗಳನ್ನು, ಖಾಸಗಿ, ಹೂ...</td>\n",
       "      <td>[9, 7, 8, 7, 10, 33, 8, 35, 34, 25]</td>\n",
       "      <td>train</td>\n",
       "    </tr>\n",
       "    <tr>\n",
       "      <th>11703</th>\n",
       "      <td>[ಅವುಗಳ, ಬೆಳವಣಿಗೆಗೆ, ಅವಕಾಶಗಳನ್ನು, ಸೃಷ್ಟಿಸಲು, ಆಗ...</td>\n",
       "      <td>[3, 10, 8, 35, 34, 25]</td>\n",
       "      <td>train</td>\n",
       "    </tr>\n",
       "  </tbody>\n",
       "</table>\n",
       "<p>11704 rows × 3 columns</p>\n",
       "</div>"
      ],
      "text/plain": [
       "                                                  tokens  \\\n",
       "0      [ಬಾಯಿಯ, ಆರೋಗ್ಯ, ,, ಸಾಮಾನ್ಯ, ದೇಹಾರೋಗ್ಯಗಳ, ನಡುವಣ...   \n",
       "1      [ಬಾಯಿ, ಮತ್ತು, ದೇಹ, ಒಂದರಲ್ಲಿ, ಒಂದು, ಹಾಸುಹೊಕ್ಕಾಗ...   \n",
       "2      [ಬಾಯಿಯ, ಕಳಪೆ, ಆರೋಗ್ಯವು, -, ಅಸಮರ್ಪಕ, ಜಗಿಯುವಿಕೆ,...   \n",
       "3      [ಹಲ್ಲುಗಳಲ್ಲಿ, ಬ್ಯಾಕ್ಟೀರಿಯಾ, ಸಂಗ್ರಹ, ಆಗುವುದು, ಅ...   \n",
       "4      [ಹೃದ್ರೋಗಗಳು, ,, ಮಧುಮೇಹ, ,, ಪ್ರತಿಕೂಲ, ಪ್ರಸೂತಿ, ...   \n",
       "...                                                  ...   \n",
       "11699  [ಇಲಾಖೆಯು, ಕೈಗೊಂಡ, ಕೆಲಸದ, ಗುಣಮಟ್ಟವನ್ನು, ಮೇಲ್ವಿಚ...   \n",
       "11700  [ಈ, ಇಲಾಖೆಯ, ನಿರ್ವಹಣೆಯಲ್ಲಿ, ರಸ್ತೆಗಳಲ್ಲಿ, ನೀರು, ...   \n",
       "11701  [ಭವಿಷ್ಯದಲ್ಲಿ, ನಡೆಸಲು, ಆಗುವ, ರಸ್ತೆ, ಮತ್ತು, ಸೇತು...   \n",
       "11702  [ತಮಿಳುನಾಡಿನಲ್ಲಿ, ಚಿಕ್ಕ, ಬಂದರುಗಳನ್ನು, ಖಾಸಗಿ, ಹೂ...   \n",
       "11703  [ಅವುಗಳ, ಬೆಳವಣಿಗೆಗೆ, ಅವಕಾಶಗಳನ್ನು, ಸೃಷ್ಟಿಸಲು, ಆಗ...   \n",
       "\n",
       "                                                pos_tags  split  \n",
       "0                            [7, 8, 25, 7, 8, 33, 8, 25]  train  \n",
       "1                       [8, 0, 8, 8, 19, 22, 37, 16, 25]  train  \n",
       "2      [8, 7, 8, 28, 7, 10, 0, 8, 38, 8, 8, 7, 10, 33...  train  \n",
       "3      [8, 8, 8, 35, 0, 8, 11, 8, 8, 8, 8, 7, 8, 28, ...  train  \n",
       "4      [8, 25, 8, 25, 7, 8, 8, 0, 9, 7, 8, 38, 20, 8,...   test  \n",
       "...                                                  ...    ...  \n",
       "11699                    [8, 38, 8, 8, 8, 35, 1, 35, 25]  train  \n",
       "11700  [3, 8, 10, 8, 8, 38, 37, 7, 8, 10, 33, 7, 8, 8...  train  \n",
       "11701          [8, 36, 34, 8, 0, 8, 8, 36, 7, 8, 35, 25]  train  \n",
       "11702                [9, 7, 8, 7, 10, 33, 8, 35, 34, 25]  train  \n",
       "11703                             [3, 10, 8, 35, 34, 25]  train  \n",
       "\n",
       "[11704 rows x 3 columns]"
      ]
     },
     "execution_count": 22,
     "metadata": {},
     "output_type": "execute_result"
    }
   ],
   "source": [
    "df"
   ]
  },
  {
   "cell_type": "code",
   "execution_count": null,
   "id": "ebf7248a",
   "metadata": {},
   "outputs": [],
   "source": []
  },
  {
   "cell_type": "code",
   "execution_count": 10,
   "id": "d4faf7ef",
   "metadata": {},
   "outputs": [],
   "source": [
    "with open(\"pos_encoding.pickle\", 'rb') as file:\n",
    "    encoding_dict = pickle.load(file)"
   ]
  },
  {
   "cell_type": "code",
   "execution_count": 62,
   "id": "19a9a029",
   "metadata": {},
   "outputs": [
    {
     "data": {
      "text/plain": [
       "{0: 'CC__CCD',\n",
       " 1: 'CC__CCS',\n",
       " 2: 'CC__CCS__UT',\n",
       " 3: 'DM__DMD',\n",
       " 4: 'DM__DMI',\n",
       " 5: 'DM__DMQ',\n",
       " 6: 'DM__DMR',\n",
       " 7: 'JJ',\n",
       " 8: 'N__NN',\n",
       " 9: 'N__NNP',\n",
       " 10: 'N__NNV',\n",
       " 11: 'N__NST',\n",
       " 12: 'PR__PRC',\n",
       " 13: 'PR__PRF',\n",
       " 14: 'PR__PRI',\n",
       " 15: 'PR__PRL',\n",
       " 16: 'PR__PRP',\n",
       " 17: 'PR__PRQ',\n",
       " 18: 'PSP',\n",
       " 19: 'QT__QTC',\n",
       " 20: 'QT__QTF',\n",
       " 21: 'QT__QTO',\n",
       " 22: 'RB',\n",
       " 23: 'RD__BUL',\n",
       " 24: 'RD__ECH',\n",
       " 25: 'RD__PUNC',\n",
       " 26: 'RD__RDF',\n",
       " 27: 'RD__RPD',\n",
       " 28: 'RD__SYM',\n",
       " 29: 'RP__CL',\n",
       " 30: 'RP__INJ',\n",
       " 31: 'RP__INTF',\n",
       " 32: 'RP__NEG',\n",
       " 33: 'RP__RPD',\n",
       " 34: 'V__VAUX',\n",
       " 35: 'V__VM__VF',\n",
       " 36: 'V__VM__VINF',\n",
       " 37: 'V__VM__VNF',\n",
       " 38: 'V__VM__VNG'}"
      ]
     },
     "execution_count": 62,
     "metadata": {},
     "output_type": "execute_result"
    }
   ],
   "source": [
    "encoding_dict"
   ]
  },
  {
   "cell_type": "code",
   "execution_count": 26,
   "id": "a6b3b846",
   "metadata": {},
   "outputs": [
    {
     "name": "stdout",
     "output_type": "stream",
     "text": [
      "Index : 8968 || ಅಂಥ --> DM__DMD\n",
      "Index : 8971 || ಅಂಥ --> DM__DMD\n",
      "Index : 8975 || ಅಂಥ --> DM__DMD\n",
      "Index : 8986 || ಅಂಥ --> DM__DMD\n",
      "Index : 9002 || ಅಂಥ --> DM__DMD\n",
      "Index : 9011 || ಅಂಥ --> DM__DMD\n",
      "Index : 9012 || ಅಂಥ --> DM__DMD\n",
      "Index : 9276 || ಅಂಥ --> DM__DMD\n",
      "Index : 9280 || ಅಂಥ --> DM__DMD\n",
      "Index : 9286 || ಅಂಥ --> RP__RPD\n",
      "Index : 9289 || ಅಂಥ --> DM__DMD\n",
      "Index : 9291 || ಅಂಥ --> DM__DMD\n",
      "Index : 9292 || ಅಂಥ --> DM__DMD\n"
     ]
    }
   ],
   "source": [
    "import pandas as pd\n",
    "\n",
    "# Assuming you have a DataFrame called 'df'\n",
    "# Iterate through each row\n",
    "for index, row in df.iterrows():\n",
    "    w = \"ಅಂಥ\"\n",
    "    if w in row['tokens']:\n",
    "        ind = row['tokens'].index(w)\n",
    "        tag = row['pos_tags'][ind]\n",
    "        print(f\"Index : {index} || {w} --> {encoding_dict[tag]}\")"
   ]
  },
  {
   "cell_type": "code",
   "execution_count": 28,
   "id": "6022668e",
   "metadata": {},
   "outputs": [
    {
     "data": {
      "text/plain": [
       "'ಅಂಥ ಉದ್ದೇಶಗಳಿಗೆ ಪ್ರಾಧಿಕಾರವು ಹಂಚಿಕೆ ಮಾಡುವಂತಿಲ್ಲ ಎಂಬ ಆಧಾರದ ಮೇಲೆ ಅದನ್ನು ತಿರಸ್ಕರಿಸಲು ಆಯಿತು .'"
      ]
     },
     "execution_count": 28,
     "metadata": {},
     "output_type": "execute_result"
    }
   ],
   "source": [
    "ex = \" \".join(df['tokens'][8968])\n",
    "ex"
   ]
  },
  {
   "cell_type": "code",
   "execution_count": 16,
   "id": "1cee1c00",
   "metadata": {},
   "outputs": [],
   "source": [
    "df.loc[6452,'pos_tags'] = [9,8,3,8,8,36,35,25]\n",
    "df.loc[7304,'pos_tags'] = [9, 33, 9, 8, 7, 8, 39, 8, 9, 0, 9, 7, 8, 8, 8, 36, 36, 25]"
   ]
  },
  {
   "cell_type": "code",
   "execution_count": 18,
   "id": "5f68697b",
   "metadata": {},
   "outputs": [],
   "source": [
    "del encoding_dict[34]"
   ]
  },
  {
   "cell_type": "code",
   "execution_count": 19,
   "id": "9977656d",
   "metadata": {},
   "outputs": [
    {
     "data": {
      "text/plain": [
       "{0: 'CC__CCD',\n",
       " 1: 'CC__CCS',\n",
       " 2: 'CC__CCS__UT',\n",
       " 3: 'DM__DMD',\n",
       " 4: 'DM__DMI',\n",
       " 5: 'DM__DMQ',\n",
       " 6: 'DM__DMR',\n",
       " 7: 'JJ',\n",
       " 8: 'N__NN',\n",
       " 9: 'N__NNP',\n",
       " 10: 'N__NNV',\n",
       " 11: 'N__NST',\n",
       " 12: 'PR__PRC',\n",
       " 13: 'PR__PRF',\n",
       " 14: 'PR__PRI',\n",
       " 15: 'PR__PRL',\n",
       " 16: 'PR__PRP',\n",
       " 17: 'PR__PRQ',\n",
       " 18: 'PSP',\n",
       " 19: 'QT__QTC',\n",
       " 20: 'QT__QTF',\n",
       " 21: 'QT__QTO',\n",
       " 22: 'RB',\n",
       " 23: 'RD__BUL',\n",
       " 24: 'RD__ECH',\n",
       " 25: 'RD__PUNC',\n",
       " 26: 'RD__RDF',\n",
       " 27: 'RD__RPD',\n",
       " 28: 'RD__SYM',\n",
       " 29: 'RP__CL',\n",
       " 30: 'RP__INJ',\n",
       " 31: 'RP__INTF',\n",
       " 32: 'RP__NEG',\n",
       " 33: 'RP__RPD',\n",
       " 35: 'V__VAUX',\n",
       " 36: 'V__VM__VF',\n",
       " 37: 'V__VM__VINF',\n",
       " 38: 'V__VM__VNF',\n",
       " 39: 'V__VM__VNG'}"
      ]
     },
     "execution_count": 19,
     "metadata": {},
     "output_type": "execute_result"
    }
   ],
   "source": [
    "encoding_dict"
   ]
  },
  {
   "cell_type": "code",
   "execution_count": 58,
   "id": "f2e35954",
   "metadata": {},
   "outputs": [],
   "source": [
    "# Assuming you have a DataFrame called 'df' with a column named 'pos_tags' containing lists of numbers\n",
    "\n",
    "# Define the numbers you want to change\n",
    "old_number = 39\n",
    "new_number = 38\n",
    "\n",
    "# Update the numbers in the 'pos_tags' column\n",
    "df['pos_tags'] = df['pos_tags'].apply(lambda x: [new_number if number == old_number else number for number in x])\n",
    "\n",
    "    \n"
   ]
  },
  {
   "cell_type": "code",
   "execution_count": 64,
   "id": "2e131905",
   "metadata": {},
   "outputs": [
    {
     "data": {
      "text/plain": [
       "39"
      ]
     },
     "execution_count": 64,
     "metadata": {},
     "output_type": "execute_result"
    }
   ],
   "source": [
    "num_labels = len(encoding_dict)\n",
    "num_labels"
   ]
  },
  {
   "cell_type": "code",
   "execution_count": 23,
   "id": "1102d692",
   "metadata": {},
   "outputs": [
    {
     "name": "stderr",
     "output_type": "stream",
     "text": [
      "2023-07-17 09:53:14.697545: I tensorflow/core/platform/cpu_feature_guard.cc:193] This TensorFlow binary is optimized with oneAPI Deep Neural Network Library (oneDNN) to use the following CPU instructions in performance-critical operations:  AVX2 AVX512F AVX512_VNNI FMA\n",
      "To enable them in other operations, rebuild TensorFlow with the appropriate compiler flags.\n",
      "2023-07-17 09:53:17.117453: I tensorflow/core/util/util.cc:169] oneDNN custom operations are on. You may see slightly different numerical results due to floating-point round-off errors from different computation orders. To turn them off, set the environment variable `TF_ENABLE_ONEDNN_OPTS=0`.\n",
      "2023-07-17 09:53:19.020934: E tensorflow/stream_executor/cuda/cuda_blas.cc:2981] Unable to register cuBLAS factory: Attempting to register factory for plugin cuBLAS when one has already been registered\n",
      "2023-07-17 09:53:26.090393: W tensorflow/stream_executor/platform/default/dso_loader.cc:64] Could not load dynamic library 'libnvinfer.so.7'; dlerror: libnvinfer.so.7: cannot open shared object file: No such file or directory\n",
      "2023-07-17 09:53:26.090612: W tensorflow/stream_executor/platform/default/dso_loader.cc:64] Could not load dynamic library 'libnvinfer_plugin.so.7'; dlerror: libnvinfer_plugin.so.7: cannot open shared object file: No such file or directory\n",
      "2023-07-17 09:53:26.090632: W tensorflow/compiler/tf2tensorrt/utils/py_utils.cc:38] TF-TRT Warning: Cannot dlopen some TensorRT libraries. If you would like to use Nvidia GPU with TensorRT, please make sure the missing libraries mentioned above are installed properly.\n"
     ]
    },
    {
     "data": {
      "application/vnd.jupyter.widget-view+json": {
       "model_id": "793a525b78734c07b6a981367b37e519",
       "version_major": 2,
       "version_minor": 0
      },
      "text/plain": [
       "Downloading (…)\"pytorch_model.bin\";:   0%|          | 0.00/135M [00:00<?, ?B/s]"
      ]
     },
     "metadata": {},
     "output_type": "display_data"
    },
    {
     "name": "stderr",
     "output_type": "stream",
     "text": [
      "Some weights of the model checkpoint at ai4bharat/indic-bert were not used when initializing AlbertForTokenClassification: ['sop_classifier.classifier.bias', 'predictions.dense.bias', 'predictions.LayerNorm.weight', 'predictions.bias', 'sop_classifier.classifier.weight', 'predictions.dense.weight', 'predictions.decoder.bias', 'predictions.LayerNorm.bias', 'predictions.decoder.weight']\n",
      "- This IS expected if you are initializing AlbertForTokenClassification from the checkpoint of a model trained on another task or with another architecture (e.g. initializing a BertForSequenceClassification model from a BertForPreTraining model).\n",
      "- This IS NOT expected if you are initializing AlbertForTokenClassification from the checkpoint of a model that you expect to be exactly identical (initializing a BertForSequenceClassification model from a BertForSequenceClassification model).\n",
      "Some weights of AlbertForTokenClassification were not initialized from the model checkpoint at ai4bharat/indic-bert and are newly initialized: ['classifier.bias', 'classifier.weight']\n",
      "You should probably TRAIN this model on a down-stream task to be able to use it for predictions and inference.\n"
     ]
    }
   ],
   "source": [
    "from transformers import AutoModelForTokenClassification, AutoConfig, AutoTokenizer, TrainingArguments, Trainer, DataCollatorForTokenClassification, EarlyStoppingCallback, IntervalStrategy\n",
    "import numpy as np\n",
    "\n",
    "config = AutoConfig.from_pretrained('ai4bharat/indic-bert', num_labels=num_labels, finetuning_task='ner')\n",
    "tokenizer = AutoTokenizer.from_pretrained(\"ai4bharat/indic-bert\")\n",
    "model = AutoModelForTokenClassification.from_pretrained('ai4bharat/indic-bert', num_labels=num_labels )"
   ]
  },
  {
   "cell_type": "code",
   "execution_count": 40,
   "id": "7bd2cd2b",
   "metadata": {},
   "outputs": [],
   "source": [
    "text_column_name = 'tokens'\n",
    "label_column_name = 'pos_tags'"
   ]
  },
  {
   "cell_type": "code",
   "execution_count": 42,
   "id": "44c34dd3",
   "metadata": {},
   "outputs": [],
   "source": [
    "# Tokenize all texts and align the labels with them.\n",
    "padding = \"max_length\"\n",
    "def tokenize_and_align_labels(examples):\n",
    "    tokenized_inputs = tokenizer(\n",
    "        examples[text_column_name],\n",
    "        padding=padding,\n",
    "        truncation=True,\n",
    "        max_length=512,\n",
    "        # We use this argument because the texts in our dataset are lists of words (with a label for each word).\n",
    "        is_split_into_words=True,\n",
    "    )\n",
    "    labels = []\n",
    "    for i, label in enumerate(examples[label_column_name]):\n",
    "        # print('=====')\n",
    "        # print('{} {}'.format(i,label)) #ak\n",
    "        word_ids = tokenized_inputs.word_ids(batch_index=i)\n",
    "        \n",
    "        previous_word_idx = None\n",
    "        label_ids = []\n",
    "        for word_idx in word_ids:\n",
    "            # Special tokens have a word id that is None. We set the label to -100 so they are automatically\n",
    "            # ignored in the loss function.\n",
    "            if word_idx is None:\n",
    "                label_ids.append(-100)\n",
    "            # We set the label for the first token of each word.\n",
    "            elif word_idx != previous_word_idx:\n",
    "                label_ids.append(label[word_idx])\n",
    "            # For the other tokens in a word, we set the label to either the current label or -100, depending on\n",
    "            # the label_all_tokens flag.\n",
    "            else:\n",
    "                label_ids.append(-100)\n",
    "            previous_word_idx = word_idx\n",
    "\n",
    "        labels.append(label_ids)\n",
    "    tokenized_inputs[\"labels\"] = labels\n",
    "    return tokenized_inputs"
   ]
  },
  {
   "cell_type": "code",
   "execution_count": 65,
   "id": "8c64fc84",
   "metadata": {},
   "outputs": [
    {
     "data": {
      "text/html": [
       "<div>\n",
       "<style scoped>\n",
       "    .dataframe tbody tr th:only-of-type {\n",
       "        vertical-align: middle;\n",
       "    }\n",
       "\n",
       "    .dataframe tbody tr th {\n",
       "        vertical-align: top;\n",
       "    }\n",
       "\n",
       "    .dataframe thead th {\n",
       "        text-align: right;\n",
       "    }\n",
       "</style>\n",
       "<table border=\"1\" class=\"dataframe\">\n",
       "  <thead>\n",
       "    <tr style=\"text-align: right;\">\n",
       "      <th></th>\n",
       "      <th>tokens</th>\n",
       "      <th>pos_tags</th>\n",
       "      <th>split</th>\n",
       "    </tr>\n",
       "  </thead>\n",
       "  <tbody>\n",
       "    <tr>\n",
       "      <th>0</th>\n",
       "      <td>[ಬಾಯಿಯ, ಆರೋಗ್ಯ, ,, ಸಾಮಾನ್ಯ, ದೇಹಾರೋಗ್ಯಗಳ, ನಡುವಣ...</td>\n",
       "      <td>[7, 8, 25, 7, 8, 33, 8, 25]</td>\n",
       "      <td>train</td>\n",
       "    </tr>\n",
       "    <tr>\n",
       "      <th>1</th>\n",
       "      <td>[ಬಾಯಿ, ಮತ್ತು, ದೇಹ, ಒಂದರಲ್ಲಿ, ಒಂದು, ಹಾಸುಹೊಕ್ಕಾಗ...</td>\n",
       "      <td>[8, 0, 8, 8, 19, 22, 37, 16, 25]</td>\n",
       "      <td>train</td>\n",
       "    </tr>\n",
       "    <tr>\n",
       "      <th>2</th>\n",
       "      <td>[ಬಾಯಿಯ, ಕಳಪೆ, ಆರೋಗ್ಯವು, -, ಅಸಮರ್ಪಕ, ಜಗಿಯುವಿಕೆ,...</td>\n",
       "      <td>[8, 7, 8, 28, 7, 10, 0, 8, 38, 8, 8, 7, 10, 33...</td>\n",
       "      <td>train</td>\n",
       "    </tr>\n",
       "    <tr>\n",
       "      <th>3</th>\n",
       "      <td>[ಹಲ್ಲುಗಳಲ್ಲಿ, ಬ್ಯಾಕ್ಟೀರಿಯಾ, ಸಂಗ್ರಹ, ಆಗುವುದು, ಅ...</td>\n",
       "      <td>[8, 8, 8, 35, 0, 8, 11, 8, 8, 8, 8, 7, 8, 28, ...</td>\n",
       "      <td>train</td>\n",
       "    </tr>\n",
       "    <tr>\n",
       "      <th>4</th>\n",
       "      <td>[ಹೃದ್ರೋಗಗಳು, ,, ಮಧುಮೇಹ, ,, ಪ್ರತಿಕೂಲ, ಪ್ರಸೂತಿ, ...</td>\n",
       "      <td>[8, 25, 8, 25, 7, 8, 8, 0, 9, 7, 8, 38, 20, 8,...</td>\n",
       "      <td>test</td>\n",
       "    </tr>\n",
       "    <tr>\n",
       "      <th>...</th>\n",
       "      <td>...</td>\n",
       "      <td>...</td>\n",
       "      <td>...</td>\n",
       "    </tr>\n",
       "    <tr>\n",
       "      <th>11699</th>\n",
       "      <td>[ಇಲಾಖೆಯು, ಕೈಗೊಂಡ, ಕೆಲಸದ, ಗುಣಮಟ್ಟವನ್ನು, ಮೇಲ್ವಿಚ...</td>\n",
       "      <td>[8, 38, 8, 8, 8, 35, 1, 35, 25]</td>\n",
       "      <td>train</td>\n",
       "    </tr>\n",
       "    <tr>\n",
       "      <th>11700</th>\n",
       "      <td>[ಈ, ಇಲಾಖೆಯ, ನಿರ್ವಹಣೆಯಲ್ಲಿ, ರಸ್ತೆಗಳಲ್ಲಿ, ನೀರು, ...</td>\n",
       "      <td>[3, 8, 10, 8, 8, 38, 37, 7, 8, 10, 33, 7, 8, 8...</td>\n",
       "      <td>train</td>\n",
       "    </tr>\n",
       "    <tr>\n",
       "      <th>11701</th>\n",
       "      <td>[ಭವಿಷ್ಯದಲ್ಲಿ, ನಡೆಸಲು, ಆಗುವ, ರಸ್ತೆ, ಮತ್ತು, ಸೇತು...</td>\n",
       "      <td>[8, 36, 34, 8, 0, 8, 8, 36, 7, 8, 35, 25]</td>\n",
       "      <td>train</td>\n",
       "    </tr>\n",
       "    <tr>\n",
       "      <th>11702</th>\n",
       "      <td>[ತಮಿಳುನಾಡಿನಲ್ಲಿ, ಚಿಕ್ಕ, ಬಂದರುಗಳನ್ನು, ಖಾಸಗಿ, ಹೂ...</td>\n",
       "      <td>[9, 7, 8, 7, 10, 33, 8, 35, 34, 25]</td>\n",
       "      <td>train</td>\n",
       "    </tr>\n",
       "    <tr>\n",
       "      <th>11703</th>\n",
       "      <td>[ಅವುಗಳ, ಬೆಳವಣಿಗೆಗೆ, ಅವಕಾಶಗಳನ್ನು, ಸೃಷ್ಟಿಸಲು, ಆಗ...</td>\n",
       "      <td>[3, 10, 8, 35, 34, 25]</td>\n",
       "      <td>train</td>\n",
       "    </tr>\n",
       "  </tbody>\n",
       "</table>\n",
       "<p>11704 rows × 3 columns</p>\n",
       "</div>"
      ],
      "text/plain": [
       "                                                  tokens  \\\n",
       "0      [ಬಾಯಿಯ, ಆರೋಗ್ಯ, ,, ಸಾಮಾನ್ಯ, ದೇಹಾರೋಗ್ಯಗಳ, ನಡುವಣ...   \n",
       "1      [ಬಾಯಿ, ಮತ್ತು, ದೇಹ, ಒಂದರಲ್ಲಿ, ಒಂದು, ಹಾಸುಹೊಕ್ಕಾಗ...   \n",
       "2      [ಬಾಯಿಯ, ಕಳಪೆ, ಆರೋಗ್ಯವು, -, ಅಸಮರ್ಪಕ, ಜಗಿಯುವಿಕೆ,...   \n",
       "3      [ಹಲ್ಲುಗಳಲ್ಲಿ, ಬ್ಯಾಕ್ಟೀರಿಯಾ, ಸಂಗ್ರಹ, ಆಗುವುದು, ಅ...   \n",
       "4      [ಹೃದ್ರೋಗಗಳು, ,, ಮಧುಮೇಹ, ,, ಪ್ರತಿಕೂಲ, ಪ್ರಸೂತಿ, ...   \n",
       "...                                                  ...   \n",
       "11699  [ಇಲಾಖೆಯು, ಕೈಗೊಂಡ, ಕೆಲಸದ, ಗುಣಮಟ್ಟವನ್ನು, ಮೇಲ್ವಿಚ...   \n",
       "11700  [ಈ, ಇಲಾಖೆಯ, ನಿರ್ವಹಣೆಯಲ್ಲಿ, ರಸ್ತೆಗಳಲ್ಲಿ, ನೀರು, ...   \n",
       "11701  [ಭವಿಷ್ಯದಲ್ಲಿ, ನಡೆಸಲು, ಆಗುವ, ರಸ್ತೆ, ಮತ್ತು, ಸೇತು...   \n",
       "11702  [ತಮಿಳುನಾಡಿನಲ್ಲಿ, ಚಿಕ್ಕ, ಬಂದರುಗಳನ್ನು, ಖಾಸಗಿ, ಹೂ...   \n",
       "11703  [ಅವುಗಳ, ಬೆಳವಣಿಗೆಗೆ, ಅವಕಾಶಗಳನ್ನು, ಸೃಷ್ಟಿಸಲು, ಆಗ...   \n",
       "\n",
       "                                                pos_tags  split  \n",
       "0                            [7, 8, 25, 7, 8, 33, 8, 25]  train  \n",
       "1                       [8, 0, 8, 8, 19, 22, 37, 16, 25]  train  \n",
       "2      [8, 7, 8, 28, 7, 10, 0, 8, 38, 8, 8, 7, 10, 33...  train  \n",
       "3      [8, 8, 8, 35, 0, 8, 11, 8, 8, 8, 8, 7, 8, 28, ...  train  \n",
       "4      [8, 25, 8, 25, 7, 8, 8, 0, 9, 7, 8, 38, 20, 8,...   test  \n",
       "...                                                  ...    ...  \n",
       "11699                    [8, 38, 8, 8, 8, 35, 1, 35, 25]  train  \n",
       "11700  [3, 8, 10, 8, 8, 38, 37, 7, 8, 10, 33, 7, 8, 8...  train  \n",
       "11701          [8, 36, 34, 8, 0, 8, 8, 36, 7, 8, 35, 25]  train  \n",
       "11702                [9, 7, 8, 7, 10, 33, 8, 35, 34, 25]  train  \n",
       "11703                             [3, 10, 8, 35, 34, 25]  train  \n",
       "\n",
       "[11704 rows x 3 columns]"
      ]
     },
     "execution_count": 65,
     "metadata": {},
     "output_type": "execute_result"
    }
   ],
   "source": [
    "df"
   ]
  },
  {
   "cell_type": "code",
   "execution_count": 29,
   "id": "b5a59753",
   "metadata": {},
   "outputs": [
    {
     "data": {
      "text/html": [
       "<div>\n",
       "<style scoped>\n",
       "    .dataframe tbody tr th:only-of-type {\n",
       "        vertical-align: middle;\n",
       "    }\n",
       "\n",
       "    .dataframe tbody tr th {\n",
       "        vertical-align: top;\n",
       "    }\n",
       "\n",
       "    .dataframe thead th {\n",
       "        text-align: right;\n",
       "    }\n",
       "</style>\n",
       "<table border=\"1\" class=\"dataframe\">\n",
       "  <thead>\n",
       "    <tr style=\"text-align: right;\">\n",
       "      <th></th>\n",
       "      <th>tokens</th>\n",
       "      <th>pos_tags</th>\n",
       "      <th>split</th>\n",
       "    </tr>\n",
       "  </thead>\n",
       "  <tbody>\n",
       "    <tr>\n",
       "      <th>0</th>\n",
       "      <td>[ಬಾಯಿಯ, ಆರೋಗ್ಯ, ,, ಸಾಮಾನ್ಯ, ದೇಹಾರೋಗ್ಯಗಳ, ನಡುವಣ...</td>\n",
       "      <td>[7, 8, 25, 7, 8, 33, 8, 25]</td>\n",
       "      <td>train</td>\n",
       "    </tr>\n",
       "    <tr>\n",
       "      <th>1</th>\n",
       "      <td>[ಬಾಯಿ, ಮತ್ತು, ದೇಹ, ಒಂದರಲ್ಲಿ, ಒಂದು, ಹಾಸುಹೊಕ್ಕಾಗ...</td>\n",
       "      <td>[8, 0, 8, 8, 19, 22, 38, 16, 25]</td>\n",
       "      <td>train</td>\n",
       "    </tr>\n",
       "    <tr>\n",
       "      <th>2</th>\n",
       "      <td>[ಬಾಯಿಯ, ಕಳಪೆ, ಆರೋಗ್ಯವು, -, ಅಸಮರ್ಪಕ, ಜಗಿಯುವಿಕೆ,...</td>\n",
       "      <td>[8, 7, 8, 28, 7, 10, 0, 8, 39, 8, 8, 7, 10, 33...</td>\n",
       "      <td>train</td>\n",
       "    </tr>\n",
       "    <tr>\n",
       "      <th>3</th>\n",
       "      <td>[ಹಲ್ಲುಗಳಲ್ಲಿ, ಬ್ಯಾಕ್ಟೀರಿಯಾ, ಸಂಗ್ರಹ, ಆಗುವುದು, ಅ...</td>\n",
       "      <td>[8, 8, 8, 36, 0, 8, 11, 8, 8, 8, 8, 7, 8, 28, ...</td>\n",
       "      <td>train</td>\n",
       "    </tr>\n",
       "    <tr>\n",
       "      <th>4</th>\n",
       "      <td>[ಹೃದ್ರೋಗಗಳು, ,, ಮಧುಮೇಹ, ,, ಪ್ರತಿಕೂಲ, ಪ್ರಸೂತಿ, ...</td>\n",
       "      <td>[8, 25, 8, 25, 7, 8, 8, 0, 9, 7, 8, 39, 20, 8,...</td>\n",
       "      <td>test</td>\n",
       "    </tr>\n",
       "    <tr>\n",
       "      <th>...</th>\n",
       "      <td>...</td>\n",
       "      <td>...</td>\n",
       "      <td>...</td>\n",
       "    </tr>\n",
       "    <tr>\n",
       "      <th>11699</th>\n",
       "      <td>[ಇಲಾಖೆಯು, ಕೈಗೊಂಡ, ಕೆಲಸದ, ಗುಣಮಟ್ಟವನ್ನು, ಮೇಲ್ವಿಚ...</td>\n",
       "      <td>[8, 39, 8, 8, 8, 36, 1, 36, 25]</td>\n",
       "      <td>train</td>\n",
       "    </tr>\n",
       "    <tr>\n",
       "      <th>11700</th>\n",
       "      <td>[ಈ, ಇಲಾಖೆಯ, ನಿರ್ವಹಣೆಯಲ್ಲಿ, ರಸ್ತೆಗಳಲ್ಲಿ, ನೀರು, ...</td>\n",
       "      <td>[3, 8, 10, 8, 8, 39, 38, 7, 8, 10, 33, 7, 8, 8...</td>\n",
       "      <td>train</td>\n",
       "    </tr>\n",
       "    <tr>\n",
       "      <th>11701</th>\n",
       "      <td>[ಭವಿಷ್ಯದಲ್ಲಿ, ನಡೆಸಲು, ಆಗುವ, ರಸ್ತೆ, ಮತ್ತು, ಸೇತು...</td>\n",
       "      <td>[8, 37, 35, 8, 0, 8, 8, 37, 7, 8, 36, 25]</td>\n",
       "      <td>train</td>\n",
       "    </tr>\n",
       "    <tr>\n",
       "      <th>11702</th>\n",
       "      <td>[ತಮಿಳುನಾಡಿನಲ್ಲಿ, ಚಿಕ್ಕ, ಬಂದರುಗಳನ್ನು, ಖಾಸಗಿ, ಹೂ...</td>\n",
       "      <td>[9, 7, 8, 7, 10, 33, 8, 36, 35, 25]</td>\n",
       "      <td>train</td>\n",
       "    </tr>\n",
       "    <tr>\n",
       "      <th>11703</th>\n",
       "      <td>[ಅವುಗಳ, ಬೆಳವಣಿಗೆಗೆ, ಅವಕಾಶಗಳನ್ನು, ಸೃಷ್ಟಿಸಲು, ಆಗ...</td>\n",
       "      <td>[3, 10, 8, 36, 35, 25]</td>\n",
       "      <td>train</td>\n",
       "    </tr>\n",
       "  </tbody>\n",
       "</table>\n",
       "<p>11704 rows × 3 columns</p>\n",
       "</div>"
      ],
      "text/plain": [
       "                                                  tokens  \\\n",
       "0      [ಬಾಯಿಯ, ಆರೋಗ್ಯ, ,, ಸಾಮಾನ್ಯ, ದೇಹಾರೋಗ್ಯಗಳ, ನಡುವಣ...   \n",
       "1      [ಬಾಯಿ, ಮತ್ತು, ದೇಹ, ಒಂದರಲ್ಲಿ, ಒಂದು, ಹಾಸುಹೊಕ್ಕಾಗ...   \n",
       "2      [ಬಾಯಿಯ, ಕಳಪೆ, ಆರೋಗ್ಯವು, -, ಅಸಮರ್ಪಕ, ಜಗಿಯುವಿಕೆ,...   \n",
       "3      [ಹಲ್ಲುಗಳಲ್ಲಿ, ಬ್ಯಾಕ್ಟೀರಿಯಾ, ಸಂಗ್ರಹ, ಆಗುವುದು, ಅ...   \n",
       "4      [ಹೃದ್ರೋಗಗಳು, ,, ಮಧುಮೇಹ, ,, ಪ್ರತಿಕೂಲ, ಪ್ರಸೂತಿ, ...   \n",
       "...                                                  ...   \n",
       "11699  [ಇಲಾಖೆಯು, ಕೈಗೊಂಡ, ಕೆಲಸದ, ಗುಣಮಟ್ಟವನ್ನು, ಮೇಲ್ವಿಚ...   \n",
       "11700  [ಈ, ಇಲಾಖೆಯ, ನಿರ್ವಹಣೆಯಲ್ಲಿ, ರಸ್ತೆಗಳಲ್ಲಿ, ನೀರು, ...   \n",
       "11701  [ಭವಿಷ್ಯದಲ್ಲಿ, ನಡೆಸಲು, ಆಗುವ, ರಸ್ತೆ, ಮತ್ತು, ಸೇತು...   \n",
       "11702  [ತಮಿಳುನಾಡಿನಲ್ಲಿ, ಚಿಕ್ಕ, ಬಂದರುಗಳನ್ನು, ಖಾಸಗಿ, ಹೂ...   \n",
       "11703  [ಅವುಗಳ, ಬೆಳವಣಿಗೆಗೆ, ಅವಕಾಶಗಳನ್ನು, ಸೃಷ್ಟಿಸಲು, ಆಗ...   \n",
       "\n",
       "                                                pos_tags  split  \n",
       "0                            [7, 8, 25, 7, 8, 33, 8, 25]  train  \n",
       "1                       [8, 0, 8, 8, 19, 22, 38, 16, 25]  train  \n",
       "2      [8, 7, 8, 28, 7, 10, 0, 8, 39, 8, 8, 7, 10, 33...  train  \n",
       "3      [8, 8, 8, 36, 0, 8, 11, 8, 8, 8, 8, 7, 8, 28, ...  train  \n",
       "4      [8, 25, 8, 25, 7, 8, 8, 0, 9, 7, 8, 39, 20, 8,...   test  \n",
       "...                                                  ...    ...  \n",
       "11699                    [8, 39, 8, 8, 8, 36, 1, 36, 25]  train  \n",
       "11700  [3, 8, 10, 8, 8, 39, 38, 7, 8, 10, 33, 7, 8, 8...  train  \n",
       "11701          [8, 37, 35, 8, 0, 8, 8, 37, 7, 8, 36, 25]  train  \n",
       "11702                [9, 7, 8, 7, 10, 33, 8, 36, 35, 25]  train  \n",
       "11703                             [3, 10, 8, 36, 35, 25]  train  \n",
       "\n",
       "[11704 rows x 3 columns]"
      ]
     },
     "execution_count": 29,
     "metadata": {},
     "output_type": "execute_result"
    }
   ],
   "source": [
    "import numpy as np\n",
    "\n",
    "# Set the number of rows for each split\n",
    "validation_count = 500\n",
    "test_count = 200\n",
    "\n",
    "# Assign splits randomly\n",
    "np.random.seed(42)  # For reproducibility\n",
    "split_values = np.array([\"validation\"] * validation_count + [\"test\"] * test_count + [\"train\"] * (len(df) - validation_count - test_count))\n",
    "np.random.shuffle(split_values)\n",
    "\n",
    "# Add the \"split\" column to the DataFrame\n",
    "df[\"split\"] = split_values\n",
    "\n",
    "# Print the updated DataFrame\n",
    "df"
   ]
  },
  {
   "cell_type": "code",
   "execution_count": 66,
   "id": "0f114ef0",
   "metadata": {},
   "outputs": [
    {
     "name": "stdout",
     "output_type": "stream",
     "text": [
      "DatasetDict({\n",
      "    train: Dataset({\n",
      "        features: ['tokens', 'pos_tags'],\n",
      "        num_rows: 11004\n",
      "    })\n",
      "    test: Dataset({\n",
      "        features: ['tokens', 'pos_tags'],\n",
      "        num_rows: 200\n",
      "    })\n",
      "    validation: Dataset({\n",
      "        features: ['tokens', 'pos_tags'],\n",
      "        num_rows: 500\n",
      "    })\n",
      "})\n"
     ]
    }
   ],
   "source": [
    "from datasets import DatasetDict, Dataset\n",
    "\n",
    "# Assuming you have a DataFrame called 'df' with columns 'tokens', 'pos_tags', and 'split'\n",
    "\n",
    "# Create a dictionary to store the dataset splits\n",
    "dataset_dict = DatasetDict()\n",
    "\n",
    "# Select the columns of interest\n",
    "selected_columns = [\"tokens\", \"pos_tags\"]\n",
    "\n",
    "# Create a dataset for the training split\n",
    "train_dataset = Dataset.from_pandas(df[df['split'] == 'train'][selected_columns])\n",
    "train_dataset = train_dataset.remove_columns(\"__index_level_0__\")  # Remove the '__index_level_0__' column\n",
    "dataset_dict['train'] = train_dataset\n",
    "\n",
    "# Create a dataset for the test split\n",
    "test_dataset = Dataset.from_pandas(df[df['split'] == 'test'][selected_columns])\n",
    "test_dataset = test_dataset.remove_columns(\"__index_level_0__\")  # Remove the '__index_level_0__' column\n",
    "dataset_dict['test'] = test_dataset\n",
    "\n",
    "# Create a dataset for the validation split\n",
    "val_dataset = Dataset.from_pandas(df[df['split'] == 'validation'][selected_columns])\n",
    "val_dataset = val_dataset.remove_columns(\"__index_level_0__\")  # Remove the '__index_level_0__' column\n",
    "dataset_dict['validation'] = val_dataset\n",
    "\n",
    "# Print the dataset structure\n",
    "print(dataset_dict)\n"
   ]
  },
  {
   "cell_type": "code",
   "execution_count": 67,
   "id": "e3731168",
   "metadata": {},
   "outputs": [
    {
     "data": {
      "text/plain": [
       "[8, 25, 8, 25, 7, 8, 8, 0, 9, 7, 8, 38, 20, 8, 33, 7, 8, 7, 8, 35, 25]"
      ]
     },
     "execution_count": 67,
     "metadata": {},
     "output_type": "execute_result"
    }
   ],
   "source": [
    "dataset_dict['test']['pos_tags'][0]"
   ]
  },
  {
   "cell_type": "code",
   "execution_count": 68,
   "id": "439f1d60",
   "metadata": {},
   "outputs": [
    {
     "name": "stdout",
     "output_type": "stream",
     "text": [
      "     "
     ]
    },
    {
     "data": {
      "application/vnd.jupyter.widget-view+json": {
       "model_id": "8c4220f4613148f2818538a11d615b3f",
       "version_major": 2,
       "version_minor": 0
      },
      "text/plain": [
       "Running tokenizer on train dataset #0:   0%|          | 0/3 [00:00<?, ?ba/s]"
      ]
     },
     "metadata": {},
     "output_type": "display_data"
    },
    {
     "name": "stdout",
     "output_type": "stream",
     "text": [
      " "
     ]
    },
    {
     "data": {
      "application/vnd.jupyter.widget-view+json": {
       "model_id": "85327dc3a832416591fe0e622638906d",
       "version_major": 2,
       "version_minor": 0
      },
      "text/plain": [
       "Running tokenizer on train dataset #1:   0%|          | 0/3 [00:00<?, ?ba/s]"
      ]
     },
     "metadata": {},
     "output_type": "display_data"
    },
    {
     "name": "stdout",
     "output_type": "stream",
     "text": [
      " "
     ]
    },
    {
     "data": {
      "application/vnd.jupyter.widget-view+json": {
       "model_id": "e801af4e09bf41e8a5461c8c027f09cc",
       "version_major": 2,
       "version_minor": 0
      },
      "text/plain": [
       "Running tokenizer on train dataset #2:   0%|          | 0/3 [00:00<?, ?ba/s]"
      ]
     },
     "metadata": {},
     "output_type": "display_data"
    },
    {
     "name": "stdout",
     "output_type": "stream",
     "text": [
      " "
     ]
    },
    {
     "data": {
      "application/vnd.jupyter.widget-view+json": {
       "model_id": "af72a37a6f2a4142ae617bc425b25062",
       "version_major": 2,
       "version_minor": 0
      },
      "text/plain": [
       "Running tokenizer on train dataset #3:   0%|          | 0/3 [00:00<?, ?ba/s]"
      ]
     },
     "metadata": {},
     "output_type": "display_data"
    }
   ],
   "source": [
    "train_dataset = dataset_dict[\"train\"]\n",
    "train_dataset = train_dataset.map(\n",
    "    tokenize_and_align_labels,\n",
    "    batched=True,\n",
    "    num_proc=4,\n",
    "    load_from_cache_file=True,\n",
    "    desc=\"Running tokenizer on train dataset\",\n",
    ")"
   ]
  },
  {
   "cell_type": "code",
   "execution_count": 69,
   "id": "6a88a73b",
   "metadata": {},
   "outputs": [
    {
     "name": "stdout",
     "output_type": "stream",
     "text": [
      "      "
     ]
    },
    {
     "data": {
      "application/vnd.jupyter.widget-view+json": {
       "model_id": "30b1337461eb40d7ab081615ffda5db2",
       "version_major": 2,
       "version_minor": 0
      },
      "text/plain": [
       "Running tokenizer on Validation dataset #0:   0%|          | 0/1 [00:00<?, ?ba/s]"
      ]
     },
     "metadata": {},
     "output_type": "display_data"
    },
    {
     "name": "stdout",
     "output_type": "stream",
     "text": [
      " "
     ]
    },
    {
     "data": {
      "application/vnd.jupyter.widget-view+json": {
       "model_id": "755f5d9e8d87445f9ab3a7f5f97225f5",
       "version_major": 2,
       "version_minor": 0
      },
      "text/plain": [
       "Running tokenizer on Validation dataset #1:   0%|          | 0/1 [00:00<?, ?ba/s]"
      ]
     },
     "metadata": {},
     "output_type": "display_data"
    },
    {
     "name": "stdout",
     "output_type": "stream",
     "text": [
      " "
     ]
    },
    {
     "data": {
      "application/vnd.jupyter.widget-view+json": {
       "model_id": "8ad764f85a3643e68539d76af5a0f08f",
       "version_major": 2,
       "version_minor": 0
      },
      "text/plain": [
       "Running tokenizer on Validation dataset #2:   0%|          | 0/1 [00:00<?, ?ba/s]"
      ]
     },
     "metadata": {},
     "output_type": "display_data"
    },
    {
     "data": {
      "application/vnd.jupyter.widget-view+json": {
       "model_id": "984c73e8f57f4a4e8b9c5a8042233566",
       "version_major": 2,
       "version_minor": 0
      },
      "text/plain": [
       "Running tokenizer on Validation dataset #3:   0%|          | 0/1 [00:00<?, ?ba/s]"
      ]
     },
     "metadata": {},
     "output_type": "display_data"
    }
   ],
   "source": [
    "eval_dataset = dataset_dict[\"validation\"]\n",
    "eval_dataset = eval_dataset.map(\n",
    "    tokenize_and_align_labels,\n",
    "    batched=True,\n",
    "    num_proc=4,\n",
    "    load_from_cache_file=True,\n",
    "    desc=\"Running tokenizer on Validation dataset\",\n",
    ")"
   ]
  },
  {
   "cell_type": "code",
   "execution_count": 70,
   "id": "4be0ef43",
   "metadata": {},
   "outputs": [
    {
     "data": {
      "text/plain": [
       "Dataset({\n",
       "    features: ['tokens', 'pos_tags', 'input_ids', 'token_type_ids', 'attention_mask', 'labels'],\n",
       "    num_rows: 500\n",
       "})"
      ]
     },
     "execution_count": 70,
     "metadata": {},
     "output_type": "execute_result"
    }
   ],
   "source": [
    "eval_dataset"
   ]
  },
  {
   "cell_type": "code",
   "execution_count": 71,
   "id": "ebf746d5",
   "metadata": {},
   "outputs": [],
   "source": [
    "data_collator = DataCollatorForTokenClassification(tokenizer)"
   ]
  },
  {
   "cell_type": "code",
   "execution_count": 72,
   "id": "5fad4fb9",
   "metadata": {},
   "outputs": [],
   "source": [
    "# Metrics\n",
    "metric = load_metric(\"seqeval\")\n",
    "\n",
    "def compute_metrics(p):\n",
    "    predictions, labels = p\n",
    "    predictions = np.argmax(predictions, axis=2)\n",
    "\n",
    "    # Remove ignored index (special tokens)\n",
    "    true_predictions = [\n",
    "        [label_list[p] for (p, l) in zip(prediction, label) if l != -100]\n",
    "        for prediction, label in zip(predictions, labels)\n",
    "    ]\n",
    "    true_labels = [\n",
    "        [label_list[l] for (p, l) in zip(prediction, label) if l != -100]\n",
    "        for prediction, label in zip(predictions, labels)\n",
    "    ]\n",
    "\n",
    "    results = metric.compute(predictions=true_predictions, references=true_labels)\n",
    "    # Unpack nested dictionaries\n",
    "    final_results = {}\n",
    "    for key, value in results.items():\n",
    "        if isinstance(value, dict):\n",
    "            for n, v in value.items():\n",
    "                final_results[f\"{key}_{n}\"] = v\n",
    "        else:\n",
    "            final_results[key] = value\n",
    "    return final_results"
   ]
  },
  {
   "cell_type": "code",
   "execution_count": 73,
   "id": "93743819",
   "metadata": {},
   "outputs": [
    {
     "name": "stderr",
     "output_type": "stream",
     "text": [
      "PyTorch: setting up devices\n",
      "The default value for the training argument `--report_to` will change in v5 (from all installed integrations to none). In v5, you will need to use `--report_to all` to get the same behavior as now. You should start updating your code and make this info disappear :-).\n"
     ]
    }
   ],
   "source": [
    "# args=TrainingArguments(output_dir='output_dir',max_steps=5)\n",
    "args=TrainingArguments(\n",
    "    output_dir='output_dir',\n",
    "    per_device_train_batch_size=8,\n",
    "    per_device_eval_batch_size=8,)"
   ]
  },
  {
   "cell_type": "code",
   "execution_count": 74,
   "id": "1af96f0a",
   "metadata": {},
   "outputs": [],
   "source": [
    "# Initialize our Trainer\n",
    "# early_stopping_callback = EarlyStoppingCallback(early_stopping_patience=2)\n",
    "# args.metric_for_best_model = \"f1\"\n",
    "# args.load_best_model_at_end = True\n",
    "# args.evaluation_strategy = IntervalStrategy.STEPS\n",
    "# args.eval_steps = args.save_steps\n",
    "# args.greater_is_better = True\n",
    "\n",
    "trainer = Trainer(\n",
    "    model=model,\n",
    "    train_dataset=train_dataset,\n",
    "    eval_dataset=eval_dataset,\n",
    "    tokenizer=tokenizer,\n",
    "    data_collator=data_collator,\n",
    "    compute_metrics=compute_metrics,\n",
    "    # callbacks=[early_stopping_callback],\n",
    "    args=args,\n",
    ")"
   ]
  },
  {
   "cell_type": "code",
   "execution_count": 75,
   "id": "c802740a",
   "metadata": {},
   "outputs": [
    {
     "data": {
      "text/plain": [
       "TrainingArguments(\n",
       "_n_gpu=0,\n",
       "adafactor=False,\n",
       "adam_beta1=0.9,\n",
       "adam_beta2=0.999,\n",
       "adam_epsilon=1e-08,\n",
       "auto_find_batch_size=False,\n",
       "bf16=False,\n",
       "bf16_full_eval=False,\n",
       "data_seed=None,\n",
       "dataloader_drop_last=False,\n",
       "dataloader_num_workers=0,\n",
       "dataloader_pin_memory=True,\n",
       "ddp_bucket_cap_mb=None,\n",
       "ddp_find_unused_parameters=None,\n",
       "ddp_timeout=1800,\n",
       "debug=[],\n",
       "deepspeed=None,\n",
       "disable_tqdm=False,\n",
       "do_eval=False,\n",
       "do_predict=False,\n",
       "do_train=False,\n",
       "eval_accumulation_steps=None,\n",
       "eval_delay=0,\n",
       "eval_steps=None,\n",
       "evaluation_strategy=no,\n",
       "fp16=False,\n",
       "fp16_backend=auto,\n",
       "fp16_full_eval=False,\n",
       "fp16_opt_level=O1,\n",
       "fsdp=[],\n",
       "fsdp_min_num_params=0,\n",
       "fsdp_transformer_layer_cls_to_wrap=None,\n",
       "full_determinism=False,\n",
       "gradient_accumulation_steps=1,\n",
       "gradient_checkpointing=False,\n",
       "greater_is_better=None,\n",
       "group_by_length=False,\n",
       "half_precision_backend=auto,\n",
       "hub_model_id=None,\n",
       "hub_private_repo=False,\n",
       "hub_strategy=every_save,\n",
       "hub_token=<HUB_TOKEN>,\n",
       "ignore_data_skip=False,\n",
       "include_inputs_for_metrics=False,\n",
       "jit_mode_eval=False,\n",
       "label_names=None,\n",
       "label_smoothing_factor=0.0,\n",
       "learning_rate=5e-05,\n",
       "length_column_name=length,\n",
       "load_best_model_at_end=False,\n",
       "local_rank=-1,\n",
       "log_level=passive,\n",
       "log_level_replica=passive,\n",
       "log_on_each_node=True,\n",
       "logging_dir=output_dir/runs/Jul17_10-35-24_selab-38,\n",
       "logging_first_step=False,\n",
       "logging_nan_inf_filter=True,\n",
       "logging_steps=500,\n",
       "logging_strategy=steps,\n",
       "lr_scheduler_type=linear,\n",
       "max_grad_norm=1.0,\n",
       "max_steps=-1,\n",
       "metric_for_best_model=None,\n",
       "mp_parameters=,\n",
       "no_cuda=False,\n",
       "num_train_epochs=3.0,\n",
       "optim=adamw_hf,\n",
       "output_dir=output_dir,\n",
       "overwrite_output_dir=False,\n",
       "past_index=-1,\n",
       "per_device_eval_batch_size=8,\n",
       "per_device_train_batch_size=8,\n",
       "prediction_loss_only=False,\n",
       "push_to_hub=False,\n",
       "push_to_hub_model_id=None,\n",
       "push_to_hub_organization=None,\n",
       "push_to_hub_token=<PUSH_TO_HUB_TOKEN>,\n",
       "ray_scope=last,\n",
       "remove_unused_columns=True,\n",
       "report_to=['tensorboard', 'wandb'],\n",
       "resume_from_checkpoint=None,\n",
       "run_name=output_dir,\n",
       "save_on_each_node=False,\n",
       "save_steps=500,\n",
       "save_strategy=steps,\n",
       "save_total_limit=None,\n",
       "seed=42,\n",
       "sharded_ddp=[],\n",
       "skip_memory_metrics=True,\n",
       "tf32=None,\n",
       "torchdynamo=None,\n",
       "tpu_metrics_debug=False,\n",
       "tpu_num_cores=None,\n",
       "use_ipex=False,\n",
       "use_legacy_prediction_loop=False,\n",
       "use_mps_device=False,\n",
       "warmup_ratio=0.0,\n",
       "warmup_steps=0,\n",
       "weight_decay=0.0,\n",
       "xpu_backend=None,\n",
       ")"
      ]
     },
     "execution_count": 75,
     "metadata": {},
     "output_type": "execute_result"
    }
   ],
   "source": [
    "trainer.args"
   ]
  },
  {
   "cell_type": "code",
   "execution_count": 76,
   "id": "ca53a876",
   "metadata": {},
   "outputs": [
    {
     "name": "stderr",
     "output_type": "stream",
     "text": [
      "The following columns in the training set don't have a corresponding argument in `AlbertForTokenClassification.forward` and have been ignored: pos_tags, tokens. If pos_tags, tokens are not expected by `AlbertForTokenClassification.forward`,  you can safely ignore this message.\n",
      "/home/pranam/anaconda3/lib/python3.9/site-packages/transformers/optimization.py:306: FutureWarning: This implementation of AdamW is deprecated and will be removed in a future version. Use the PyTorch implementation torch.optim.AdamW instead, or set `no_deprecation_warning=True` to disable this warning\n",
      "  warnings.warn(\n",
      "***** Running training *****\n",
      "  Num examples = 11004\n",
      "  Num Epochs = 3\n",
      "  Instantaneous batch size per device = 8\n",
      "  Total train batch size (w. parallel, distributed & accumulation) = 8\n",
      "  Gradient Accumulation steps = 1\n",
      "  Total optimization steps = 4128\n",
      "Automatic Weights & Biases logging enabled, to disable set os.environ[\"WANDB_DISABLED\"] = \"true\"\n"
     ]
    },
    {
     "data": {
      "text/html": [
       "\n",
       "    <div>\n",
       "      \n",
       "      <progress value='12' max='4128' style='width:300px; height:20px; vertical-align: middle;'></progress>\n",
       "      [  12/4128 01:10 < 8:02:39, 0.14 it/s, Epoch 0.01/3]\n",
       "    </div>\n",
       "    <table border=\"1\" class=\"dataframe\">\n",
       "  <thead>\n",
       " <tr style=\"text-align: left;\">\n",
       "      <th>Step</th>\n",
       "      <th>Training Loss</th>\n",
       "    </tr>\n",
       "  </thead>\n",
       "  <tbody>\n",
       "  </tbody>\n",
       "</table><p>"
      ],
      "text/plain": [
       "<IPython.core.display.HTML object>"
      ]
     },
     "metadata": {},
     "output_type": "display_data"
    },
    {
     "ename": "KeyboardInterrupt",
     "evalue": "",
     "output_type": "error",
     "traceback": [
      "\u001b[0;31m---------------------------------------------------------------------------\u001b[0m",
      "\u001b[0;31mKeyboardInterrupt\u001b[0m                         Traceback (most recent call last)",
      "\u001b[0;32m/tmp/ipykernel_5637/610383343.py\u001b[0m in \u001b[0;36m<module>\u001b[0;34m\u001b[0m\n\u001b[0;32m----> 1\u001b[0;31m \u001b[0mtrain_result\u001b[0m \u001b[0;34m=\u001b[0m \u001b[0mtrainer\u001b[0m\u001b[0;34m.\u001b[0m\u001b[0mtrain\u001b[0m\u001b[0;34m(\u001b[0m\u001b[0;34m)\u001b[0m\u001b[0;34m\u001b[0m\u001b[0;34m\u001b[0m\u001b[0m\n\u001b[0m\u001b[1;32m      2\u001b[0m \u001b[0mmetrics\u001b[0m \u001b[0;34m=\u001b[0m \u001b[0mtrain_result\u001b[0m\u001b[0;34m.\u001b[0m\u001b[0mmetrics\u001b[0m\u001b[0;34m\u001b[0m\u001b[0;34m\u001b[0m\u001b[0m\n",
      "\u001b[0;32m~/anaconda3/lib/python3.9/site-packages/transformers/trainer.py\u001b[0m in \u001b[0;36mtrain\u001b[0;34m(self, resume_from_checkpoint, trial, ignore_keys_for_eval, **kwargs)\u001b[0m\n\u001b[1;32m   1498\u001b[0m             \u001b[0mself\u001b[0m\u001b[0;34m.\u001b[0m\u001b[0m_inner_training_loop\u001b[0m\u001b[0;34m,\u001b[0m \u001b[0mself\u001b[0m\u001b[0;34m.\u001b[0m\u001b[0m_train_batch_size\u001b[0m\u001b[0;34m,\u001b[0m \u001b[0margs\u001b[0m\u001b[0;34m.\u001b[0m\u001b[0mauto_find_batch_size\u001b[0m\u001b[0;34m\u001b[0m\u001b[0;34m\u001b[0m\u001b[0m\n\u001b[1;32m   1499\u001b[0m         )\n\u001b[0;32m-> 1500\u001b[0;31m         return inner_training_loop(\n\u001b[0m\u001b[1;32m   1501\u001b[0m             \u001b[0margs\u001b[0m\u001b[0;34m=\u001b[0m\u001b[0margs\u001b[0m\u001b[0;34m,\u001b[0m\u001b[0;34m\u001b[0m\u001b[0;34m\u001b[0m\u001b[0m\n\u001b[1;32m   1502\u001b[0m             \u001b[0mresume_from_checkpoint\u001b[0m\u001b[0;34m=\u001b[0m\u001b[0mresume_from_checkpoint\u001b[0m\u001b[0;34m,\u001b[0m\u001b[0;34m\u001b[0m\u001b[0;34m\u001b[0m\u001b[0m\n",
      "\u001b[0;32m~/anaconda3/lib/python3.9/site-packages/transformers/trainer.py\u001b[0m in \u001b[0;36m_inner_training_loop\u001b[0;34m(self, batch_size, args, resume_from_checkpoint, trial, ignore_keys_for_eval)\u001b[0m\n\u001b[1;32m   1740\u001b[0m                         \u001b[0mtr_loss_step\u001b[0m \u001b[0;34m=\u001b[0m \u001b[0mself\u001b[0m\u001b[0;34m.\u001b[0m\u001b[0mtraining_step\u001b[0m\u001b[0;34m(\u001b[0m\u001b[0mmodel\u001b[0m\u001b[0;34m,\u001b[0m \u001b[0minputs\u001b[0m\u001b[0;34m)\u001b[0m\u001b[0;34m\u001b[0m\u001b[0;34m\u001b[0m\u001b[0m\n\u001b[1;32m   1741\u001b[0m                 \u001b[0;32melse\u001b[0m\u001b[0;34m:\u001b[0m\u001b[0;34m\u001b[0m\u001b[0;34m\u001b[0m\u001b[0m\n\u001b[0;32m-> 1742\u001b[0;31m                     \u001b[0mtr_loss_step\u001b[0m \u001b[0;34m=\u001b[0m \u001b[0mself\u001b[0m\u001b[0;34m.\u001b[0m\u001b[0mtraining_step\u001b[0m\u001b[0;34m(\u001b[0m\u001b[0mmodel\u001b[0m\u001b[0;34m,\u001b[0m \u001b[0minputs\u001b[0m\u001b[0;34m)\u001b[0m\u001b[0;34m\u001b[0m\u001b[0;34m\u001b[0m\u001b[0m\n\u001b[0m\u001b[1;32m   1743\u001b[0m \u001b[0;34m\u001b[0m\u001b[0m\n\u001b[1;32m   1744\u001b[0m                 if (\n",
      "\u001b[0;32m~/anaconda3/lib/python3.9/site-packages/transformers/trainer.py\u001b[0m in \u001b[0;36mtraining_step\u001b[0;34m(self, model, inputs)\u001b[0m\n\u001b[1;32m   2502\u001b[0m             \u001b[0mloss\u001b[0m \u001b[0;34m=\u001b[0m \u001b[0mself\u001b[0m\u001b[0;34m.\u001b[0m\u001b[0mdeepspeed\u001b[0m\u001b[0;34m.\u001b[0m\u001b[0mbackward\u001b[0m\u001b[0;34m(\u001b[0m\u001b[0mloss\u001b[0m\u001b[0;34m)\u001b[0m\u001b[0;34m\u001b[0m\u001b[0;34m\u001b[0m\u001b[0m\n\u001b[1;32m   2503\u001b[0m         \u001b[0;32melse\u001b[0m\u001b[0;34m:\u001b[0m\u001b[0;34m\u001b[0m\u001b[0;34m\u001b[0m\u001b[0m\n\u001b[0;32m-> 2504\u001b[0;31m             \u001b[0mloss\u001b[0m\u001b[0;34m.\u001b[0m\u001b[0mbackward\u001b[0m\u001b[0;34m(\u001b[0m\u001b[0;34m)\u001b[0m\u001b[0;34m\u001b[0m\u001b[0;34m\u001b[0m\u001b[0m\n\u001b[0m\u001b[1;32m   2505\u001b[0m \u001b[0;34m\u001b[0m\u001b[0m\n\u001b[1;32m   2506\u001b[0m         \u001b[0;32mreturn\u001b[0m \u001b[0mloss\u001b[0m\u001b[0;34m.\u001b[0m\u001b[0mdetach\u001b[0m\u001b[0;34m(\u001b[0m\u001b[0;34m)\u001b[0m\u001b[0;34m\u001b[0m\u001b[0;34m\u001b[0m\u001b[0m\n",
      "\u001b[0;32m~/anaconda3/lib/python3.9/site-packages/torch/_tensor.py\u001b[0m in \u001b[0;36mbackward\u001b[0;34m(self, gradient, retain_graph, create_graph, inputs)\u001b[0m\n\u001b[1;32m    394\u001b[0m                 \u001b[0mcreate_graph\u001b[0m\u001b[0;34m=\u001b[0m\u001b[0mcreate_graph\u001b[0m\u001b[0;34m,\u001b[0m\u001b[0;34m\u001b[0m\u001b[0;34m\u001b[0m\u001b[0m\n\u001b[1;32m    395\u001b[0m                 inputs=inputs)\n\u001b[0;32m--> 396\u001b[0;31m         \u001b[0mtorch\u001b[0m\u001b[0;34m.\u001b[0m\u001b[0mautograd\u001b[0m\u001b[0;34m.\u001b[0m\u001b[0mbackward\u001b[0m\u001b[0;34m(\u001b[0m\u001b[0mself\u001b[0m\u001b[0;34m,\u001b[0m \u001b[0mgradient\u001b[0m\u001b[0;34m,\u001b[0m \u001b[0mretain_graph\u001b[0m\u001b[0;34m,\u001b[0m \u001b[0mcreate_graph\u001b[0m\u001b[0;34m,\u001b[0m \u001b[0minputs\u001b[0m\u001b[0;34m=\u001b[0m\u001b[0minputs\u001b[0m\u001b[0;34m)\u001b[0m\u001b[0;34m\u001b[0m\u001b[0;34m\u001b[0m\u001b[0m\n\u001b[0m\u001b[1;32m    397\u001b[0m \u001b[0;34m\u001b[0m\u001b[0m\n\u001b[1;32m    398\u001b[0m     \u001b[0;32mdef\u001b[0m \u001b[0mregister_hook\u001b[0m\u001b[0;34m(\u001b[0m\u001b[0mself\u001b[0m\u001b[0;34m,\u001b[0m \u001b[0mhook\u001b[0m\u001b[0;34m)\u001b[0m\u001b[0;34m:\u001b[0m\u001b[0;34m\u001b[0m\u001b[0;34m\u001b[0m\u001b[0m\n",
      "\u001b[0;32m~/anaconda3/lib/python3.9/site-packages/torch/autograd/__init__.py\u001b[0m in \u001b[0;36mbackward\u001b[0;34m(tensors, grad_tensors, retain_graph, create_graph, grad_variables, inputs)\u001b[0m\n\u001b[1;32m    171\u001b[0m     \u001b[0;31m# some Python versions print out the first line of a multi-line function\u001b[0m\u001b[0;34m\u001b[0m\u001b[0;34m\u001b[0m\u001b[0m\n\u001b[1;32m    172\u001b[0m     \u001b[0;31m# calls in the traceback and some print out the last line\u001b[0m\u001b[0;34m\u001b[0m\u001b[0;34m\u001b[0m\u001b[0m\n\u001b[0;32m--> 173\u001b[0;31m     Variable._execution_engine.run_backward(  # Calls into the C++ engine to run the backward pass\n\u001b[0m\u001b[1;32m    174\u001b[0m         \u001b[0mtensors\u001b[0m\u001b[0;34m,\u001b[0m \u001b[0mgrad_tensors_\u001b[0m\u001b[0;34m,\u001b[0m \u001b[0mretain_graph\u001b[0m\u001b[0;34m,\u001b[0m \u001b[0mcreate_graph\u001b[0m\u001b[0;34m,\u001b[0m \u001b[0minputs\u001b[0m\u001b[0;34m,\u001b[0m\u001b[0;34m\u001b[0m\u001b[0;34m\u001b[0m\u001b[0m\n\u001b[1;32m    175\u001b[0m         allow_unreachable=True, accumulate_grad=True)  # Calls into the C++ engine to run the backward pass\n",
      "\u001b[0;32m~/anaconda3/lib/python3.9/site-packages/wandb/wandb_torch.py\u001b[0m in \u001b[0;36m<lambda>\u001b[0;34m(grad)\u001b[0m\n\u001b[1;32m    280\u001b[0m             \u001b[0mself\u001b[0m\u001b[0;34m.\u001b[0m\u001b[0mlog_tensor_stats\u001b[0m\u001b[0;34m(\u001b[0m\u001b[0mgrad\u001b[0m\u001b[0;34m.\u001b[0m\u001b[0mdata\u001b[0m\u001b[0;34m,\u001b[0m \u001b[0mname\u001b[0m\u001b[0;34m)\u001b[0m\u001b[0;34m\u001b[0m\u001b[0;34m\u001b[0m\u001b[0m\n\u001b[1;32m    281\u001b[0m \u001b[0;34m\u001b[0m\u001b[0m\n\u001b[0;32m--> 282\u001b[0;31m         \u001b[0mhandle\u001b[0m \u001b[0;34m=\u001b[0m \u001b[0mvar\u001b[0m\u001b[0;34m.\u001b[0m\u001b[0mregister_hook\u001b[0m\u001b[0;34m(\u001b[0m\u001b[0;32mlambda\u001b[0m \u001b[0mgrad\u001b[0m\u001b[0;34m:\u001b[0m \u001b[0m_callback\u001b[0m\u001b[0;34m(\u001b[0m\u001b[0mgrad\u001b[0m\u001b[0;34m,\u001b[0m \u001b[0mlog_track\u001b[0m\u001b[0;34m)\u001b[0m\u001b[0;34m)\u001b[0m\u001b[0;34m\u001b[0m\u001b[0;34m\u001b[0m\u001b[0m\n\u001b[0m\u001b[1;32m    283\u001b[0m         \u001b[0mself\u001b[0m\u001b[0;34m.\u001b[0m\u001b[0m_hook_handles\u001b[0m\u001b[0;34m[\u001b[0m\u001b[0mname\u001b[0m\u001b[0;34m]\u001b[0m \u001b[0;34m=\u001b[0m \u001b[0mhandle\u001b[0m\u001b[0;34m\u001b[0m\u001b[0;34m\u001b[0m\u001b[0m\n\u001b[1;32m    284\u001b[0m         \u001b[0;32mreturn\u001b[0m \u001b[0mhandle\u001b[0m\u001b[0;34m\u001b[0m\u001b[0;34m\u001b[0m\u001b[0m\n",
      "\u001b[0;31mKeyboardInterrupt\u001b[0m: "
     ]
    }
   ],
   "source": [
    "train_result = trainer.train()\n",
    "metrics = train_result.metrics"
   ]
  },
  {
   "cell_type": "markdown",
   "id": "9f246cb5",
   "metadata": {},
   "source": [
    "## Testing the Model"
   ]
  },
  {
   "cell_type": "code",
   "execution_count": 72,
   "id": "f2e1110c",
   "metadata": {},
   "outputs": [],
   "source": [
    "from transformers import AutoTokenizer, AutoModelForTokenClassification\n",
    "\n",
    "tokenizer_path = './checkpoint-8000-4'\n",
    "model_path = './checkpoint-8000-4'\n",
    "\n",
    "# Load the tokenizer from the saved folder\n",
    "tokenizer = AutoTokenizer.from_pretrained(tokenizer_path)\n",
    "\n",
    "# Load the model from the saved folder\n",
    "model = AutoModelForTokenClassification.from_pretrained(model_path)"
   ]
  },
  {
   "cell_type": "code",
   "execution_count": 8,
   "id": "037efea6",
   "metadata": {},
   "outputs": [],
   "source": [
    "import torch\n",
    "def get_predictions( sentence, tokenizer, model ):\n",
    "  # Let us first tokenize the sentence - split words into subwords\n",
    "  tok_sentence = tokenizer(sentence, return_tensors='pt')\n",
    "\n",
    "  with torch.no_grad():\n",
    "    # we will send the tokenized sentence to the model to get predictions\n",
    "    logits = model(**tok_sentence).logits.argmax(-1)\n",
    "    \n",
    "    # We will map the maximum predicted class id with the class label\n",
    "    predicted_tokens_classes = [model.config.id2label[t.item()] for t in logits[0]]\n",
    "    \n",
    "    print(f\"Predicted token class\\n{predicted_tokens_classes}\")\n",
    "    \n",
    "    predicted_labels = []\n",
    "    \n",
    "    previous_token_id = 0\n",
    "    # we need to assign the named entity label to the head word and not the following sub-words\n",
    "    word_ids = tok_sentence.word_ids()\n",
    "    print(f\"Word IDs\\n{word_ids}\")\n",
    "    for word_index in range(len(word_ids)):\n",
    "        if word_ids[word_index] == None:\n",
    "            previous_token_id = word_ids[word_index]\n",
    "        elif word_ids[word_index] == previous_token_id:\n",
    "            previous_token_id = word_ids[word_index]\n",
    "        else:\n",
    "            predicted_labels.append( predicted_tokens_classes[ word_index ] )\n",
    "            previous_token_id = word_ids[word_index]\n",
    "    \n",
    "    return predicted_labels"
   ]
  },
  {
   "cell_type": "code",
   "execution_count": 32,
   "id": "6b31ca11",
   "metadata": {},
   "outputs": [
    {
     "name": "stdout",
     "output_type": "stream",
     "text": [
      "Predicted token class\n",
      "['LABEL_25', 'LABEL_3', 'LABEL_8', 'LABEL_8', 'LABEL_8', 'LABEL_33', 'LABEL_8', 'LABEL_8', 'LABEL_8', 'LABEL_33', 'LABEL_10', 'LABEL_10', 'LABEL_35', 'LABEL_34', 'LABEL_34', 'LABEL_34', 'LABEL_1', 'LABEL_7', 'LABEL_8', 'LABEL_8', 'LABEL_18', 'LABEL_33', 'LABEL_16', 'LABEL_18', 'LABEL_33', 'LABEL_35', 'LABEL_25', 'LABEL_35', 'LABEL_35', 'LABEL_34', 'LABEL_34', 'LABEL_25', 'LABEL_25']\n",
      "Word IDs\n",
      "[None, 0, 1, 1, 1, 1, 2, 2, 2, 2, 3, 3, 4, 4, 4, 4, 5, 5, 6, 6, 6, 7, 8, 8, 8, 9, 9, 9, 9, 10, 10, 11, None]\n"
     ]
    },
    {
     "data": {
      "text/plain": [
       "['LABEL_3',\n",
       " 'LABEL_8',\n",
       " 'LABEL_8',\n",
       " 'LABEL_10',\n",
       " 'LABEL_35',\n",
       " 'LABEL_1',\n",
       " 'LABEL_8',\n",
       " 'LABEL_33',\n",
       " 'LABEL_16',\n",
       " 'LABEL_35',\n",
       " 'LABEL_34',\n",
       " 'LABEL_25']"
      ]
     },
     "execution_count": 32,
     "metadata": {},
     "output_type": "execute_result"
    }
   ],
   "source": [
    "sentence = ex\n",
    "sentence = sentence.replace(\"\\u200c\",\"\")\n",
    "\n",
    "predicted_labels = get_predictions(sentence=sentence, \n",
    "                                   tokenizer=tokenizer,\n",
    "                                   model=model\n",
    "                                   )\n",
    "predicted_labels"
   ]
  },
  {
   "cell_type": "code",
   "execution_count": 230,
   "id": "70c64b2d",
   "metadata": {},
   "outputs": [
    {
     "name": "stdout",
     "output_type": "stream",
     "text": [
      "Predicted token class\n",
      "['LABEL_25', 'LABEL_8', 'LABEL_8', 'LABEL_8', 'LABEL_8', 'LABEL_8', 'LABEL_33', 'LABEL_33', 'LABEL_37', 'LABEL_37', 'LABEL_37', 'LABEL_34', 'LABEL_34', 'LABEL_8', 'LABEL_8', 'LABEL_8', 'LABEL_8', 'LABEL_9', 'LABEL_9', 'LABEL_33', 'LABEL_33', 'LABEL_25', 'LABEL_9', 'LABEL_9', 'LABEL_9', 'LABEL_9', 'LABEL_8', 'LABEL_8', 'LABEL_25', 'LABEL_9', 'LABEL_9', 'LABEL_9', 'LABEL_9', 'LABEL_8', 'LABEL_9', 'LABEL_8', 'LABEL_8', 'LABEL_25', 'LABEL_9', 'LABEL_9', 'LABEL_9', 'LABEL_9', 'LABEL_9', 'LABEL_8', 'LABEL_25', 'LABEL_9', 'LABEL_9', 'LABEL_8', 'LABEL_8', 'LABEL_8', 'LABEL_25', 'LABEL_8', 'LABEL_25', 'LABEL_19', 'LABEL_18', 'LABEL_8', 'LABEL_33', 'LABEL_19', 'LABEL_28', 'LABEL_19', 'LABEL_29', 'LABEL_29', 'LABEL_8', 'LABEL_8', 'LABEL_18', 'LABEL_33', 'LABEL_7', 'LABEL_7', 'LABEL_7', 'LABEL_8', 'LABEL_7', 'LABEL_8', 'LABEL_8', 'LABEL_8', 'LABEL_8', 'LABEL_8', 'LABEL_8', 'LABEL_8', 'LABEL_33', 'LABEL_8', 'LABEL_8', 'LABEL_35', 'LABEL_28', 'LABEL_8', 'LABEL_8', 'LABEL_8', 'LABEL_8', 'LABEL_8', 'LABEL_9', 'LABEL_9', 'LABEL_28', 'LABEL_8', 'LABEL_8', 'LABEL_9', 'LABEL_9', 'LABEL_8', 'LABEL_8', 'LABEL_28', 'LABEL_7', 'LABEL_7', 'LABEL_8', 'LABEL_8', 'LABEL_8', 'LABEL_8', 'LABEL_8', 'LABEL_8', 'LABEL_8', 'LABEL_18', 'LABEL_33', 'LABEL_8', 'LABEL_8', 'LABEL_8', 'LABEL_8', 'LABEL_8', 'LABEL_8', 'LABEL_8', 'LABEL_33', 'LABEL_28', 'LABEL_9', 'LABEL_26', 'LABEL_28', 'LABEL_25', 'LABEL_9', 'LABEL_9', 'LABEL_9', 'LABEL_8', 'LABEL_8', 'LABEL_8', 'LABEL_8', 'LABEL_0', 'LABEL_8', 'LABEL_37', 'LABEL_8', 'LABEL_8', 'LABEL_35', 'LABEL_8', 'LABEL_33', 'LABEL_28', 'LABEL_9', 'LABEL_26', 'LABEL_9', 'LABEL_9', 'LABEL_9', 'LABEL_28', 'LABEL_16', 'LABEL_33', 'LABEL_8', 'LABEL_35', 'LABEL_8', 'LABEL_34', 'LABEL_33', 'LABEL_3', 'LABEL_34', 'LABEL_33', 'LABEL_34', 'LABEL_8', 'LABEL_8', 'LABEL_8', 'LABEL_8', 'LABEL_33', 'LABEL_37', 'LABEL_34', 'LABEL_34', 'LABEL_8', 'LABEL_8', 'LABEL_35', 'LABEL_35', 'LABEL_8', 'LABEL_34', 'LABEL_25', 'LABEL_25']\n",
      "Word IDs\n",
      "[None, 0, 0, 0, 0, 0, 0, 0, 1, 1, 1, 2, 2, 3, 3, 3, 4, 4, 4, 4, 4, 5, 6, 6, 6, 7, 8, 8, 9, 10, 10, 10, 11, 11, 11, 12, 12, 13, 14, 14, 14, 14, 15, 15, 16, 17, 17, 18, 18, 19, 19, 20, 20, 21, 22, 22, 22, 23, 24, 25, 26, 26, 27, 27, 27, 27, 28, 29, 29, 29, 29, 30, 30, 30, 30, 31, 31, 31, 31, 32, 32, 32, 33, 34, 34, 35, 35, 36, 37, 37, 38, 39, 39, 40, 40, 40, 41, 42, 43, 43, 44, 45, 45, 45, 46, 46, 46, 46, 46, 47, 47, 47, 47, 48, 48, 48, 48, 49, 50, 50, 51, 52, 53, 53, 53, 54, 55, 55, 55, 56, 56, 57, 57, 57, 58, 58, 58, 59, 60, 60, 60, 60, 60, 61, 62, 62, 63, 63, 63, 63, 63, 64, 65, 65, 66, 67, 67, 67, 67, 67, 68, 68, 68, 69, 69, 70, 71, 71, 71, 72, None]\n",
      "ಪ್ರಸ್ತಾವನೆಯಲ್ಲಿ\tN__NN\n",
      "ವಿವರಿಸಿ\tV__VM__VNF\n",
      "ಇರುವ\tV__VAUX\n",
      "ಅಂಶಗಳ\tN__NN\n",
      "ಹಿನ್ನೆಲೆಯಲ್ಲಿ\tN__NN\n",
      ",\tRD__PUNC\n",
      "ಬೆಂಗಳೂರು\tN__NNP\n",
      "ನಗರ\tN__NNP\n",
      "ಜಿಲ್ಲೆ\tN__NN\n",
      ",\tRD__PUNC\n",
      "ಬೆಂಗಳೂರು\tN__NNP\n",
      "ಉತ್ತರ\tN__NNP\n",
      "ತಾಲ್ಲೂಕು\tN__NN\n",
      ",\tRD__PUNC\n",
      "ದಾಸನಪುರ\tN__NNP\n",
      "ಹೋಬಳಿ\tN__NNP\n",
      ",\tRD__PUNC\n",
      "ಮಾದವಾರ\tN__NNP\n",
      "ಗ್ರಾಮದ\tN__NN\n",
      "ಸ.\tN__NN\n",
      "ನಂ.\tN__NN\n",
      "48\tQT__QTC\n",
      "ರಲ್ಲಿ\tPSP\n",
      "1\tQT__QTC\n",
      "-\tRD__SYM\n",
      "00\tQT__QTC\n",
      "ಎಕರೆ\tRP__CL\n",
      "ಜಮೀನನ್ನು\tN__NN\n",
      "ನಗರ\tJJ\n",
      "ಅಭಿವೃದ್ಧಿ\tJJ\n",
      "ಇಲಾಖೆಯ\tN__NN\n",
      "ಹೆಸರಿನಲ್ಲಿ\tN__NN\n",
      "ಕಾಯ್ದಿರಿಸಿ\tN__NN\n",
      "(\tRD__SYM\n",
      "ಮೂಲತಃ\tN__NN\n",
      "ಸರ್ಕಾರಿ\tN__NN\n",
      "ಕೆರೆ\tN__NN\n",
      "ಅಂಗಳ\tN__NNP\n",
      "-\tRD__SYM\n",
      "ಸರ್ಕಾರಿ\tN__NN\n",
      "ಖರಾಬು\tN__NNP\n",
      "ಕೆರೆ\tN__NN\n",
      ")\tRD__SYM\n",
      "ಕೊಳವೆ\tJJ\n",
      "ನೀರು\tN__NN\n",
      "ಪಂಪಿಂಗ್‌\tN__NN\n",
      "ಸ್ಟೇಷನಿನ\tN__NN\n",
      "ಸ್ಥಾಪನೆಯ\tN__NN\n",
      "ಉದ್ದೇಶಕ್ಕೆ\tN__NN\n",
      "(\tRD__SYM\n",
      "ISPS\tN__NNP\n",
      ")\tRD__SYM\n",
      ",\tRD__PUNC\n",
      "ಬೆಂಗಳೂರು\tN__NNP\n",
      "ನೀರು\tN__NN\n",
      "ಸರಬರಾಜು\tN__NN\n",
      "ಮತ್ತು\tCC__CCD\n",
      "ಒಳಚರಂಡಿ\tV__VM__VNF\n",
      "ಮಂಡಳಿಗೆ\tV__VM__VF\n",
      "(\tRD__SYM\n",
      "BWSSB\tN__NNP\n",
      ")\tRD__SYM\n",
      "ಇವರಿಗೆ\tPR__PRP\n",
      "ಉಚಿತವಾಗಿ\tN__NN\n",
      "ಈ\tDM__DMD\n",
      "ಕೆಳಗೆ\tV__VAUX\n",
      "ಕಂಡ\tV__VAUX\n",
      "ಷರತ್ತಿಗೆ\tN__NN\n",
      "ಒಳಪಟ್ಟು\tV__VM__VNF\n",
      "ಮಂಜೂರು\tN__NN\n",
      "ಮಾಡಿ\tV__VM__VF\n",
      "ಆದೇಶಿಸಿದೆ\tV__VM__VF\n",
      ".\tRD__PUNC\n"
     ]
    }
   ],
   "source": [
    "sentence = ex\n",
    "\n",
    "predicted_labels = get_predictions(sentence=sentence, \n",
    "                                   tokenizer=tokenizer,\n",
    "                                   model=model\n",
    "                                   )\n",
    "\n",
    "for index in range(len(sentence.split(' '))):\n",
    "    tag_id = int(predicted_labels[index].split(\"_\")[1])\n",
    "    tag = encoding_dict[tag_id]\n",
    "    print( sentence.split(' ')[index] + '\\t' + tag )"
   ]
  },
  {
   "cell_type": "code",
   "execution_count": 62,
   "id": "cf391e6b",
   "metadata": {},
   "outputs": [],
   "source": [
    "import pickle\n",
    "with open(\"./test_data.pickle\",\"rb\") as f:\n",
    "    test_data = pickle.load(f)"
   ]
  },
  {
   "cell_type": "code",
   "execution_count": 251,
   "id": "380fca32",
   "metadata": {},
   "outputs": [],
   "source": [
    "with open(\"./test_data_crf.pickle\",\"rb\") as f:\n",
    "    test_data_crf = pickle.load(f)"
   ]
  },
  {
   "cell_type": "code",
   "execution_count": 63,
   "id": "8ff58aa7",
   "metadata": {},
   "outputs": [
    {
     "data": {
      "text/plain": [
       "100"
      ]
     },
     "execution_count": 63,
     "metadata": {},
     "output_type": "execute_result"
    }
   ],
   "source": [
    "len(test_data)"
   ]
  },
  {
   "cell_type": "code",
   "execution_count": 253,
   "id": "4824b2f4",
   "metadata": {},
   "outputs": [
    {
     "data": {
      "text/plain": [
       "50"
      ]
     },
     "execution_count": 253,
     "metadata": {},
     "output_type": "execute_result"
    }
   ],
   "source": [
    "len(test_data_crf)"
   ]
  },
  {
   "cell_type": "code",
   "execution_count": 107,
   "id": "dc2d356f",
   "metadata": {},
   "outputs": [
    {
     "data": {
      "text/plain": [
       "['RD__BUL',\n",
       " 'RD__PUNC',\n",
       " 'N__NN',\n",
       " 'V__VM__VNF',\n",
       " 'V__VAUX',\n",
       " 'N__NN',\n",
       " 'PR__PRI',\n",
       " 'N__NN',\n",
       " 'N__NNV',\n",
       " 'V__VM__VNF',\n",
       " 'N__NN',\n",
       " 'V__VM__VF',\n",
       " 'RD__PUNC']"
      ]
     },
     "execution_count": 107,
     "metadata": {},
     "output_type": "execute_result"
    }
   ],
   "source": [
    "ex = \" \".join(test_data[0][0])\n",
    "tags_set = test_data[0][1]\n",
    "tags_set"
   ]
  },
  {
   "cell_type": "code",
   "execution_count": 30,
   "id": "ec122ae7",
   "metadata": {},
   "outputs": [
    {
     "data": {
      "text/plain": [
       "'ಅಂಥ ಉದ್ದೇಶಗಳಿಗೆ ಪ್ರಾಧಿಕಾರವು ಹಂಚಿಕೆ ಮಾಡುವಂತಿಲ್ಲ ಎಂಬ ಆಧಾರದ ಮೇಲೆ ಅದನ್ನು ತಿರಸ್ಕರಿಸಲು ಆಯಿತು .'"
      ]
     },
     "execution_count": 30,
     "metadata": {},
     "output_type": "execute_result"
    }
   ],
   "source": [
    "ex"
   ]
  },
  {
   "cell_type": "code",
   "execution_count": 90,
   "id": "3ebc3ed6",
   "metadata": {},
   "outputs": [
    {
     "data": {
      "text/plain": [
       "{0: 'CC__CCD',\n",
       " 1: 'CC__CCS',\n",
       " 2: 'CC__CCS__UT',\n",
       " 3: 'DM__DMD',\n",
       " 4: 'DM__DMI',\n",
       " 5: 'DM__DMQ',\n",
       " 6: 'DM__DMR',\n",
       " 7: 'JJ',\n",
       " 8: 'N__NN',\n",
       " 9: 'N__NNP',\n",
       " 10: 'N__NNV',\n",
       " 11: 'N__NST',\n",
       " 12: 'PR__PRC',\n",
       " 13: 'PR__PRF',\n",
       " 14: 'PR__PRI',\n",
       " 15: 'PR__PRL',\n",
       " 16: 'PR__PRP',\n",
       " 17: 'PR__PRQ',\n",
       " 18: 'PSP',\n",
       " 19: 'QT__QTC',\n",
       " 20: 'QT__QTF',\n",
       " 21: 'QT__QTO',\n",
       " 22: 'RB',\n",
       " 23: 'RD__BUL',\n",
       " 24: 'RD__ECH',\n",
       " 25: 'RD__PUNC',\n",
       " 26: 'RD__RDF',\n",
       " 27: 'RD__RPD',\n",
       " 28: 'RD__SYM',\n",
       " 29: 'RP__CL',\n",
       " 30: 'RP__INJ',\n",
       " 31: 'RP__INTF',\n",
       " 32: 'RP__NEG',\n",
       " 33: 'RP__RPD',\n",
       " 34: 'V__VAUX',\n",
       " 35: 'V__VM__VF',\n",
       " 36: 'V__VM__VINF',\n",
       " 37: 'V__VM__VNF',\n",
       " 38: 'V__VM__VNG'}"
      ]
     },
     "execution_count": 90,
     "metadata": {},
     "output_type": "execute_result"
    }
   ],
   "source": [
    "encoding_dict"
   ]
  },
  {
   "cell_type": "code",
   "execution_count": 73,
   "id": "2e258532",
   "metadata": {},
   "outputs": [
    {
     "name": "stdout",
     "output_type": "stream",
     "text": [
      "Predicted token class\n",
      "['LABEL_25', 'LABEL_23', 'LABEL_25', 'LABEL_8', 'LABEL_8', 'LABEL_37', 'LABEL_34', 'LABEL_34', 'LABEL_8', 'LABEL_8', 'LABEL_18', 'LABEL_25', 'LABEL_33', 'LABEL_14', 'LABEL_38', 'LABEL_7', 'LABEL_8', 'LABEL_18', 'LABEL_8', 'LABEL_33', 'LABEL_8', 'LABEL_8', 'LABEL_8', 'LABEL_37', 'LABEL_34', 'LABEL_8', 'LABEL_8', 'LABEL_35', 'LABEL_25', 'LABEL_35', 'LABEL_34', 'LABEL_34', 'LABEL_25', 'LABEL_25']\n",
      "Word IDs\n",
      "[None, 0, 1, 2, 2, 3, 4, 4, 5, 5, 5, 5, 5, 6, 6, 6, 7, 7, 7, 7, 8, 8, 8, 9, 9, 10, 10, 11, 11, 11, 11, 11, 12, None]\n",
      "Predicted token class\n",
      "['LABEL_25', 'LABEL_23', 'LABEL_25', 'LABEL_7', 'LABEL_7', 'LABEL_8', 'LABEL_8', 'LABEL_18', 'LABEL_8', 'LABEL_11', 'LABEL_14', 'LABEL_38', 'LABEL_7', 'LABEL_8', 'LABEL_25', 'LABEL_8', 'LABEL_8', 'LABEL_33', 'LABEL_33', 'LABEL_7', 'LABEL_7', 'LABEL_8', 'LABEL_8', 'LABEL_8', 'LABEL_37', 'LABEL_34', 'LABEL_34', 'LABEL_34', 'LABEL_33', 'LABEL_3', 'LABEL_8', 'LABEL_8', 'LABEL_8', 'LABEL_18', 'LABEL_8', 'LABEL_25', 'LABEL_8', 'LABEL_8', 'LABEL_7', 'LABEL_7', 'LABEL_10', 'LABEL_10', 'LABEL_33', 'LABEL_35', 'LABEL_25', 'LABEL_35', 'LABEL_34', 'LABEL_34', 'LABEL_34', 'LABEL_25', 'LABEL_25']\n",
      "Word IDs\n",
      "[None, 0, 1, 2, 2, 2, 3, 3, 3, 4, 5, 5, 5, 6, 6, 6, 6, 6, 6, 7, 7, 8, 8, 8, 9, 10, 10, 10, 10, 11, 12, 12, 12, 12, 13, 13, 13, 13, 14, 14, 15, 15, 15, 16, 16, 16, 17, 17, 17, 18, None]\n",
      "Predicted token class\n",
      "['LABEL_25', 'LABEL_23', 'LABEL_25', 'LABEL_8', 'LABEL_8', 'LABEL_38', 'LABEL_8', 'LABEL_8', 'LABEL_8', 'LABEL_33', 'LABEL_7', 'LABEL_7', 'LABEL_8', 'LABEL_8', 'LABEL_8', 'LABEL_8', 'LABEL_8', 'LABEL_8', 'LABEL_37', 'LABEL_34', 'LABEL_33', 'LABEL_10', 'LABEL_8', 'LABEL_37', 'LABEL_34', 'LABEL_34', 'LABEL_34', 'LABEL_34', 'LABEL_25', 'LABEL_8', 'LABEL_8', 'LABEL_8', 'LABEL_28', 'LABEL_8', 'LABEL_8', 'LABEL_8', 'LABEL_8', 'LABEL_38', 'LABEL_34', 'LABEL_34', 'LABEL_34', 'LABEL_33', 'LABEL_25', 'LABEL_8', 'LABEL_8', 'LABEL_25', 'LABEL_10', 'LABEL_25', 'LABEL_10', 'LABEL_25', 'LABEL_8', 'LABEL_25', 'LABEL_8', 'LABEL_14', 'LABEL_38', 'LABEL_7', 'LABEL_8', 'LABEL_18', 'LABEL_8', 'LABEL_8', 'LABEL_22', 'LABEL_35', 'LABEL_34', 'LABEL_34', 'LABEL_34', 'LABEL_32', 'LABEL_33', 'LABEL_25', 'LABEL_25']\n",
      "Word IDs\n",
      "[None, 0, 1, 2, 2, 3, 4, 4, 4, 4, 5, 5, 6, 6, 6, 6, 7, 7, 8, 8, 8, 9, 9, 10, 10, 10, 11, 11, 12, 13, 13, 13, 14, 15, 15, 15, 15, 16, 16, 16, 17, 17, 18, 19, 19, 20, 21, 21, 21, 22, 23, 24, 25, 26, 26, 26, 27, 27, 28, 28, 28, 29, 29, 29, 29, 30, 30, 31, None]\n",
      "Predicted token class\n",
      "['LABEL_25', 'LABEL_23', 'LABEL_25', 'LABEL_8', 'LABEL_8', 'LABEL_38', 'LABEL_8', 'LABEL_18', 'LABEL_33', 'LABEL_14', 'LABEL_38', 'LABEL_7', 'LABEL_8', 'LABEL_0', 'LABEL_7', 'LABEL_7', 'LABEL_7', 'LABEL_8', 'LABEL_18', 'LABEL_8', 'LABEL_33', 'LABEL_7', 'LABEL_7', 'LABEL_7', 'LABEL_8', 'LABEL_25', 'LABEL_8', 'LABEL_33', 'LABEL_8', 'LABEL_8', 'LABEL_8', 'LABEL_37', 'LABEL_34', 'LABEL_34', 'LABEL_34', 'LABEL_33', 'LABEL_8', 'LABEL_8', 'LABEL_33', 'LABEL_7', 'LABEL_7', 'LABEL_8', 'LABEL_18', 'LABEL_18', 'LABEL_33', 'LABEL_8', 'LABEL_8', 'LABEL_38', 'LABEL_34', 'LABEL_38', 'LABEL_38', 'LABEL_34', 'LABEL_34', 'LABEL_34', 'LABEL_8', 'LABEL_25', 'LABEL_8', 'LABEL_33', 'LABEL_35', 'LABEL_34', 'LABEL_34', 'LABEL_34', 'LABEL_25', 'LABEL_25']\n",
      "Word IDs\n",
      "[None, 0, 1, 2, 2, 3, 4, 4, 4, 5, 5, 5, 6, 7, 8, 8, 8, 9, 9, 9, 9, 10, 10, 10, 11, 11, 11, 11, 12, 12, 12, 13, 14, 14, 14, 14, 15, 15, 15, 16, 16, 17, 17, 17, 17, 18, 18, 19, 19, 20, 20, 21, 21, 21, 22, 22, 22, 22, 23, 24, 24, 24, 25, None]\n",
      "Predicted token class\n",
      "['LABEL_25', 'LABEL_23', 'LABEL_25', 'LABEL_8', 'LABEL_8', 'LABEL_38', 'LABEL_8', 'LABEL_18', 'LABEL_18', 'LABEL_33', 'LABEL_33', 'LABEL_7', 'LABEL_7', 'LABEL_7', 'LABEL_7', 'LABEL_8', 'LABEL_8', 'LABEL_8', 'LABEL_18', 'LABEL_33', 'LABEL_38', 'LABEL_38', 'LABEL_38', 'LABEL_34', 'LABEL_11', 'LABEL_8', 'LABEL_8', 'LABEL_33', 'LABEL_33', 'LABEL_22', 'LABEL_25', 'LABEL_8', 'LABEL_8', 'LABEL_8', 'LABEL_33', 'LABEL_38', 'LABEL_38', 'LABEL_34', 'LABEL_34', 'LABEL_8', 'LABEL_8', 'LABEL_8', 'LABEL_18', 'LABEL_33', 'LABEL_38', 'LABEL_25', 'LABEL_34', 'LABEL_8', 'LABEL_8', 'LABEL_8', 'LABEL_8', 'LABEL_33', 'LABEL_38', 'LABEL_34', 'LABEL_34', 'LABEL_0', 'LABEL_7', 'LABEL_8', 'LABEL_8', 'LABEL_33', 'LABEL_33', 'LABEL_38', 'LABEL_8', 'LABEL_8', 'LABEL_38', 'LABEL_34', 'LABEL_34', 'LABEL_8', 'LABEL_8', 'LABEL_8', 'LABEL_18', 'LABEL_33', 'LABEL_22', 'LABEL_22', 'LABEL_22', 'LABEL_33', 'LABEL_35', 'LABEL_8', 'LABEL_25', 'LABEL_35', 'LABEL_34', 'LABEL_34', 'LABEL_25', 'LABEL_25']\n",
      "Word IDs\n",
      "[None, 0, 1, 2, 2, 3, 4, 4, 4, 4, 4, 5, 5, 5, 5, 6, 6, 6, 6, 6, 7, 7, 7, 7, 8, 8, 8, 8, 8, 9, 9, 9, 9, 9, 9, 10, 10, 10, 10, 11, 11, 11, 11, 11, 12, 12, 12, 13, 13, 13, 13, 13, 14, 14, 14, 15, 15, 16, 16, 17, 17, 18, 18, 18, 18, 18, 18, 19, 19, 19, 19, 19, 20, 20, 20, 20, 21, 21, 21, 21, 21, 21, 22, None]\n",
      "Predicted token class\n",
      "['LABEL_25', 'LABEL_23', 'LABEL_25', 'LABEL_8', 'LABEL_8', 'LABEL_38', 'LABEL_8', 'LABEL_8', 'LABEL_9', 'LABEL_9', 'LABEL_9', 'LABEL_7', 'LABEL_7', 'LABEL_7', 'LABEL_8', 'LABEL_8', 'LABEL_8', 'LABEL_8', 'LABEL_25', 'LABEL_8', 'LABEL_18', 'LABEL_8', 'LABEL_8', 'LABEL_8', 'LABEL_33', 'LABEL_22', 'LABEL_8', 'LABEL_8', 'LABEL_33', 'LABEL_38', 'LABEL_34', 'LABEL_25', 'LABEL_7', 'LABEL_7', 'LABEL_8', 'LABEL_8', 'LABEL_8', 'LABEL_10', 'LABEL_8', 'LABEL_10', 'LABEL_8', 'LABEL_38', 'LABEL_33', 'LABEL_33', 'LABEL_25', 'LABEL_3', 'LABEL_7', 'LABEL_7', 'LABEL_8', 'LABEL_8', 'LABEL_8', 'LABEL_18', 'LABEL_37', 'LABEL_37', 'LABEL_37', 'LABEL_25', 'LABEL_37', 'LABEL_37', 'LABEL_8', 'LABEL_8', 'LABEL_38', 'LABEL_8', 'LABEL_8', 'LABEL_18', 'LABEL_33', 'LABEL_14', 'LABEL_38', 'LABEL_7', 'LABEL_8', 'LABEL_8', 'LABEL_38', 'LABEL_34', 'LABEL_8', 'LABEL_8', 'LABEL_8', 'LABEL_8', 'LABEL_25', 'LABEL_33', 'LABEL_35', 'LABEL_35', 'LABEL_35', 'LABEL_34', 'LABEL_34', 'LABEL_34', 'LABEL_25', 'LABEL_25']\n",
      "Word IDs\n",
      "[None, 0, 1, 2, 2, 3, 4, 4, 5, 5, 5, 6, 7, 7, 7, 8, 8, 8, 9, 10, 10, 11, 11, 11, 11, 12, 12, 12, 12, 13, 13, 14, 15, 15, 16, 16, 16, 17, 17, 17, 17, 18, 18, 18, 19, 20, 21, 21, 21, 22, 22, 22, 22, 23, 23, 23, 23, 23, 24, 24, 25, 26, 26, 26, 26, 27, 27, 27, 28, 28, 29, 29, 30, 30, 30, 31, 31, 31, 32, 32, 32, 33, 33, 33, 34, None]\n",
      "Predicted token class\n",
      "['LABEL_25', 'LABEL_23', 'LABEL_25', 'LABEL_7', 'LABEL_7', 'LABEL_8', 'LABEL_8', 'LABEL_8', 'LABEL_7', 'LABEL_7', 'LABEL_7', 'LABEL_7', 'LABEL_8', 'LABEL_25', 'LABEL_25', 'LABEL_8', 'LABEL_8', 'LABEL_18', 'LABEL_33', 'LABEL_35', 'LABEL_35', 'LABEL_34', 'LABEL_34', 'LABEL_34', 'LABEL_25', 'LABEL_25']\n",
      "Word IDs\n",
      "[None, 0, 1, 2, 2, 3, 3, 3, 4, 5, 5, 5, 6, 6, 6, 6, 6, 6, 6, 7, 7, 7, 7, 8, 9, None]\n",
      "Predicted token class\n",
      "['LABEL_25', 'LABEL_25', 'LABEL_3', 'LABEL_8', 'LABEL_8', 'LABEL_8', 'LABEL_8', 'LABEL_8', 'LABEL_18', 'LABEL_25', 'LABEL_9', 'LABEL_9', 'LABEL_9', 'LABEL_19', 'LABEL_18', 'LABEL_18', 'LABEL_38', 'LABEL_34', 'LABEL_8', 'LABEL_8', 'LABEL_8', 'LABEL_7', 'LABEL_8', 'LABEL_8', 'LABEL_18', 'LABEL_8', 'LABEL_25', 'LABEL_8', 'LABEL_33', 'LABEL_28', 'LABEL_7', 'LABEL_8', 'LABEL_8', 'LABEL_8', 'LABEL_25', 'LABEL_8', 'LABEL_25', 'LABEL_19', 'LABEL_19', 'LABEL_28', 'LABEL_19', 'LABEL_28', 'LABEL_35', 'LABEL_35', 'LABEL_34', 'LABEL_25', 'LABEL_25', 'LABEL_25']\n",
      "Word IDs\n",
      "[None, 0, 1, 2, 2, 2, 2, 3, 3, 4, 5, 5, 5, 5, 6, 6, 7, 7, 8, 8, 8, 9, 9, 10, 10, 11, 11, 11, 11, 12, 13, 13, 14, 14, 15, 16, 17, 18, 18, 19, 20, 21, 22, 22, 23, 24, 25, None]\n",
      "Predicted token class\n",
      "['LABEL_25', 'LABEL_9', 'LABEL_9', 'LABEL_9', 'LABEL_8', 'LABEL_8', 'LABEL_25', 'LABEL_9', 'LABEL_9', 'LABEL_8', 'LABEL_9', 'LABEL_25', 'LABEL_9', 'LABEL_9', 'LABEL_9', 'LABEL_9', 'LABEL_9', 'LABEL_9', 'LABEL_25', 'LABEL_9', 'LABEL_9', 'LABEL_9', 'LABEL_9', 'LABEL_8', 'LABEL_8', 'LABEL_8', 'LABEL_28', 'LABEL_8', 'LABEL_28', 'LABEL_19', 'LABEL_18', 'LABEL_8', 'LABEL_33', 'LABEL_19', 'LABEL_28', 'LABEL_19', 'LABEL_29', 'LABEL_29', 'LABEL_8', 'LABEL_8', 'LABEL_8', 'LABEL_8', 'LABEL_8', 'LABEL_8', 'LABEL_7', 'LABEL_8', 'LABEL_25', 'LABEL_8', 'LABEL_8', 'LABEL_8', 'LABEL_8', 'LABEL_8', 'LABEL_8', 'LABEL_0', 'LABEL_0', 'LABEL_7', 'LABEL_7', 'LABEL_7', 'LABEL_8', 'LABEL_8', 'LABEL_8', 'LABEL_8', 'LABEL_8', 'LABEL_8', 'LABEL_8', 'LABEL_33', 'LABEL_7', 'LABEL_8', 'LABEL_8', 'LABEL_8', 'LABEL_8', 'LABEL_9', 'LABEL_9', 'LABEL_8', 'LABEL_8', 'LABEL_9', 'LABEL_28', 'LABEL_9', 'LABEL_28', 'LABEL_25', 'LABEL_9', 'LABEL_9', 'LABEL_9', 'LABEL_9', 'LABEL_25', 'LABEL_9', 'LABEL_9', 'LABEL_8', 'LABEL_9', 'LABEL_25', 'LABEL_9', 'LABEL_9', 'LABEL_9', 'LABEL_8', 'LABEL_8', 'LABEL_16', 'LABEL_33', 'LABEL_8', 'LABEL_8', 'LABEL_38', 'LABEL_34', 'LABEL_33', 'LABEL_33', 'LABEL_33', 'LABEL_25', 'LABEL_25']\n",
      "Word IDs\n",
      "[None, 0, 0, 0, 1, 1, 2, 3, 3, 4, 4, 5, 6, 6, 6, 6, 7, 7, 8, 9, 9, 9, 9, 10, 10, 11, 11, 12, 12, 13, 14, 14, 14, 15, 16, 17, 18, 18, 19, 19, 20, 20, 20, 20, 21, 22, 22, 22, 23, 23, 23, 23, 23, 24, 24, 25, 25, 25, 26, 27, 27, 27, 28, 28, 28, 28, 29, 29, 29, 30, 30, 31, 31, 32, 32, 32, 33, 34, 35, 36, 37, 37, 37, 37, 38, 39, 39, 40, 40, 41, 42, 42, 42, 43, 43, 44, 44, 45, 45, 46, 46, 47, 47, 47, 48, None]\n",
      "Predicted token class\n",
      "['LABEL_25', 'LABEL_7', 'LABEL_25', 'LABEL_7', 'LABEL_8', 'LABEL_8', 'LABEL_9', 'LABEL_25', 'LABEL_9', 'LABEL_9', 'LABEL_9', 'LABEL_8', 'LABEL_8', 'LABEL_9', 'LABEL_25', 'LABEL_9', 'LABEL_9', 'LABEL_9', 'LABEL_16', 'LABEL_8', 'LABEL_8', 'LABEL_8', 'LABEL_8', 'LABEL_25', 'LABEL_26', 'LABEL_26', 'LABEL_28', 'LABEL_26', 'LABEL_28', 'LABEL_19', 'LABEL_28', 'LABEL_19', 'LABEL_28', 'LABEL_19', 'LABEL_25', 'LABEL_8', 'LABEL_18', 'LABEL_25', 'LABEL_9', 'LABEL_9', 'LABEL_19', 'LABEL_25', 'LABEL_25']\n",
      "Word IDs\n",
      "[None, 0, 0, 0, 1, 1, 1, 2, 3, 3, 3, 4, 4, 4, 5, 6, 6, 6, 7, 8, 8, 9, 9, 10, 11, 11, 12, 13, 14, 15, 16, 17, 18, 19, 20, 21, 21, 22, 23, 23, 23, 24, None]\n",
      "Predicted token class\n",
      "['LABEL_25', 'LABEL_8', 'LABEL_28', 'LABEL_19', 'LABEL_18', 'LABEL_18', 'LABEL_33', 'LABEL_19', 'LABEL_28', 'LABEL_19', 'LABEL_29', 'LABEL_29', 'LABEL_8', 'LABEL_7', 'LABEL_8', 'LABEL_18', 'LABEL_18', 'LABEL_33', 'LABEL_7', 'LABEL_8', 'LABEL_25', 'LABEL_8', 'LABEL_8', 'LABEL_8', 'LABEL_8', 'LABEL_8', 'LABEL_9', 'LABEL_0', 'LABEL_0', 'LABEL_7', 'LABEL_7', 'LABEL_9', 'LABEL_7', 'LABEL_7', 'LABEL_9', 'LABEL_9', 'LABEL_16', 'LABEL_7', 'LABEL_7', 'LABEL_8', 'LABEL_8', 'LABEL_36', 'LABEL_33', 'LABEL_7', 'LABEL_7', 'LABEL_7', 'LABEL_8', 'LABEL_8', 'LABEL_8', 'LABEL_18', 'LABEL_8', 'LABEL_8', 'LABEL_8', 'LABEL_33', 'LABEL_8', 'LABEL_25', 'LABEL_8', 'LABEL_8', 'LABEL_8', 'LABEL_25', 'LABEL_7', 'LABEL_9', 'LABEL_9', 'LABEL_9', 'LABEL_7', 'LABEL_9', 'LABEL_9', 'LABEL_8', 'LABEL_25', 'LABEL_9', 'LABEL_28', 'LABEL_9', 'LABEL_28', 'LABEL_25', 'LABEL_9', 'LABEL_9', 'LABEL_9', 'LABEL_9', 'LABEL_8', 'LABEL_33', 'LABEL_8', 'LABEL_18', 'LABEL_18', 'LABEL_18', 'LABEL_8', 'LABEL_22', 'LABEL_38', 'LABEL_34', 'LABEL_33', 'LABEL_33', 'LABEL_11', 'LABEL_36', 'LABEL_33', 'LABEL_34', 'LABEL_8', 'LABEL_8', 'LABEL_8', 'LABEL_8', 'LABEL_28', 'LABEL_19', 'LABEL_28', 'LABEL_18', 'LABEL_7', 'LABEL_7', 'LABEL_7', 'LABEL_8', 'LABEL_8', 'LABEL_8', 'LABEL_10', 'LABEL_25', 'LABEL_10', 'LABEL_8', 'LABEL_33', 'LABEL_7', 'LABEL_7', 'LABEL_7', 'LABEL_8', 'LABEL_8', 'LABEL_8', 'LABEL_8', 'LABEL_33', 'LABEL_7', 'LABEL_7', 'LABEL_8', 'LABEL_8', 'LABEL_8', 'LABEL_25', 'LABEL_8', 'LABEL_8', 'LABEL_8', 'LABEL_8', 'LABEL_7', 'LABEL_8', 'LABEL_11', 'LABEL_35', 'LABEL_7', 'LABEL_34', 'LABEL_8', 'LABEL_8', 'LABEL_8', 'LABEL_18', 'LABEL_28', 'LABEL_19', 'LABEL_28', 'LABEL_0', 'LABEL_8', 'LABEL_28', 'LABEL_19', 'LABEL_28', 'LABEL_18', 'LABEL_7', 'LABEL_7', 'LABEL_3', 'LABEL_11', 'LABEL_8', 'LABEL_8', 'LABEL_8', 'LABEL_8', 'LABEL_8', 'LABEL_34', 'LABEL_8', 'LABEL_8', 'LABEL_25', 'LABEL_25']\n",
      "Word IDs\n",
      "[None, 0, 0, 1, 2, 2, 2, 3, 4, 5, 6, 6, 7, 7, 8, 8, 8, 8, 9, 10, 10, 10, 11, 11, 11, 11, 11, 12, 12, 13, 13, 13, 14, 14, 15, 15, 16, 17, 17, 18, 18, 19, 19, 20, 20, 20, 21, 22, 22, 22, 23, 23, 23, 23, 24, 24, 24, 24, 24, 25, 26, 26, 26, 27, 27, 28, 28, 29, 29, 29, 30, 31, 32, 33, 34, 34, 34, 34, 35, 35, 36, 36, 36, 36, 37, 37, 38, 38, 39, 39, 40, 41, 41, 42, 43, 43, 44, 44, 45, 46, 47, 48, 49, 49, 49, 50, 50, 50, 51, 51, 51, 51, 51, 52, 52, 52, 53, 53, 53, 53, 53, 54, 54, 55, 55, 55, 56, 57, 57, 57, 58, 58, 59, 60, 61, 61, 62, 63, 63, 64, 64, 65, 66, 67, 68, 68, 69, 70, 71, 72, 72, 72, 73, 74, 74, 75, 76, 77, 77, 78, 78, 78, 79, None]\n",
      "Predicted token class\n",
      "['LABEL_25', 'LABEL_9', 'LABEL_9', 'LABEL_8', 'LABEL_9', 'LABEL_25', 'LABEL_9', 'LABEL_9', 'LABEL_9', 'LABEL_9', 'LABEL_8', 'LABEL_9', 'LABEL_25', 'LABEL_9', 'LABEL_9', 'LABEL_9', 'LABEL_9', 'LABEL_8', 'LABEL_8', 'LABEL_8', 'LABEL_28', 'LABEL_8', 'LABEL_28', 'LABEL_19', 'LABEL_18', 'LABEL_8', 'LABEL_33', 'LABEL_19', 'LABEL_28', 'LABEL_19', 'LABEL_29', 'LABEL_29', 'LABEL_28', 'LABEL_29', 'LABEL_29', 'LABEL_8', 'LABEL_8', 'LABEL_38', 'LABEL_34', 'LABEL_25', 'LABEL_8', 'LABEL_35', 'LABEL_1', 'LABEL_33', 'LABEL_35', 'LABEL_25', 'LABEL_35', 'LABEL_34', 'LABEL_34', 'LABEL_35', 'LABEL_34', 'LABEL_25', 'LABEL_25']\n",
      "Word IDs\n",
      "[None, 0, 0, 1, 1, 2, 3, 3, 3, 3, 4, 4, 5, 6, 6, 6, 6, 7, 7, 8, 8, 9, 9, 10, 11, 11, 11, 12, 13, 14, 15, 15, 16, 17, 17, 18, 18, 19, 19, 20, 21, 21, 22, 22, 23, 23, 23, 23, 24, 24, 24, 25, None]\n"
     ]
    },
    {
     "name": "stdout",
     "output_type": "stream",
     "text": [
      "Predicted token class\n",
      "['LABEL_25', 'LABEL_9', 'LABEL_9', 'LABEL_9', 'LABEL_9', 'LABEL_8', 'LABEL_8', 'LABEL_8', 'LABEL_33', 'LABEL_19', 'LABEL_19', 'LABEL_8', 'LABEL_8', 'LABEL_8', 'LABEL_38', 'LABEL_34', 'LABEL_25', 'LABEL_16', 'LABEL_16', 'LABEL_11', 'LABEL_8', 'LABEL_11', 'LABEL_8', 'LABEL_8', 'LABEL_7', 'LABEL_7', 'LABEL_8', 'LABEL_7', 'LABEL_7', 'LABEL_8', 'LABEL_8', 'LABEL_8', 'LABEL_33', 'LABEL_33', 'LABEL_7', 'LABEL_25', 'LABEL_7', 'LABEL_19', 'LABEL_19', 'LABEL_28', 'LABEL_19', 'LABEL_29', 'LABEL_29', 'LABEL_28', 'LABEL_29', 'LABEL_29', 'LABEL_7', 'LABEL_7', 'LABEL_8', 'LABEL_8', 'LABEL_8', 'LABEL_8', 'LABEL_38', 'LABEL_34', 'LABEL_34', 'LABEL_8', 'LABEL_8', 'LABEL_25', 'LABEL_33', 'LABEL_8', 'LABEL_22', 'LABEL_35', 'LABEL_35', 'LABEL_35', 'LABEL_34', 'LABEL_34', 'LABEL_34', 'LABEL_34', 'LABEL_1', 'LABEL_33', 'LABEL_8', 'LABEL_35', 'LABEL_34', 'LABEL_35', 'LABEL_35', 'LABEL_25', 'LABEL_25']\n",
      "Word IDs\n",
      "[None, 0, 0, 0, 0, 1, 1, 1, 1, 2, 2, 3, 3, 3, 4, 4, 5, 6, 6, 7, 7, 7, 8, 8, 9, 9, 9, 10, 10, 11, 11, 11, 11, 11, 12, 12, 12, 13, 13, 14, 15, 16, 16, 17, 18, 18, 19, 19, 20, 20, 21, 21, 22, 22, 22, 23, 23, 23, 23, 24, 24, 25, 25, 26, 26, 26, 26, 26, 27, 27, 28, 29, 30, 30, 30, 31, None]\n",
      "Predicted token class\n",
      "['LABEL_25', 'LABEL_9', 'LABEL_9', 'LABEL_8', 'LABEL_9', 'LABEL_25', 'LABEL_9', 'LABEL_9', 'LABEL_8', 'LABEL_9', 'LABEL_16', 'LABEL_37', 'LABEL_37', 'LABEL_34', 'LABEL_34', 'LABEL_8', 'LABEL_8', 'LABEL_8', 'LABEL_7', 'LABEL_7', 'LABEL_7', 'LABEL_8', 'LABEL_18', 'LABEL_33', 'LABEL_33', 'LABEL_9', 'LABEL_8', 'LABEL_9', 'LABEL_9', 'LABEL_8', 'LABEL_8', 'LABEL_8', 'LABEL_28', 'LABEL_8', 'LABEL_28', 'LABEL_19', 'LABEL_18', 'LABEL_8', 'LABEL_33', 'LABEL_8', 'LABEL_8', 'LABEL_7', 'LABEL_8', 'LABEL_8', 'LABEL_8', 'LABEL_37', 'LABEL_38', 'LABEL_34', 'LABEL_34', 'LABEL_34', 'LABEL_0', 'LABEL_9', 'LABEL_9', 'LABEL_9', 'LABEL_8', 'LABEL_8', 'LABEL_8', 'LABEL_8', 'LABEL_8', 'LABEL_33', 'LABEL_7', 'LABEL_19', 'LABEL_29', 'LABEL_29', 'LABEL_29', 'LABEL_25', 'LABEL_8', 'LABEL_18', 'LABEL_33', 'LABEL_33', 'LABEL_38', 'LABEL_34', 'LABEL_34', 'LABEL_34', 'LABEL_0', 'LABEL_7', 'LABEL_7', 'LABEL_7', 'LABEL_8', 'LABEL_18', 'LABEL_8', 'LABEL_7', 'LABEL_7', 'LABEL_7', 'LABEL_8', 'LABEL_8', 'LABEL_8', 'LABEL_8', 'LABEL_8', 'LABEL_8', 'LABEL_8', 'LABEL_8', 'LABEL_8', 'LABEL_37', 'LABEL_35', 'LABEL_37', 'LABEL_34', 'LABEL_34', 'LABEL_34', 'LABEL_34', 'LABEL_35', 'LABEL_1', 'LABEL_33', 'LABEL_0', 'LABEL_7', 'LABEL_8', 'LABEL_25', 'LABEL_8', 'LABEL_37', 'LABEL_37', 'LABEL_8', 'LABEL_37', 'LABEL_37', 'LABEL_34', 'LABEL_34', 'LABEL_19', 'LABEL_28', 'LABEL_19', 'LABEL_29', 'LABEL_29', 'LABEL_8', 'LABEL_8', 'LABEL_7', 'LABEL_7', 'LABEL_8', 'LABEL_8', 'LABEL_8', 'LABEL_8', 'LABEL_8', 'LABEL_35', 'LABEL_8', 'LABEL_35', 'LABEL_8', 'LABEL_34', 'LABEL_8', 'LABEL_35', 'LABEL_1', 'LABEL_33', 'LABEL_35', 'LABEL_8', 'LABEL_8', 'LABEL_35', 'LABEL_8', 'LABEL_8', 'LABEL_8', 'LABEL_8', 'LABEL_8', 'LABEL_33', 'LABEL_8', 'LABEL_34', 'LABEL_33', 'LABEL_8', 'LABEL_35', 'LABEL_8', 'LABEL_33', 'LABEL_35', 'LABEL_35', 'LABEL_8', 'LABEL_8', 'LABEL_35', 'LABEL_8', 'LABEL_33', 'LABEL_8', 'LABEL_35', 'LABEL_34', 'LABEL_35', 'LABEL_33', 'LABEL_35', 'LABEL_35', 'LABEL_1', 'LABEL_33', 'LABEL_35', 'LABEL_35', 'LABEL_34', 'LABEL_8', 'LABEL_8', 'LABEL_25', 'LABEL_25']\n",
      "Word IDs\n",
      "[None, 0, 0, 0, 0, 1, 2, 2, 3, 3, 4, 5, 5, 6, 6, 7, 7, 7, 8, 8, 8, 9, 9, 9, 9, 10, 10, 10, 10, 11, 11, 12, 12, 13, 13, 14, 15, 15, 15, 16, 16, 17, 17, 18, 18, 18, 19, 19, 19, 20, 21, 21, 22, 22, 23, 23, 23, 24, 24, 24, 25, 26, 27, 27, 27, 27, 28, 28, 28, 28, 29, 29, 29, 30, 31, 31, 32, 32, 33, 33, 33, 34, 35, 35, 36, 36, 36, 36, 37, 37, 37, 38, 38, 39, 40, 40, 41, 41, 41, 41, 41, 42, 42, 43, 43, 44, 44, 44, 44, 45, 45, 45, 45, 46, 46, 47, 48, 49, 50, 50, 51, 51, 52, 52, 53, 53, 53, 53, 54, 54, 54, 54, 54, 55, 55, 55, 56, 56, 57, 57, 58, 58, 58, 58, 59, 59, 59, 60, 61, 61, 61, 62, 62, 62, 62, 62, 62, 63, 63, 63, 64, 64, 64, 65, 66, 66, 66, 66, 66, 67, 67, 68, 68, 69, 69, 69, 70, None]\n",
      "Predicted token class\n",
      "['LABEL_25', 'LABEL_7', 'LABEL_8', 'LABEL_8', 'LABEL_8', 'LABEL_8', 'LABEL_8', 'LABEL_25', 'LABEL_8', 'LABEL_8', 'LABEL_8', 'LABEL_0', 'LABEL_0', 'LABEL_7', 'LABEL_7', 'LABEL_8', 'LABEL_8', 'LABEL_8', 'LABEL_25', 'LABEL_16', 'LABEL_37', 'LABEL_37', 'LABEL_34', 'LABEL_34', 'LABEL_8', 'LABEL_33', 'LABEL_25', 'LABEL_9', 'LABEL_9', 'LABEL_19', 'LABEL_18', 'LABEL_10', 'LABEL_25', 'LABEL_8', 'LABEL_18', 'LABEL_8', 'LABEL_33', 'LABEL_9', 'LABEL_9', 'LABEL_9', 'LABEL_9', 'LABEL_8', 'LABEL_8', 'LABEL_7', 'LABEL_8', 'LABEL_7', 'LABEL_8', 'LABEL_18', 'LABEL_33', 'LABEL_9', 'LABEL_9', 'LABEL_9', 'LABEL_9', 'LABEL_8', 'LABEL_18', 'LABEL_7', 'LABEL_7', 'LABEL_8', 'LABEL_8', 'LABEL_8', 'LABEL_28', 'LABEL_19', 'LABEL_19', 'LABEL_19', 'LABEL_19', 'LABEL_19', 'LABEL_28', 'LABEL_19', 'LABEL_8', 'LABEL_8', 'LABEL_8', 'LABEL_18', 'LABEL_19', 'LABEL_19', 'LABEL_19', 'LABEL_7', 'LABEL_8', 'LABEL_8', 'LABEL_8', 'LABEL_8', 'LABEL_33', 'LABEL_18', 'LABEL_28', 'LABEL_35', 'LABEL_34', 'LABEL_25', 'LABEL_34', 'LABEL_1', 'LABEL_33', 'LABEL_8', 'LABEL_35', 'LABEL_34', 'LABEL_34', 'LABEL_34', 'LABEL_25', 'LABEL_25']\n",
      "Word IDs\n",
      "[None, 0, 1, 1, 1, 1, 1, 2, 3, 3, 3, 4, 4, 5, 5, 6, 6, 6, 7, 8, 9, 9, 10, 10, 11, 11, 12, 13, 13, 13, 14, 15, 15, 15, 15, 15, 15, 16, 16, 16, 16, 17, 17, 18, 18, 18, 19, 19, 19, 20, 20, 20, 20, 21, 21, 22, 22, 23, 23, 24, 24, 25, 25, 26, 26, 26, 27, 28, 29, 29, 29, 29, 30, 30, 31, 31, 32, 32, 32, 32, 33, 33, 34, 35, 36, 36, 36, 37, 37, 38, 39, 40, 40, 40, 41, None]\n",
      "Predicted token class\n",
      "['LABEL_25', 'LABEL_7', 'LABEL_7', 'LABEL_7', 'LABEL_8', 'LABEL_8', 'LABEL_7', 'LABEL_9', 'LABEL_8', 'LABEL_25', 'LABEL_9', 'LABEL_28', 'LABEL_9', 'LABEL_28', 'LABEL_9', 'LABEL_9', 'LABEL_9', 'LABEL_9', 'LABEL_25', 'LABEL_9', 'LABEL_9', 'LABEL_9', 'LABEL_8', 'LABEL_18', 'LABEL_25', 'LABEL_9', 'LABEL_9', 'LABEL_19', 'LABEL_18', 'LABEL_33', 'LABEL_8', 'LABEL_8', 'LABEL_8', 'LABEL_35', 'LABEL_34', 'LABEL_25', 'LABEL_34', 'LABEL_1', 'LABEL_33', 'LABEL_14', 'LABEL_38', 'LABEL_7', 'LABEL_8', 'LABEL_8', 'LABEL_35', 'LABEL_34', 'LABEL_34', 'LABEL_34', 'LABEL_34', 'LABEL_34', 'LABEL_1', 'LABEL_33', 'LABEL_38', 'LABEL_38', 'LABEL_7', 'LABEL_7', 'LABEL_8', 'LABEL_8', 'LABEL_8', 'LABEL_18', 'LABEL_35', 'LABEL_35', 'LABEL_34', 'LABEL_34', 'LABEL_34', 'LABEL_25', 'LABEL_25']\n",
      "Word IDs\n",
      "[None, 0, 0, 0, 1, 1, 2, 2, 3, 3, 3, 4, 5, 6, 7, 7, 7, 7, 8, 9, 9, 9, 10, 10, 11, 12, 12, 12, 13, 13, 14, 14, 14, 15, 16, 16, 16, 17, 17, 18, 18, 18, 19, 19, 20, 21, 21, 21, 21, 21, 22, 22, 23, 23, 24, 24, 25, 25, 25, 25, 26, 26, 27, 27, 27, 28, None]\n",
      "Predicted token class\n",
      "['LABEL_25', 'LABEL_19', 'LABEL_28', 'LABEL_21', 'LABEL_18', 'LABEL_8', 'LABEL_33', 'LABEL_37', 'LABEL_25', 'LABEL_37', 'LABEL_33', 'LABEL_19', 'LABEL_8', 'LABEL_8', 'LABEL_18', 'LABEL_7', 'LABEL_7', 'LABEL_8', 'LABEL_8', 'LABEL_18', 'LABEL_18', 'LABEL_35', 'LABEL_35', 'LABEL_34', 'LABEL_34', 'LABEL_34', 'LABEL_25', 'LABEL_25']\n",
      "Word IDs\n",
      "[None, 0, 1, 2, 2, 3, 3, 4, 4, 4, 4, 5, 6, 6, 6, 7, 7, 8, 8, 8, 8, 9, 9, 10, 10, 10, 11, None]\n",
      "Predicted token class\n",
      "['LABEL_25', 'LABEL_7', 'LABEL_8', 'LABEL_7', 'LABEL_8', 'LABEL_8', 'LABEL_9', 'LABEL_25', 'LABEL_9', 'LABEL_9', 'LABEL_9', 'LABEL_8', 'LABEL_8', 'LABEL_9', 'LABEL_25', 'LABEL_9', 'LABEL_9', 'LABEL_9', 'LABEL_0', 'LABEL_9', 'LABEL_7', 'LABEL_7', 'LABEL_8', 'LABEL_8', 'LABEL_8', 'LABEL_25', 'LABEL_9', 'LABEL_9', 'LABEL_9', 'LABEL_8', 'LABEL_8', 'LABEL_16', 'LABEL_8', 'LABEL_8', 'LABEL_8', 'LABEL_10', 'LABEL_10', 'LABEL_33', 'LABEL_8', 'LABEL_8', 'LABEL_33', 'LABEL_33', 'LABEL_22', 'LABEL_25', 'LABEL_22', 'LABEL_33', 'LABEL_33', 'LABEL_37', 'LABEL_37', 'LABEL_37', 'LABEL_25', 'LABEL_8', 'LABEL_8', 'LABEL_33', 'LABEL_3', 'LABEL_11', 'LABEL_11', 'LABEL_37', 'LABEL_35', 'LABEL_35', 'LABEL_34', 'LABEL_25', 'LABEL_25']\n",
      "Word IDs\n",
      "[None, 0, 0, 0, 1, 1, 1, 2, 3, 3, 3, 4, 4, 4, 5, 6, 6, 6, 7, 7, 8, 8, 9, 9, 9, 10, 11, 11, 11, 12, 12, 13, 14, 14, 14, 14, 14, 14, 15, 15, 16, 16, 17, 17, 17, 17, 17, 18, 18, 18, 19, 20, 20, 20, 21, 22, 22, 23, 24, 24, 24, 25, None]\n",
      "Predicted token class\n",
      "['LABEL_25', 'LABEL_8', 'LABEL_25', 'LABEL_8', 'LABEL_7', 'LABEL_7', 'LABEL_8', 'LABEL_8', 'LABEL_25', 'LABEL_8', 'LABEL_8', 'LABEL_19', 'LABEL_9', 'LABEL_9', 'LABEL_9', 'LABEL_9', 'LABEL_19', 'LABEL_25', 'LABEL_9', 'LABEL_9', 'LABEL_9', 'LABEL_8', 'LABEL_18', 'LABEL_25', 'LABEL_9', 'LABEL_9', 'LABEL_9', 'LABEL_19', 'LABEL_25', 'LABEL_25']\n",
      "Word IDs\n",
      "[None, 0, 0, 0, 1, 1, 2, 2, 3, 4, 4, 5, 6, 6, 6, 6, 7, 8, 9, 9, 9, 10, 10, 11, 12, 12, 12, 12, 13, None]\n"
     ]
    },
    {
     "name": "stdout",
     "output_type": "stream",
     "text": [
      "Predicted token class\n",
      "['LABEL_25', 'LABEL_8', 'LABEL_8', 'LABEL_8', 'LABEL_8', 'LABEL_18', 'LABEL_33', 'LABEL_33', 'LABEL_37', 'LABEL_8', 'LABEL_37', 'LABEL_34', 'LABEL_34', 'LABEL_8', 'LABEL_8', 'LABEL_8', 'LABEL_8', 'LABEL_8', 'LABEL_9', 'LABEL_33', 'LABEL_33', 'LABEL_25', 'LABEL_9', 'LABEL_9', 'LABEL_9', 'LABEL_8', 'LABEL_8', 'LABEL_25', 'LABEL_9', 'LABEL_9', 'LABEL_8', 'LABEL_8', 'LABEL_25', 'LABEL_9', 'LABEL_9', 'LABEL_9', 'LABEL_9', 'LABEL_8', 'LABEL_9', 'LABEL_25', 'LABEL_9', 'LABEL_9', 'LABEL_9', 'LABEL_9', 'LABEL_8', 'LABEL_8', 'LABEL_8', 'LABEL_28', 'LABEL_8', 'LABEL_28', 'LABEL_19', 'LABEL_18', 'LABEL_8', 'LABEL_33', 'LABEL_19', 'LABEL_28', 'LABEL_19', 'LABEL_29', 'LABEL_29', 'LABEL_8', 'LABEL_7', 'LABEL_8', 'LABEL_18', 'LABEL_18', 'LABEL_33', 'LABEL_9', 'LABEL_9', 'LABEL_9', 'LABEL_7', 'LABEL_7', 'LABEL_8', 'LABEL_8', 'LABEL_8', 'LABEL_8', 'LABEL_25', 'LABEL_8', 'LABEL_18', 'LABEL_8', 'LABEL_8', 'LABEL_19', 'LABEL_28', 'LABEL_8', 'LABEL_18', 'LABEL_28', 'LABEL_33', 'LABEL_8', 'LABEL_7', 'LABEL_8', 'LABEL_8', 'LABEL_8', 'LABEL_18', 'LABEL_37', 'LABEL_8', 'LABEL_37', 'LABEL_25', 'LABEL_9', 'LABEL_9', 'LABEL_9', 'LABEL_7', 'LABEL_7', 'LABEL_25', 'LABEL_8', 'LABEL_8', 'LABEL_8', 'LABEL_8', 'LABEL_25', 'LABEL_8', 'LABEL_18', 'LABEL_8', 'LABEL_8', 'LABEL_8', 'LABEL_18', 'LABEL_33', 'LABEL_8', 'LABEL_8', 'LABEL_25', 'LABEL_33', 'LABEL_7', 'LABEL_7', 'LABEL_25', 'LABEL_8', 'LABEL_7', 'LABEL_7', 'LABEL_8', 'LABEL_8', 'LABEL_8', 'LABEL_8', 'LABEL_8', 'LABEL_8', 'LABEL_8', 'LABEL_8', 'LABEL_8', 'LABEL_9', 'LABEL_7', 'LABEL_8', 'LABEL_18', 'LABEL_8', 'LABEL_8', 'LABEL_8', 'LABEL_8', 'LABEL_25', 'LABEL_8', 'LABEL_18', 'LABEL_8', 'LABEL_8', 'LABEL_19', 'LABEL_9', 'LABEL_28', 'LABEL_19', 'LABEL_28', 'LABEL_28', 'LABEL_19', 'LABEL_28', 'LABEL_28', 'LABEL_19', 'LABEL_28', 'LABEL_8', 'LABEL_7', 'LABEL_8', 'LABEL_8', 'LABEL_8', 'LABEL_8', 'LABEL_8', 'LABEL_8', 'LABEL_8', 'LABEL_33', 'LABEL_8', 'LABEL_8', 'LABEL_25', 'LABEL_19', 'LABEL_8', 'LABEL_8', 'LABEL_7', 'LABEL_8', 'LABEL_8', 'LABEL_8', 'LABEL_8', 'LABEL_8', 'LABEL_8', 'LABEL_8', 'LABEL_8', 'LABEL_8', 'LABEL_8', 'LABEL_8', 'LABEL_8', 'LABEL_8', 'LABEL_8', 'LABEL_8', 'LABEL_8', 'LABEL_8', 'LABEL_34', 'LABEL_8', 'LABEL_8', 'LABEL_8', 'LABEL_28', 'LABEL_8', 'LABEL_28', 'LABEL_25', 'LABEL_8', 'LABEL_8', 'LABEL_8', 'LABEL_8', 'LABEL_8', 'LABEL_25', 'LABEL_7', 'LABEL_8', 'LABEL_8', 'LABEL_8', 'LABEL_25', 'LABEL_9', 'LABEL_8', 'LABEL_8', 'LABEL_8', 'LABEL_7', 'LABEL_8', 'LABEL_8', 'LABEL_8', 'LABEL_8', 'LABEL_8', 'LABEL_8', 'LABEL_8', 'LABEL_8', 'LABEL_8', 'LABEL_35', 'LABEL_8', 'LABEL_0', 'LABEL_8', 'LABEL_8', 'LABEL_8', 'LABEL_8', 'LABEL_8', 'LABEL_8', 'LABEL_8', 'LABEL_8', 'LABEL_8', 'LABEL_8', 'LABEL_8', 'LABEL_8', 'LABEL_3', 'LABEL_8', 'LABEL_8', 'LABEL_33', 'LABEL_8', 'LABEL_18', 'LABEL_8', 'LABEL_8', 'LABEL_8', 'LABEL_8', 'LABEL_8', 'LABEL_8', 'LABEL_8', 'LABEL_18', 'LABEL_35', 'LABEL_8', 'LABEL_8', 'LABEL_34', 'LABEL_25', 'LABEL_25']\n",
      "Word IDs\n",
      "[None, 0, 0, 0, 0, 0, 0, 0, 1, 1, 1, 2, 2, 3, 3, 3, 4, 4, 4, 4, 4, 5, 6, 6, 6, 7, 7, 8, 9, 9, 10, 10, 11, 12, 12, 12, 12, 13, 13, 14, 15, 15, 15, 15, 16, 16, 17, 17, 18, 18, 19, 20, 20, 20, 21, 22, 23, 24, 24, 25, 25, 26, 26, 26, 26, 27, 27, 27, 28, 29, 29, 30, 30, 30, 31, 32, 32, 33, 33, 34, 35, 36, 36, 37, 38, 39, 39, 40, 40, 40, 40, 41, 41, 41, 42, 43, 43, 43, 44, 45, 45, 45, 46, 46, 46, 47, 48, 48, 49, 49, 50, 50, 51, 52, 52, 52, 52, 53, 53, 53, 53, 53, 53, 54, 54, 54, 54, 55, 55, 55, 56, 56, 56, 57, 58, 58, 58, 59, 59, 59, 60, 61, 61, 62, 62, 63, 63, 64, 65, 66, 67, 68, 69, 70, 71, 72, 73, 73, 73, 74, 74, 74, 75, 75, 75, 76, 76, 77, 77, 78, 79, 79, 80, 81, 81, 81, 81, 82, 82, 82, 82, 82, 83, 83, 84, 84, 84, 85, 85, 86, 86, 87, 87, 87, 88, 89, 90, 91, 92, 92, 92, 92, 92, 93, 94, 94, 95, 95, 96, 97, 97, 97, 98, 98, 99, 99, 100, 101, 101, 101, 102, 102, 102, 102, 102, 103, 103, 104, 104, 104, 105, 106, 106, 106, 107, 107, 107, 107, 108, 109, 109, 110, 111, 111, 111, 111, 111, 112, 112, 112, 113, 113, 114, 115, 115, 115, 116, None]\n",
      "Predicted token class\n",
      "['LABEL_25', 'LABEL_23', 'LABEL_25', 'LABEL_7', 'LABEL_7', 'LABEL_7', 'LABEL_7', 'LABEL_8', 'LABEL_8', 'LABEL_18', 'LABEL_33', 'LABEL_22', 'LABEL_25', 'LABEL_22', 'LABEL_33', 'LABEL_9', 'LABEL_9', 'LABEL_9', 'LABEL_7', 'LABEL_7', 'LABEL_7', 'LABEL_8', 'LABEL_8', 'LABEL_8', 'LABEL_25', 'LABEL_8', 'LABEL_18', 'LABEL_8', 'LABEL_8', 'LABEL_19', 'LABEL_28', 'LABEL_19', 'LABEL_28', 'LABEL_33', 'LABEL_25', 'LABEL_8', 'LABEL_9', 'LABEL_25', 'LABEL_8', 'LABEL_8', 'LABEL_8', 'LABEL_18', 'LABEL_37', 'LABEL_37', 'LABEL_37', 'LABEL_25', 'LABEL_11', 'LABEL_7', 'LABEL_7', 'LABEL_7', 'LABEL_8', 'LABEL_8', 'LABEL_8', 'LABEL_7', 'LABEL_8', 'LABEL_8', 'LABEL_8', 'LABEL_8', 'LABEL_36', 'LABEL_33', 'LABEL_8', 'LABEL_8', 'LABEL_35', 'LABEL_25', 'LABEL_35', 'LABEL_34', 'LABEL_34', 'LABEL_25', 'LABEL_25']\n",
      "Word IDs\n",
      "[None, 0, 1, 2, 2, 2, 2, 3, 3, 3, 3, 4, 4, 4, 4, 5, 5, 5, 6, 7, 7, 8, 8, 8, 9, 10, 10, 11, 11, 12, 13, 14, 15, 16, 17, 18, 18, 19, 20, 20, 20, 20, 21, 21, 21, 22, 23, 23, 24, 24, 25, 25, 25, 26, 26, 26, 27, 27, 28, 28, 29, 29, 30, 30, 30, 30, 30, 31, None]\n",
      "Predicted token class\n",
      "['LABEL_25', 'LABEL_23', 'LABEL_25', 'LABEL_7', 'LABEL_7', 'LABEL_7', 'LABEL_8', 'LABEL_8', 'LABEL_8', 'LABEL_8', 'LABEL_33', 'LABEL_25', 'LABEL_7', 'LABEL_7', 'LABEL_7', 'LABEL_7', 'LABEL_8', 'LABEL_33', 'LABEL_7', 'LABEL_7', 'LABEL_7', 'LABEL_8', 'LABEL_8', 'LABEL_8', 'LABEL_8', 'LABEL_8', 'LABEL_8', 'LABEL_8', 'LABEL_19', 'LABEL_18', 'LABEL_18', 'LABEL_18', 'LABEL_0', 'LABEL_0', 'LABEL_7', 'LABEL_7', 'LABEL_25', 'LABEL_7', 'LABEL_7', 'LABEL_8', 'LABEL_8', 'LABEL_8', 'LABEL_18', 'LABEL_18', 'LABEL_37', 'LABEL_37', 'LABEL_22', 'LABEL_8', 'LABEL_22', 'LABEL_33', 'LABEL_35', 'LABEL_8', 'LABEL_35', 'LABEL_34', 'LABEL_34', 'LABEL_34', 'LABEL_25', 'LABEL_25']\n",
      "Word IDs\n",
      "[None, 0, 1, 2, 2, 2, 3, 3, 3, 3, 3, 4, 5, 5, 5, 5, 6, 6, 7, 7, 7, 8, 8, 8, 9, 9, 10, 10, 11, 12, 12, 12, 13, 13, 14, 15, 15, 15, 15, 16, 16, 16, 16, 16, 17, 17, 18, 18, 18, 18, 19, 19, 19, 19, 19, 19, 20, None]\n",
      "Predicted token class\n",
      "['LABEL_25', 'LABEL_23', 'LABEL_25', 'LABEL_8', 'LABEL_8', 'LABEL_38', 'LABEL_8', 'LABEL_8', 'LABEL_18', 'LABEL_33', 'LABEL_17', 'LABEL_11', 'LABEL_8', 'LABEL_25', 'LABEL_8', 'LABEL_33', 'LABEL_8', 'LABEL_8', 'LABEL_36', 'LABEL_33', 'LABEL_37', 'LABEL_34', 'LABEL_34', 'LABEL_3', 'LABEL_8', 'LABEL_8', 'LABEL_8', 'LABEL_33', 'LABEL_19', 'LABEL_8', 'LABEL_8', 'LABEL_18', 'LABEL_8', 'LABEL_8', 'LABEL_18', 'LABEL_11', 'LABEL_35', 'LABEL_25', 'LABEL_8', 'LABEL_25', 'LABEL_34', 'LABEL_34', 'LABEL_34', 'LABEL_25', 'LABEL_25']\n",
      "Word IDs\n",
      "[None, 0, 1, 2, 2, 3, 4, 4, 4, 4, 5, 5, 6, 6, 6, 6, 7, 7, 8, 8, 9, 10, 10, 11, 12, 12, 12, 12, 13, 14, 14, 14, 15, 15, 15, 16, 17, 17, 17, 17, 17, 17, 17, 18, None]\n",
      "Predicted token class\n",
      "['LABEL_25', 'LABEL_23', 'LABEL_25', 'LABEL_8', 'LABEL_8', 'LABEL_38', 'LABEL_8', 'LABEL_8', 'LABEL_8', 'LABEL_33', 'LABEL_8', 'LABEL_8', 'LABEL_8', 'LABEL_0', 'LABEL_8', 'LABEL_8', 'LABEL_33', 'LABEL_8', 'LABEL_25', 'LABEL_22', 'LABEL_38', 'LABEL_34', 'LABEL_8', 'LABEL_18', 'LABEL_25', 'LABEL_33', 'LABEL_35', 'LABEL_34', 'LABEL_34', 'LABEL_34', 'LABEL_32', 'LABEL_33', 'LABEL_25', 'LABEL_25']\n",
      "Word IDs\n",
      "[None, 0, 1, 2, 2, 3, 4, 4, 4, 4, 5, 5, 5, 6, 7, 7, 8, 9, 9, 9, 10, 10, 11, 11, 11, 11, 12, 12, 12, 12, 13, 13, 14, None]\n",
      "Predicted token class\n",
      "['LABEL_25', 'LABEL_23', 'LABEL_25', 'LABEL_8', 'LABEL_8', 'LABEL_37', 'LABEL_34', 'LABEL_34', 'LABEL_8', 'LABEL_8', 'LABEL_18', 'LABEL_25', 'LABEL_33', 'LABEL_14', 'LABEL_38', 'LABEL_7', 'LABEL_8', 'LABEL_18', 'LABEL_8', 'LABEL_33', 'LABEL_8', 'LABEL_8', 'LABEL_8', 'LABEL_37', 'LABEL_34', 'LABEL_8', 'LABEL_8', 'LABEL_35', 'LABEL_25', 'LABEL_35', 'LABEL_34', 'LABEL_34', 'LABEL_25', 'LABEL_25']\n",
      "Word IDs\n",
      "[None, 0, 1, 2, 2, 3, 4, 4, 5, 5, 5, 5, 5, 6, 6, 6, 7, 7, 7, 7, 8, 8, 8, 9, 9, 10, 10, 11, 11, 11, 11, 11, 12, None]\n",
      "Predicted token class\n",
      "['LABEL_25', 'LABEL_23', 'LABEL_25', 'LABEL_7', 'LABEL_7', 'LABEL_8', 'LABEL_8', 'LABEL_18', 'LABEL_8', 'LABEL_11', 'LABEL_14', 'LABEL_38', 'LABEL_7', 'LABEL_8', 'LABEL_25', 'LABEL_8', 'LABEL_8', 'LABEL_33', 'LABEL_33', 'LABEL_7', 'LABEL_7', 'LABEL_8', 'LABEL_8', 'LABEL_8', 'LABEL_37', 'LABEL_34', 'LABEL_34', 'LABEL_34', 'LABEL_33', 'LABEL_3', 'LABEL_7', 'LABEL_7', 'LABEL_8', 'LABEL_8', 'LABEL_25', 'LABEL_8', 'LABEL_8', 'LABEL_7', 'LABEL_7', 'LABEL_10', 'LABEL_10', 'LABEL_33', 'LABEL_35', 'LABEL_25', 'LABEL_35', 'LABEL_34', 'LABEL_34', 'LABEL_34', 'LABEL_25', 'LABEL_25']\n",
      "Word IDs\n",
      "[None, 0, 1, 2, 2, 2, 3, 3, 3, 4, 5, 5, 5, 6, 6, 6, 6, 6, 6, 7, 7, 8, 8, 8, 9, 10, 10, 10, 10, 11, 12, 12, 12, 13, 13, 13, 13, 14, 14, 15, 15, 15, 16, 16, 16, 17, 17, 17, 18, None]\n",
      "Predicted token class\n",
      "['LABEL_25', 'LABEL_23', 'LABEL_25', 'LABEL_8', 'LABEL_8', 'LABEL_38', 'LABEL_8', 'LABEL_8', 'LABEL_8', 'LABEL_33', 'LABEL_7', 'LABEL_7', 'LABEL_8', 'LABEL_8', 'LABEL_8', 'LABEL_8', 'LABEL_8', 'LABEL_8', 'LABEL_37', 'LABEL_34', 'LABEL_33', 'LABEL_10', 'LABEL_22', 'LABEL_38', 'LABEL_34', 'LABEL_34', 'LABEL_34', 'LABEL_33', 'LABEL_8', 'LABEL_8', 'LABEL_33', 'LABEL_28', 'LABEL_7', 'LABEL_8', 'LABEL_8', 'LABEL_8', 'LABEL_38', 'LABEL_34', 'LABEL_34', 'LABEL_34', 'LABEL_33', 'LABEL_25', 'LABEL_8', 'LABEL_8', 'LABEL_25', 'LABEL_10', 'LABEL_25', 'LABEL_10', 'LABEL_25', 'LABEL_8', 'LABEL_25', 'LABEL_8', 'LABEL_14', 'LABEL_38', 'LABEL_7', 'LABEL_8', 'LABEL_18', 'LABEL_8', 'LABEL_8', 'LABEL_22', 'LABEL_35', 'LABEL_34', 'LABEL_34', 'LABEL_34', 'LABEL_32', 'LABEL_33', 'LABEL_25', 'LABEL_25']\n",
      "Word IDs\n",
      "[None, 0, 1, 2, 2, 3, 4, 4, 4, 4, 5, 5, 6, 6, 6, 6, 7, 7, 8, 8, 8, 9, 9, 10, 10, 10, 11, 11, 12, 12, 12, 13, 14, 15, 15, 15, 16, 16, 16, 17, 17, 18, 19, 19, 20, 21, 21, 21, 22, 23, 24, 25, 26, 26, 26, 27, 27, 28, 28, 28, 29, 29, 29, 29, 30, 30, 31, None]\n",
      "Predicted token class\n",
      "['LABEL_25', 'LABEL_23', 'LABEL_25', 'LABEL_8', 'LABEL_8', 'LABEL_38', 'LABEL_8', 'LABEL_18', 'LABEL_8', 'LABEL_14', 'LABEL_38', 'LABEL_7', 'LABEL_8', 'LABEL_0', 'LABEL_7', 'LABEL_7', 'LABEL_7', 'LABEL_8', 'LABEL_8', 'LABEL_7', 'LABEL_7', 'LABEL_7', 'LABEL_8', 'LABEL_25', 'LABEL_8', 'LABEL_33', 'LABEL_8', 'LABEL_8', 'LABEL_8', 'LABEL_33', 'LABEL_38', 'LABEL_34', 'LABEL_33', 'LABEL_33', 'LABEL_8', 'LABEL_8', 'LABEL_33', 'LABEL_7', 'LABEL_7', 'LABEL_8', 'LABEL_8', 'LABEL_8', 'LABEL_8', 'LABEL_8', 'LABEL_8', 'LABEL_38', 'LABEL_34', 'LABEL_8', 'LABEL_38', 'LABEL_34', 'LABEL_34', 'LABEL_34', 'LABEL_8', 'LABEL_8', 'LABEL_8', 'LABEL_33', 'LABEL_35', 'LABEL_34', 'LABEL_34', 'LABEL_34', 'LABEL_25', 'LABEL_25']\n",
      "Word IDs\n",
      "[None, 0, 1, 2, 2, 3, 4, 4, 4, 5, 5, 5, 6, 7, 8, 8, 8, 9, 9, 10, 10, 10, 11, 11, 11, 11, 12, 12, 12, 12, 13, 13, 13, 13, 14, 14, 14, 15, 15, 16, 16, 16, 16, 17, 17, 18, 18, 19, 19, 20, 20, 20, 21, 21, 21, 21, 22, 23, 23, 23, 24, None]\n"
     ]
    },
    {
     "name": "stdout",
     "output_type": "stream",
     "text": [
      "Predicted token class\n",
      "['LABEL_25', 'LABEL_23', 'LABEL_25', 'LABEL_8', 'LABEL_8', 'LABEL_38', 'LABEL_8', 'LABEL_18', 'LABEL_18', 'LABEL_8', 'LABEL_33', 'LABEL_7', 'LABEL_7', 'LABEL_7', 'LABEL_7', 'LABEL_8', 'LABEL_8', 'LABEL_8', 'LABEL_18', 'LABEL_33', 'LABEL_38', 'LABEL_38', 'LABEL_38', 'LABEL_34', 'LABEL_11', 'LABEL_8', 'LABEL_8', 'LABEL_33', 'LABEL_33', 'LABEL_22', 'LABEL_25', 'LABEL_8', 'LABEL_8', 'LABEL_8', 'LABEL_33', 'LABEL_38', 'LABEL_38', 'LABEL_34', 'LABEL_34', 'LABEL_8', 'LABEL_8', 'LABEL_8', 'LABEL_18', 'LABEL_33', 'LABEL_38', 'LABEL_25', 'LABEL_34', 'LABEL_8', 'LABEL_8', 'LABEL_8', 'LABEL_8', 'LABEL_33', 'LABEL_35', 'LABEL_34', 'LABEL_34', 'LABEL_25', 'LABEL_25']\n",
      "Word IDs\n",
      "[None, 0, 1, 2, 2, 3, 4, 4, 4, 4, 4, 5, 5, 5, 5, 6, 6, 6, 6, 6, 7, 7, 7, 7, 8, 8, 8, 8, 8, 9, 9, 9, 9, 9, 9, 10, 10, 10, 10, 11, 11, 11, 11, 11, 12, 12, 12, 13, 13, 13, 13, 13, 14, 14, 14, 15, None]\n",
      "Predicted token class\n",
      "['LABEL_25', 'LABEL_8', 'LABEL_8', 'LABEL_33', 'LABEL_33', 'LABEL_38', 'LABEL_8', 'LABEL_8', 'LABEL_38', 'LABEL_34', 'LABEL_34', 'LABEL_8', 'LABEL_8', 'LABEL_8', 'LABEL_18', 'LABEL_33', 'LABEL_22', 'LABEL_8', 'LABEL_22', 'LABEL_33', 'LABEL_35', 'LABEL_25', 'LABEL_25', 'LABEL_35', 'LABEL_34', 'LABEL_34', 'LABEL_25', 'LABEL_25']\n",
      "Word IDs\n",
      "[None, 0, 0, 1, 1, 2, 2, 2, 2, 2, 2, 3, 3, 3, 3, 3, 4, 4, 4, 4, 5, 5, 5, 5, 5, 5, 6, None]\n",
      "Predicted token class\n",
      "['LABEL_25', 'LABEL_23', 'LABEL_25', 'LABEL_8', 'LABEL_8', 'LABEL_38', 'LABEL_8', 'LABEL_8', 'LABEL_9', 'LABEL_9', 'LABEL_9', 'LABEL_7', 'LABEL_7', 'LABEL_7', 'LABEL_8', 'LABEL_8', 'LABEL_8', 'LABEL_8', 'LABEL_25', 'LABEL_8', 'LABEL_18', 'LABEL_8', 'LABEL_8', 'LABEL_8', 'LABEL_33', 'LABEL_22', 'LABEL_8', 'LABEL_8', 'LABEL_33', 'LABEL_38', 'LABEL_34', 'LABEL_25', 'LABEL_7', 'LABEL_7', 'LABEL_8', 'LABEL_8', 'LABEL_8', 'LABEL_10', 'LABEL_8', 'LABEL_10', 'LABEL_8', 'LABEL_38', 'LABEL_33', 'LABEL_33', 'LABEL_25', 'LABEL_3', 'LABEL_7', 'LABEL_7', 'LABEL_8', 'LABEL_8', 'LABEL_8', 'LABEL_18', 'LABEL_37', 'LABEL_37', 'LABEL_37', 'LABEL_25', 'LABEL_37', 'LABEL_37', 'LABEL_8', 'LABEL_8', 'LABEL_38', 'LABEL_8', 'LABEL_8', 'LABEL_18', 'LABEL_33', 'LABEL_14', 'LABEL_38', 'LABEL_7', 'LABEL_8', 'LABEL_8', 'LABEL_38', 'LABEL_34', 'LABEL_8', 'LABEL_8', 'LABEL_8', 'LABEL_8', 'LABEL_25', 'LABEL_33', 'LABEL_35', 'LABEL_35', 'LABEL_35', 'LABEL_34', 'LABEL_34', 'LABEL_34', 'LABEL_25', 'LABEL_25']\n",
      "Word IDs\n",
      "[None, 0, 1, 2, 2, 3, 4, 4, 5, 5, 5, 6, 7, 7, 7, 8, 8, 8, 9, 10, 10, 11, 11, 11, 11, 12, 12, 12, 12, 13, 13, 14, 15, 15, 16, 16, 16, 17, 17, 17, 17, 18, 18, 18, 19, 20, 21, 21, 21, 22, 22, 22, 22, 23, 23, 23, 23, 23, 24, 24, 25, 26, 26, 26, 26, 27, 27, 27, 28, 28, 29, 29, 30, 30, 30, 31, 31, 31, 32, 32, 32, 33, 33, 33, 34, None]\n",
      "Predicted token class\n",
      "['LABEL_25', 'LABEL_23', 'LABEL_25', 'LABEL_7', 'LABEL_7', 'LABEL_8', 'LABEL_8', 'LABEL_8', 'LABEL_7', 'LABEL_7', 'LABEL_7', 'LABEL_7', 'LABEL_8', 'LABEL_25', 'LABEL_25', 'LABEL_8', 'LABEL_8', 'LABEL_18', 'LABEL_33', 'LABEL_35', 'LABEL_35', 'LABEL_34', 'LABEL_34', 'LABEL_34', 'LABEL_25', 'LABEL_25']\n",
      "Word IDs\n",
      "[None, 0, 1, 2, 2, 3, 3, 3, 4, 5, 5, 5, 6, 6, 6, 6, 6, 6, 6, 7, 7, 7, 7, 8, 9, None]\n",
      "Predicted token class\n",
      "['LABEL_25', 'LABEL_25', 'LABEL_3', 'LABEL_8', 'LABEL_8', 'LABEL_8', 'LABEL_25', 'LABEL_8', 'LABEL_18', 'LABEL_25', 'LABEL_9', 'LABEL_9', 'LABEL_19', 'LABEL_18', 'LABEL_18', 'LABEL_38', 'LABEL_34', 'LABEL_8', 'LABEL_8', 'LABEL_8', 'LABEL_7', 'LABEL_8', 'LABEL_8', 'LABEL_18', 'LABEL_8', 'LABEL_25', 'LABEL_8', 'LABEL_33', 'LABEL_28', 'LABEL_7', 'LABEL_8', 'LABEL_8', 'LABEL_8', 'LABEL_28', 'LABEL_8', 'LABEL_25', 'LABEL_19', 'LABEL_19', 'LABEL_28', 'LABEL_19', 'LABEL_28', 'LABEL_35', 'LABEL_35', 'LABEL_34', 'LABEL_25', 'LABEL_25', 'LABEL_25']\n",
      "Word IDs\n",
      "[None, 0, 1, 2, 2, 2, 2, 3, 3, 4, 5, 5, 5, 6, 6, 7, 7, 8, 8, 8, 9, 9, 10, 10, 11, 11, 11, 11, 12, 13, 13, 14, 14, 15, 16, 17, 18, 18, 19, 20, 21, 22, 22, 23, 24, 25, None]\n",
      "Predicted token class\n",
      "['LABEL_25', 'LABEL_9', 'LABEL_9', 'LABEL_9', 'LABEL_8', 'LABEL_8', 'LABEL_8', 'LABEL_10', 'LABEL_10', 'LABEL_8', 'LABEL_25', 'LABEL_8', 'LABEL_8', 'LABEL_8', 'LABEL_25', 'LABEL_28', 'LABEL_9', 'LABEL_9', 'LABEL_9', 'LABEL_9', 'LABEL_8', 'LABEL_8', 'LABEL_25', 'LABEL_9', 'LABEL_9', 'LABEL_9', 'LABEL_11', 'LABEL_25', 'LABEL_9', 'LABEL_8', 'LABEL_9', 'LABEL_25', 'LABEL_9', 'LABEL_9', 'LABEL_9', 'LABEL_9', 'LABEL_8', 'LABEL_9', 'LABEL_25', 'LABEL_9', 'LABEL_9', 'LABEL_8', 'LABEL_8', 'LABEL_8', 'LABEL_28', 'LABEL_8', 'LABEL_28', 'LABEL_19', 'LABEL_18', 'LABEL_8', 'LABEL_33', 'LABEL_19', 'LABEL_28', 'LABEL_19', 'LABEL_29', 'LABEL_29', 'LABEL_8', 'LABEL_8', 'LABEL_18', 'LABEL_35', 'LABEL_28', 'LABEL_11', 'LABEL_11', 'LABEL_9', 'LABEL_9', 'LABEL_9', 'LABEL_9', 'LABEL_9', 'LABEL_28', 'LABEL_9', 'LABEL_9', 'LABEL_9', 'LABEL_9', 'LABEL_9', 'LABEL_9', 'LABEL_28', 'LABEL_38', 'LABEL_34', 'LABEL_8', 'LABEL_8', 'LABEL_8', 'LABEL_8', 'LABEL_8', 'LABEL_8', 'LABEL_8', 'LABEL_18', 'LABEL_8', 'LABEL_7', 'LABEL_8', 'LABEL_7', 'LABEL_8', 'LABEL_8', 'LABEL_9', 'LABEL_8', 'LABEL_33', 'LABEL_28', 'LABEL_9', 'LABEL_26', 'LABEL_28', 'LABEL_25', 'LABEL_9', 'LABEL_9', 'LABEL_9', 'LABEL_9', 'LABEL_9', 'LABEL_9', 'LABEL_9', 'LABEL_9', 'LABEL_0', 'LABEL_9', 'LABEL_9', 'LABEL_9', 'LABEL_9', 'LABEL_9', 'LABEL_9', 'LABEL_28', 'LABEL_9', 'LABEL_9', 'LABEL_9', 'LABEL_9', 'LABEL_9', 'LABEL_28', 'LABEL_8', 'LABEL_8', 'LABEL_38', 'LABEL_34', 'LABEL_33', 'LABEL_8', 'LABEL_8', 'LABEL_25', 'LABEL_25']\n",
      "Word IDs\n",
      "[None, 0, 0, 0, 1, 1, 1, 2, 2, 2, 3, 4, 4, 4, 5, 5, 6, 6, 6, 7, 8, 8, 9, 10, 10, 10, 11, 11, 11, 12, 12, 13, 14, 14, 14, 14, 15, 15, 16, 17, 17, 18, 18, 19, 19, 20, 20, 21, 22, 22, 22, 23, 24, 25, 26, 26, 27, 27, 27, 27, 28, 29, 29, 30, 30, 31, 32, 32, 33, 34, 34, 35, 35, 35, 36, 37, 38, 38, 39, 40, 40, 40, 41, 41, 41, 41, 41, 42, 42, 42, 42, 43, 43, 43, 43, 44, 45, 45, 46, 47, 48, 48, 48, 49, 50, 50, 50, 51, 51, 52, 52, 52, 53, 53, 53, 54, 55, 55, 55, 55, 55, 56, 57, 57, 58, 58, 59, 59, 59, 60, None]\n",
      "Predicted token class\n",
      "['LABEL_25', 'LABEL_8', 'LABEL_8', 'LABEL_8', 'LABEL_8', 'LABEL_25', 'LABEL_11', 'LABEL_36', 'LABEL_33', 'LABEL_34', 'LABEL_9', 'LABEL_28', 'LABEL_8', 'LABEL_28', 'LABEL_28', 'LABEL_19', 'LABEL_28', 'LABEL_18', 'LABEL_8', 'LABEL_8', 'LABEL_33', 'LABEL_33', 'LABEL_7', 'LABEL_7', 'LABEL_7', 'LABEL_8', 'LABEL_25', 'LABEL_8', 'LABEL_8', 'LABEL_28', 'LABEL_8', 'LABEL_8', 'LABEL_8', 'LABEL_28', 'LABEL_9', 'LABEL_9', 'LABEL_28', 'LABEL_25', 'LABEL_9', 'LABEL_9', 'LABEL_9', 'LABEL_9', 'LABEL_9', 'LABEL_9', 'LABEL_16', 'LABEL_8', 'LABEL_8', 'LABEL_25', 'LABEL_33', 'LABEL_3', 'LABEL_11', 'LABEL_11', 'LABEL_7', 'LABEL_8', 'LABEL_8', 'LABEL_8', 'LABEL_8', 'LABEL_35', 'LABEL_35', 'LABEL_34', 'LABEL_34', 'LABEL_34', 'LABEL_25', 'LABEL_25']\n",
      "Word IDs\n",
      "[None, 0, 0, 0, 0, 1, 2, 3, 3, 4, 5, 5, 6, 6, 7, 8, 9, 10, 11, 11, 12, 12, 13, 13, 13, 14, 14, 14, 14, 15, 16, 16, 16, 17, 18, 18, 19, 20, 21, 21, 21, 22, 23, 23, 24, 25, 25, 25, 25, 26, 27, 27, 28, 29, 29, 29, 29, 30, 30, 31, 31, 31, 32, None]\n",
      "Predicted token class\n",
      "['LABEL_25', 'LABEL_23', 'LABEL_25', 'LABEL_7', 'LABEL_8', 'LABEL_31', 'LABEL_7', 'LABEL_7', 'LABEL_7', 'LABEL_8', 'LABEL_8', 'LABEL_8', 'LABEL_8', 'LABEL_8', 'LABEL_25', 'LABEL_7', 'LABEL_8', 'LABEL_8', 'LABEL_8', 'LABEL_8', 'LABEL_8', 'LABEL_8', 'LABEL_8', 'LABEL_16', 'LABEL_8', 'LABEL_25', 'LABEL_25', 'LABEL_8', 'LABEL_8', 'LABEL_18', 'LABEL_33', 'LABEL_33', 'LABEL_8', 'LABEL_8', 'LABEL_25', 'LABEL_9', 'LABEL_9', 'LABEL_19', 'LABEL_18', 'LABEL_18', 'LABEL_38', 'LABEL_34', 'LABEL_8', 'LABEL_8', 'LABEL_8', 'LABEL_8', 'LABEL_8', 'LABEL_8', 'LABEL_8', 'LABEL_18', 'LABEL_31', 'LABEL_9', 'LABEL_9', 'LABEL_9', 'LABEL_8', 'LABEL_8', 'LABEL_8', 'LABEL_8', 'LABEL_18', 'LABEL_8', 'LABEL_33', 'LABEL_38', 'LABEL_34', 'LABEL_19', 'LABEL_8', 'LABEL_8', 'LABEL_8', 'LABEL_33', 'LABEL_7', 'LABEL_7', 'LABEL_8', 'LABEL_25', 'LABEL_7', 'LABEL_8', 'LABEL_7', 'LABEL_8', 'LABEL_8', 'LABEL_8', 'LABEL_25', 'LABEL_11', 'LABEL_8', 'LABEL_8', 'LABEL_8', 'LABEL_7', 'LABEL_8', 'LABEL_8', 'LABEL_8', 'LABEL_8', 'LABEL_28', 'LABEL_26', 'LABEL_26', 'LABEL_28', 'LABEL_25', 'LABEL_11', 'LABEL_7', 'LABEL_8', 'LABEL_8', 'LABEL_8', 'LABEL_8', 'LABEL_8', 'LABEL_8', 'LABEL_8', 'LABEL_8', 'LABEL_8', 'LABEL_28', 'LABEL_26', 'LABEL_26', 'LABEL_28', 'LABEL_25', 'LABEL_7', 'LABEL_8', 'LABEL_8', 'LABEL_8', 'LABEL_7', 'LABEL_8', 'LABEL_8', 'LABEL_8', 'LABEL_8', 'LABEL_8', 'LABEL_28', 'LABEL_26', 'LABEL_26', 'LABEL_28', 'LABEL_8', 'LABEL_8', 'LABEL_8', 'LABEL_33', 'LABEL_33', 'LABEL_8', 'LABEL_8', 'LABEL_34', 'LABEL_34', 'LABEL_8', 'LABEL_8', 'LABEL_8', 'LABEL_8', 'LABEL_8', 'LABEL_38', 'LABEL_35', 'LABEL_8', 'LABEL_8', 'LABEL_8', 'LABEL_38', 'LABEL_34', 'LABEL_31', 'LABEL_7', 'LABEL_8', 'LABEL_35', 'LABEL_35', 'LABEL_8', 'LABEL_38', 'LABEL_8', 'LABEL_8', 'LABEL_35', 'LABEL_8', 'LABEL_34', 'LABEL_31', 'LABEL_7', 'LABEL_35', 'LABEL_8', 'LABEL_8', 'LABEL_8', 'LABEL_8', 'LABEL_8', 'LABEL_8', 'LABEL_34', 'LABEL_34', 'LABEL_34', 'LABEL_37', 'LABEL_38', 'LABEL_38', 'LABEL_34', 'LABEL_8', 'LABEL_8', 'LABEL_25', 'LABEL_25']\n",
      "Word IDs\n",
      "[None, 0, 1, 2, 2, 3, 4, 4, 4, 5, 5, 5, 5, 5, 6, 7, 8, 8, 8, 8, 9, 9, 9, 10, 11, 11, 11, 11, 11, 11, 11, 11, 12, 12, 13, 14, 14, 14, 15, 15, 16, 16, 17, 17, 18, 18, 18, 19, 19, 19, 20, 21, 21, 21, 21, 22, 22, 22, 22, 22, 22, 23, 23, 24, 25, 25, 25, 25, 26, 26, 27, 28, 29, 29, 29, 30, 30, 30, 31, 32, 32, 33, 33, 34, 34, 34, 34, 35, 36, 37, 37, 38, 39, 40, 40, 41, 42, 42, 42, 43, 43, 43, 43, 43, 44, 45, 45, 46, 47, 48, 49, 49, 49, 50, 51, 51, 51, 51, 51, 52, 53, 53, 54, 55, 55, 55, 55, 56, 57, 57, 58, 58, 59, 59, 59, 59, 59, 60, 60, 60, 61, 61, 62, 62, 63, 64, 64, 64, 64, 65, 65, 65, 65, 66, 66, 66, 67, 68, 68, 69, 69, 69, 69, 69, 70, 71, 71, 71, 72, 73, 73, 74, 74, 74, 75, None]\n"
     ]
    },
    {
     "name": "stdout",
     "output_type": "stream",
     "text": [
      "Predicted token class\n",
      "['LABEL_25', 'LABEL_23', 'LABEL_25', 'LABEL_1', 'LABEL_33', 'LABEL_25', 'LABEL_7', 'LABEL_7', 'LABEL_8', 'LABEL_8', 'LABEL_8', 'LABEL_25', 'LABEL_9', 'LABEL_9', 'LABEL_9', 'LABEL_8', 'LABEL_8', 'LABEL_8', 'LABEL_25', 'LABEL_16', 'LABEL_7', 'LABEL_7', 'LABEL_8', 'LABEL_8', 'LABEL_8', 'LABEL_8', 'LABEL_8', 'LABEL_8', 'LABEL_8', 'LABEL_7', 'LABEL_7', 'LABEL_8', 'LABEL_8', 'LABEL_25', 'LABEL_8', 'LABEL_8', 'LABEL_33', 'LABEL_7', 'LABEL_7', 'LABEL_7', 'LABEL_8', 'LABEL_8', 'LABEL_33', 'LABEL_33', 'LABEL_9', 'LABEL_9', 'LABEL_9', 'LABEL_9', 'LABEL_9', 'LABEL_9', 'LABEL_9', 'LABEL_0', 'LABEL_0', 'LABEL_9', 'LABEL_9', 'LABEL_9', 'LABEL_9', 'LABEL_9', 'LABEL_8', 'LABEL_7', 'LABEL_7', 'LABEL_8', 'LABEL_8', 'LABEL_7', 'LABEL_8', 'LABEL_8', 'LABEL_7', 'LABEL_8', 'LABEL_25', 'LABEL_7', 'LABEL_7', 'LABEL_8', 'LABEL_8', 'LABEL_8', 'LABEL_8', 'LABEL_8', 'LABEL_8', 'LABEL_8', 'LABEL_8', 'LABEL_8', 'LABEL_25', 'LABEL_7', 'LABEL_8', 'LABEL_8', 'LABEL_8', 'LABEL_7', 'LABEL_8', 'LABEL_8', 'LABEL_8', 'LABEL_8', 'LABEL_8', 'LABEL_8', 'LABEL_8', 'LABEL_8', 'LABEL_33', 'LABEL_8', 'LABEL_8', 'LABEL_38', 'LABEL_34', 'LABEL_8', 'LABEL_8', 'LABEL_18', 'LABEL_33', 'LABEL_36', 'LABEL_25', 'LABEL_8', 'LABEL_33', 'LABEL_8', 'LABEL_8', 'LABEL_8', 'LABEL_22', 'LABEL_37', 'LABEL_37', 'LABEL_34', 'LABEL_34', 'LABEL_34', 'LABEL_34', 'LABEL_35', 'LABEL_35', 'LABEL_34', 'LABEL_34', 'LABEL_34', 'LABEL_25', 'LABEL_25']\n",
      "Word IDs\n",
      "[None, 0, 1, 2, 2, 3, 4, 4, 5, 5, 5, 6, 7, 7, 7, 8, 9, 9, 10, 11, 12, 12, 13, 13, 13, 13, 14, 14, 14, 15, 15, 16, 16, 16, 16, 16, 16, 17, 17, 17, 18, 18, 18, 18, 19, 19, 19, 20, 21, 21, 21, 22, 22, 23, 23, 23, 24, 24, 24, 25, 25, 26, 26, 27, 27, 27, 27, 28, 29, 30, 30, 31, 32, 32, 32, 33, 33, 33, 33, 33, 34, 35, 36, 36, 36, 37, 38, 38, 38, 38, 38, 39, 39, 39, 39, 40, 40, 41, 41, 42, 42, 42, 42, 43, 43, 43, 43, 44, 44, 44, 44, 45, 45, 46, 46, 46, 47, 48, 48, 49, 49, 49, 50, None]\n",
      "Predicted token class\n",
      "['LABEL_25', 'LABEL_8', 'LABEL_28', 'LABEL_19', 'LABEL_18', 'LABEL_18', 'LABEL_33', 'LABEL_19', 'LABEL_28', 'LABEL_19', 'LABEL_29', 'LABEL_29', 'LABEL_28', 'LABEL_9', 'LABEL_9', 'LABEL_8', 'LABEL_9', 'LABEL_9', 'LABEL_8', 'LABEL_7', 'LABEL_7', 'LABEL_8', 'LABEL_8', 'LABEL_8', 'LABEL_8', 'LABEL_8', 'LABEL_8', 'LABEL_8', 'LABEL_18', 'LABEL_8', 'LABEL_7', 'LABEL_8', 'LABEL_7', 'LABEL_8', 'LABEL_8', 'LABEL_25', 'LABEL_8', 'LABEL_33', 'LABEL_28', 'LABEL_9', 'LABEL_26', 'LABEL_28', 'LABEL_0', 'LABEL_9', 'LABEL_22', 'LABEL_8', 'LABEL_8', 'LABEL_37', 'LABEL_38', 'LABEL_9', 'LABEL_8', 'LABEL_8', 'LABEL_8', 'LABEL_9', 'LABEL_8', 'LABEL_8', 'LABEL_8', 'LABEL_28', 'LABEL_8', 'LABEL_28', 'LABEL_19', 'LABEL_18', 'LABEL_8', 'LABEL_33', 'LABEL_19', 'LABEL_28', 'LABEL_19', 'LABEL_29', 'LABEL_29', 'LABEL_28', 'LABEL_29', 'LABEL_29', 'LABEL_8', 'LABEL_18', 'LABEL_18', 'LABEL_18', 'LABEL_28', 'LABEL_7', 'LABEL_7', 'LABEL_8', 'LABEL_18', 'LABEL_7', 'LABEL_25', 'LABEL_8', 'LABEL_7', 'LABEL_8', 'LABEL_28', 'LABEL_9', 'LABEL_26', 'LABEL_28', 'LABEL_37', 'LABEL_8', 'LABEL_8', 'LABEL_37', 'LABEL_34', 'LABEL_34', 'LABEL_34', 'LABEL_34', 'LABEL_34', 'LABEL_34', 'LABEL_8', 'LABEL_8', 'LABEL_35', 'LABEL_34', 'LABEL_34', 'LABEL_25', 'LABEL_25']\n",
      "Word IDs\n",
      "[None, 0, 0, 1, 2, 2, 2, 3, 4, 5, 6, 6, 7, 8, 8, 8, 8, 8, 8, 9, 9, 10, 11, 11, 11, 12, 12, 12, 12, 12, 13, 13, 13, 13, 14, 14, 14, 14, 15, 16, 16, 17, 18, 18, 19, 19, 19, 19, 20, 20, 21, 21, 22, 22, 23, 23, 24, 24, 25, 25, 26, 27, 27, 27, 28, 29, 30, 31, 31, 32, 33, 33, 34, 34, 34, 34, 35, 36, 36, 37, 37, 38, 38, 38, 38, 39, 40, 41, 41, 42, 43, 43, 43, 43, 43, 43, 43, 44, 44, 44, 45, 45, 46, 46, 46, 47, None]\n",
      "Predicted token class\n",
      "['LABEL_25', 'LABEL_0', 'LABEL_25', 'LABEL_11', 'LABEL_8', 'LABEL_11', 'LABEL_16', 'LABEL_33', 'LABEL_38', 'LABEL_25', 'LABEL_25', 'LABEL_38', 'LABEL_38', 'LABEL_14', 'LABEL_38', 'LABEL_7', 'LABEL_8', 'LABEL_18', 'LABEL_8', 'LABEL_8', 'LABEL_8', 'LABEL_8', 'LABEL_33', 'LABEL_33', 'LABEL_33', 'LABEL_7', 'LABEL_8', 'LABEL_9', 'LABEL_33', 'LABEL_8', 'LABEL_22', 'LABEL_35', 'LABEL_34', 'LABEL_34', 'LABEL_34', 'LABEL_34', 'LABEL_1', 'LABEL_33', 'LABEL_8', 'LABEL_35', 'LABEL_34', 'LABEL_34', 'LABEL_35', 'LABEL_25', 'LABEL_25']\n",
      "Word IDs\n",
      "[None, 0, 1, 2, 2, 2, 2, 2, 3, 3, 3, 3, 3, 4, 4, 4, 5, 5, 6, 6, 6, 6, 7, 7, 7, 8, 9, 9, 9, 10, 10, 11, 11, 11, 11, 11, 12, 12, 13, 14, 15, 15, 15, 16, None]\n",
      "Predicted token class\n",
      "['LABEL_25', 'LABEL_23', 'LABEL_25', 'LABEL_7', 'LABEL_8', 'LABEL_25', 'LABEL_11', 'LABEL_25', 'LABEL_9', 'LABEL_9', 'LABEL_9', 'LABEL_9', 'LABEL_9', 'LABEL_9', 'LABEL_9', 'LABEL_9', 'LABEL_9', 'LABEL_8', 'LABEL_8', 'LABEL_9', 'LABEL_9', 'LABEL_9', 'LABEL_25', 'LABEL_9', 'LABEL_25', 'LABEL_8', 'LABEL_25', 'LABEL_9', 'LABEL_9', 'LABEL_9', 'LABEL_9', 'LABEL_9', 'LABEL_9', 'LABEL_25', 'LABEL_9', 'LABEL_9', 'LABEL_9', 'LABEL_25', 'LABEL_9', 'LABEL_9', 'LABEL_9', 'LABEL_9', 'LABEL_9', 'LABEL_9', 'LABEL_0', 'LABEL_7', 'LABEL_9', 'LABEL_9', 'LABEL_9', 'LABEL_9', 'LABEL_8', 'LABEL_19', 'LABEL_8', 'LABEL_8', 'LABEL_8', 'LABEL_18', 'LABEL_38', 'LABEL_34', 'LABEL_8', 'LABEL_8', 'LABEL_8', 'LABEL_33', 'LABEL_33', 'LABEL_7', 'LABEL_7', 'LABEL_8', 'LABEL_8', 'LABEL_8', 'LABEL_8', 'LABEL_0', 'LABEL_7', 'LABEL_8', 'LABEL_8', 'LABEL_8', 'LABEL_8', 'LABEL_35', 'LABEL_35', 'LABEL_35', 'LABEL_34', 'LABEL_34', 'LABEL_25', 'LABEL_25']\n",
      "Word IDs\n",
      "[None, 0, 1, 2, 2, 2, 2, 3, 4, 4, 5, 5, 5, 6, 6, 7, 7, 8, 8, 8, 8, 9, 9, 10, 10, 11, 12, 13, 13, 13, 13, 13, 13, 14, 15, 15, 15, 16, 17, 17, 17, 17, 17, 17, 18, 18, 19, 19, 19, 19, 20, 21, 22, 22, 22, 22, 23, 23, 24, 24, 24, 24, 24, 25, 26, 26, 26, 27, 27, 28, 28, 29, 29, 29, 29, 30, 30, 30, 30, 30, 31, None]\n",
      "Predicted token class\n",
      "['LABEL_25', 'LABEL_19', 'LABEL_8', 'LABEL_25', 'LABEL_8', 'LABEL_7', 'LABEL_8', 'LABEL_8', 'LABEL_8', 'LABEL_8', 'LABEL_28', 'LABEL_9', 'LABEL_26', 'LABEL_28', 'LABEL_0', 'LABEL_0', 'LABEL_9', 'LABEL_26', 'LABEL_18', 'LABEL_18', 'LABEL_8', 'LABEL_38', 'LABEL_38', 'LABEL_8', 'LABEL_38', 'LABEL_34', 'LABEL_0', 'LABEL_7', 'LABEL_7', 'LABEL_19', 'LABEL_29', 'LABEL_29', 'LABEL_29', 'LABEL_18', 'LABEL_8', 'LABEL_8', 'LABEL_33', 'LABEL_26', 'LABEL_26', 'LABEL_26', 'LABEL_38', 'LABEL_34', 'LABEL_34', 'LABEL_34', 'LABEL_8', 'LABEL_8', 'LABEL_18', 'LABEL_18', 'LABEL_37', 'LABEL_37', 'LABEL_37', 'LABEL_34', 'LABEL_34', 'LABEL_33', 'LABEL_34', 'LABEL_34', 'LABEL_34', 'LABEL_25', 'LABEL_7', 'LABEL_7', 'LABEL_8', 'LABEL_8', 'LABEL_8', 'LABEL_7', 'LABEL_7', 'LABEL_8', 'LABEL_8', 'LABEL_8', 'LABEL_33', 'LABEL_31', 'LABEL_8', 'LABEL_8', 'LABEL_37', 'LABEL_34', 'LABEL_34', 'LABEL_25', 'LABEL_7', 'LABEL_7', 'LABEL_7', 'LABEL_8', 'LABEL_8', 'LABEL_8', 'LABEL_8', 'LABEL_26', 'LABEL_26', 'LABEL_26', 'LABEL_26', 'LABEL_18', 'LABEL_33', 'LABEL_7', 'LABEL_7', 'LABEL_8', 'LABEL_8', 'LABEL_8', 'LABEL_8', 'LABEL_8', 'LABEL_25', 'LABEL_8', 'LABEL_8', 'LABEL_7', 'LABEL_7', 'LABEL_7', 'LABEL_8', 'LABEL_8', 'LABEL_8', 'LABEL_8', 'LABEL_8', 'LABEL_8', 'LABEL_7', 'LABEL_8', 'LABEL_8', 'LABEL_22', 'LABEL_37', 'LABEL_37', 'LABEL_37', 'LABEL_34', 'LABEL_34', 'LABEL_34', 'LABEL_1', 'LABEL_7', 'LABEL_7', 'LABEL_7', 'LABEL_8', 'LABEL_8', 'LABEL_8', 'LABEL_8', 'LABEL_33', 'LABEL_11', 'LABEL_8', 'LABEL_35', 'LABEL_35', 'LABEL_8', 'LABEL_0', 'LABEL_8', 'LABEL_8', 'LABEL_8', 'LABEL_8', 'LABEL_7', 'LABEL_7', 'LABEL_7', 'LABEL_35', 'LABEL_8', 'LABEL_34', 'LABEL_7', 'LABEL_8', 'LABEL_8', 'LABEL_8', 'LABEL_8', 'LABEL_8', 'LABEL_8', 'LABEL_8', 'LABEL_8', 'LABEL_7', 'LABEL_34', 'LABEL_34', 'LABEL_35', 'LABEL_8', 'LABEL_8', 'LABEL_8', 'LABEL_8', 'LABEL_28', 'LABEL_8', 'LABEL_35', 'LABEL_8', 'LABEL_8', 'LABEL_28', 'LABEL_0', 'LABEL_8', 'LABEL_8', 'LABEL_8', 'LABEL_33', 'LABEL_8', 'LABEL_7', 'LABEL_7', 'LABEL_35', 'LABEL_7', 'LABEL_34', 'LABEL_34', 'LABEL_35', 'LABEL_8', 'LABEL_8', 'LABEL_8', 'LABEL_35', 'LABEL_33', 'LABEL_8', 'LABEL_35', 'LABEL_34', 'LABEL_35', 'LABEL_8', 'LABEL_8', 'LABEL_35', 'LABEL_8', 'LABEL_8', 'LABEL_8', 'LABEL_8', 'LABEL_8', 'LABEL_8', 'LABEL_8', 'LABEL_8', 'LABEL_34', 'LABEL_7', 'LABEL_8', 'LABEL_8', 'LABEL_8', 'LABEL_7', 'LABEL_34', 'LABEL_8', 'LABEL_8', 'LABEL_8', 'LABEL_8', 'LABEL_35', 'LABEL_9', 'LABEL_8', 'LABEL_8', 'LABEL_8', 'LABEL_8', 'LABEL_7', 'LABEL_8', 'LABEL_8', 'LABEL_35', 'LABEL_35', 'LABEL_8', 'LABEL_8', 'LABEL_34', 'LABEL_8', 'LABEL_8', 'LABEL_25', 'LABEL_25']\n",
      "Word IDs\n",
      "[None, 0, 1, 1, 1, 2, 3, 3, 3, 4, 5, 6, 6, 7, 8, 8, 9, 9, 10, 10, 10, 11, 11, 11, 11, 11, 12, 12, 13, 14, 15, 15, 15, 15, 16, 16, 16, 17, 17, 18, 19, 19, 19, 19, 20, 20, 20, 20, 21, 21, 21, 22, 22, 22, 23, 24, 24, 25, 26, 26, 27, 27, 27, 28, 28, 29, 29, 29, 29, 30, 31, 31, 32, 33, 33, 34, 35, 35, 36, 36, 36, 37, 37, 37, 38, 38, 39, 40, 40, 41, 41, 42, 42, 42, 42, 43, 43, 43, 43, 44, 44, 45, 45, 45, 46, 46, 46, 47, 47, 48, 48, 48, 49, 49, 49, 50, 50, 50, 51, 51, 52, 52, 53, 53, 53, 53, 53, 54, 54, 54, 54, 55, 56, 56, 56, 57, 57, 57, 57, 57, 58, 59, 59, 59, 60, 60, 61, 61, 61, 62, 62, 63, 63, 63, 64, 64, 64, 65, 65, 65, 66, 67, 67, 67, 67, 68, 69, 69, 70, 70, 71, 71, 71, 71, 72, 72, 73, 74, 74, 75, 75, 76, 76, 76, 77, 77, 78, 78, 78, 79, 79, 79, 79, 80, 80, 80, 80, 80, 81, 81, 81, 82, 82, 83, 83, 83, 84, 84, 84, 85, 86, 86, 86, 87, 87, 87, 88, 88, 88, 88, 88, 88, 89, 90, 90, 90, 91, None]\n",
      "Predicted token class\n",
      "['LABEL_25', 'LABEL_7', 'LABEL_7', 'LABEL_7', 'LABEL_8', 'LABEL_25', 'LABEL_8', 'LABEL_8', 'LABEL_28', 'LABEL_9', 'LABEL_9', 'LABEL_9', 'LABEL_28', 'LABEL_9', 'LABEL_9', 'LABEL_28', 'LABEL_9', 'LABEL_9', 'LABEL_9', 'LABEL_9', 'LABEL_9', 'LABEL_9', 'LABEL_16', 'LABEL_8', 'LABEL_8', 'LABEL_8', 'LABEL_10', 'LABEL_10', 'LABEL_33', 'LABEL_8', 'LABEL_8', 'LABEL_33', 'LABEL_33', 'LABEL_22', 'LABEL_8', 'LABEL_22', 'LABEL_33', 'LABEL_33', 'LABEL_37', 'LABEL_37', 'LABEL_37', 'LABEL_25', 'LABEL_8', 'LABEL_8', 'LABEL_33', 'LABEL_3', 'LABEL_11', 'LABEL_11', 'LABEL_37', 'LABEL_35', 'LABEL_35', 'LABEL_34', 'LABEL_25', 'LABEL_25']\n",
      "Word IDs\n",
      "[None, 0, 0, 0, 1, 1, 1, 1, 2, 3, 3, 3, 4, 5, 5, 6, 7, 7, 7, 8, 9, 9, 10, 11, 11, 11, 11, 11, 11, 12, 12, 13, 13, 14, 14, 14, 14, 14, 15, 15, 15, 16, 17, 17, 17, 18, 19, 19, 20, 21, 21, 21, 22, None]\n",
      "Predicted token class\n",
      "['LABEL_25', 'LABEL_8', 'LABEL_25', 'LABEL_8', 'LABEL_7', 'LABEL_7', 'LABEL_8', 'LABEL_8', 'LABEL_8', 'LABEL_8', 'LABEL_19', 'LABEL_9', 'LABEL_9', 'LABEL_9', 'LABEL_19', 'LABEL_25', 'LABEL_9', 'LABEL_9', 'LABEL_9', 'LABEL_8', 'LABEL_18', 'LABEL_25', 'LABEL_9', 'LABEL_9', 'LABEL_9', 'LABEL_19', 'LABEL_25', 'LABEL_25']\n",
      "Word IDs\n",
      "[None, 0, 0, 0, 1, 1, 2, 2, 3, 3, 4, 5, 5, 5, 6, 7, 8, 8, 8, 9, 9, 10, 11, 11, 11, 11, 12, None]\n",
      "Predicted token class\n",
      "['LABEL_25', 'LABEL_7', 'LABEL_8', 'LABEL_8', 'LABEL_8', 'LABEL_8', 'LABEL_33', 'LABEL_33', 'LABEL_37', 'LABEL_8', 'LABEL_37', 'LABEL_34', 'LABEL_34', 'LABEL_8', 'LABEL_8', 'LABEL_8', 'LABEL_8', 'LABEL_9', 'LABEL_9', 'LABEL_8', 'LABEL_33', 'LABEL_25', 'LABEL_9', 'LABEL_9', 'LABEL_9', 'LABEL_9', 'LABEL_8', 'LABEL_8', 'LABEL_25', 'LABEL_9', 'LABEL_9', 'LABEL_9', 'LABEL_11', 'LABEL_25', 'LABEL_9', 'LABEL_8', 'LABEL_9', 'LABEL_25', 'LABEL_9', 'LABEL_9', 'LABEL_9', 'LABEL_9', 'LABEL_8', 'LABEL_9', 'LABEL_25', 'LABEL_9', 'LABEL_9', 'LABEL_8', 'LABEL_8', 'LABEL_8', 'LABEL_28', 'LABEL_8', 'LABEL_28', 'LABEL_19', 'LABEL_18', 'LABEL_8', 'LABEL_33', 'LABEL_19', 'LABEL_28', 'LABEL_19', 'LABEL_29', 'LABEL_29', 'LABEL_8', 'LABEL_18', 'LABEL_18', 'LABEL_33', 'LABEL_7', 'LABEL_7', 'LABEL_8', 'LABEL_8', 'LABEL_7', 'LABEL_8', 'LABEL_8', 'LABEL_8', 'LABEL_9', 'LABEL_8', 'LABEL_8', 'LABEL_33', 'LABEL_33', 'LABEL_37', 'LABEL_9', 'LABEL_37', 'LABEL_28', 'LABEL_9', 'LABEL_9', 'LABEL_9', 'LABEL_9', 'LABEL_9', 'LABEL_9', 'LABEL_9', 'LABEL_28', 'LABEL_9', 'LABEL_9', 'LABEL_9', 'LABEL_9', 'LABEL_9', 'LABEL_9', 'LABEL_28', 'LABEL_38', 'LABEL_34', 'LABEL_8', 'LABEL_8', 'LABEL_8', 'LABEL_9', 'LABEL_8', 'LABEL_8', 'LABEL_8', 'LABEL_18', 'LABEL_8', 'LABEL_8', 'LABEL_8', 'LABEL_7', 'LABEL_7', 'LABEL_8', 'LABEL_25', 'LABEL_8', 'LABEL_33', 'LABEL_28', 'LABEL_9', 'LABEL_26', 'LABEL_28', 'LABEL_25', 'LABEL_9', 'LABEL_9', 'LABEL_9', 'LABEL_8', 'LABEL_8', 'LABEL_9', 'LABEL_8', 'LABEL_0', 'LABEL_8', 'LABEL_38', 'LABEL_8', 'LABEL_8', 'LABEL_35', 'LABEL_35', 'LABEL_8', 'LABEL_28', 'LABEL_9', 'LABEL_26', 'LABEL_26', 'LABEL_26', 'LABEL_9', 'LABEL_28', 'LABEL_8', 'LABEL_8', 'LABEL_7', 'LABEL_8', 'LABEL_8', 'LABEL_34', 'LABEL_8', 'LABEL_3', 'LABEL_34', 'LABEL_8', 'LABEL_34', 'LABEL_8', 'LABEL_8', 'LABEL_8', 'LABEL_8', 'LABEL_8', 'LABEL_38', 'LABEL_35', 'LABEL_35', 'LABEL_8', 'LABEL_8', 'LABEL_35', 'LABEL_8', 'LABEL_8', 'LABEL_34', 'LABEL_25', 'LABEL_25']\n",
      "Word IDs\n",
      "[None, 0, 0, 0, 0, 0, 0, 0, 1, 1, 1, 2, 2, 3, 3, 3, 4, 4, 4, 4, 4, 5, 6, 6, 6, 7, 8, 8, 9, 10, 10, 10, 11, 11, 11, 12, 12, 13, 14, 14, 14, 14, 15, 15, 16, 17, 17, 18, 18, 19, 19, 20, 20, 21, 22, 22, 22, 23, 24, 25, 26, 26, 27, 27, 27, 27, 28, 29, 29, 29, 29, 30, 30, 30, 30, 31, 31, 31, 31, 32, 32, 32, 33, 34, 34, 35, 35, 36, 37, 37, 38, 39, 39, 40, 40, 40, 41, 42, 43, 43, 44, 45, 45, 45, 46, 46, 46, 46, 46, 47, 47, 47, 47, 48, 48, 48, 48, 49, 50, 50, 51, 52, 53, 53, 53, 54, 55, 55, 55, 56, 56, 57, 57, 57, 58, 58, 58, 59, 60, 60, 60, 60, 60, 61, 62, 62, 63, 63, 63, 63, 63, 64, 65, 65, 66, 67, 67, 67, 67, 67, 68, 68, 68, 69, 69, 70, 71, 71, 71, 72, None]\n"
     ]
    },
    {
     "name": "stdout",
     "output_type": "stream",
     "text": [
      "Predicted token class\n",
      "['LABEL_25', 'LABEL_23', 'LABEL_25', 'LABEL_7', 'LABEL_7', 'LABEL_8', 'LABEL_7', 'LABEL_7', 'LABEL_8', 'LABEL_7', 'LABEL_8', 'LABEL_18', 'LABEL_18', 'LABEL_33', 'LABEL_7', 'LABEL_7', 'LABEL_8', 'LABEL_25', 'LABEL_8', 'LABEL_8', 'LABEL_10', 'LABEL_8', 'LABEL_8', 'LABEL_8', 'LABEL_8', 'LABEL_8', 'LABEL_8', 'LABEL_37', 'LABEL_33', 'LABEL_16', 'LABEL_16', 'LABEL_7', 'LABEL_8', 'LABEL_8', 'LABEL_8', 'LABEL_25', 'LABEL_33', 'LABEL_25', 'LABEL_8', 'LABEL_8', 'LABEL_8', 'LABEL_8', 'LABEL_8', 'LABEL_8', 'LABEL_8', 'LABEL_38', 'LABEL_38', 'LABEL_8', 'LABEL_18', 'LABEL_33', 'LABEL_33', 'LABEL_8', 'LABEL_8', 'LABEL_37', 'LABEL_8', 'LABEL_37', 'LABEL_25', 'LABEL_7', 'LABEL_7', 'LABEL_7', 'LABEL_8', 'LABEL_8', 'LABEL_38', 'LABEL_35', 'LABEL_34', 'LABEL_34', 'LABEL_34', 'LABEL_33', 'LABEL_7', 'LABEL_7', 'LABEL_9', 'LABEL_7', 'LABEL_7', 'LABEL_7', 'LABEL_9', 'LABEL_8', 'LABEL_9', 'LABEL_8', 'LABEL_9', 'LABEL_8', 'LABEL_9', 'LABEL_0', 'LABEL_9', 'LABEL_9', 'LABEL_9', 'LABEL_9', 'LABEL_9', 'LABEL_9', 'LABEL_9', 'LABEL_9', 'LABEL_9', 'LABEL_0', 'LABEL_9', 'LABEL_9', 'LABEL_9', 'LABEL_9', 'LABEL_9', 'LABEL_9', 'LABEL_9', 'LABEL_8', 'LABEL_8', 'LABEL_8', 'LABEL_0', 'LABEL_0', 'LABEL_7', 'LABEL_8', 'LABEL_7', 'LABEL_8', 'LABEL_8', 'LABEL_18', 'LABEL_33', 'LABEL_9', 'LABEL_9', 'LABEL_9', 'LABEL_9', 'LABEL_9', 'LABEL_9', 'LABEL_9', 'LABEL_0', 'LABEL_0', 'LABEL_9', 'LABEL_9', 'LABEL_9', 'LABEL_9', 'LABEL_9', 'LABEL_18', 'LABEL_7', 'LABEL_8', 'LABEL_35', 'LABEL_8', 'LABEL_35', 'LABEL_35', 'LABEL_35', 'LABEL_25', 'LABEL_25']\n",
      "Word IDs\n",
      "[None, 0, 1, 2, 2, 2, 2, 3, 3, 4, 5, 5, 5, 5, 6, 6, 7, 7, 7, 7, 8, 8, 8, 9, 9, 9, 9, 10, 10, 11, 11, 12, 13, 13, 13, 13, 13, 14, 15, 15, 15, 15, 16, 16, 16, 16, 17, 18, 18, 18, 18, 19, 19, 20, 20, 20, 21, 22, 22, 22, 23, 23, 24, 24, 24, 24, 24, 25, 26, 26, 27, 27, 27, 27, 27, 28, 28, 29, 29, 29, 29, 30, 30, 31, 31, 31, 32, 33, 33, 33, 34, 34, 35, 35, 35, 35, 36, 36, 36, 36, 37, 37, 38, 38, 39, 39, 39, 40, 40, 40, 40, 41, 41, 41, 42, 43, 43, 43, 44, 44, 45, 45, 45, 46, 46, 46, 47, 47, 47, 47, 48, 48, 48, 49, None]\n",
      "Predicted token class\n",
      "['LABEL_25', 'LABEL_23', 'LABEL_25', 'LABEL_7', 'LABEL_7', 'LABEL_8', 'LABEL_8', 'LABEL_7', 'LABEL_8', 'LABEL_8', 'LABEL_8', 'LABEL_18', 'LABEL_33', 'LABEL_9', 'LABEL_9', 'LABEL_9', 'LABEL_7', 'LABEL_7', 'LABEL_8', 'LABEL_8', 'LABEL_18', 'LABEL_25', 'LABEL_8', 'LABEL_18', 'LABEL_8', 'LABEL_8', 'LABEL_18', 'LABEL_8', 'LABEL_8', 'LABEL_33', 'LABEL_37', 'LABEL_37', 'LABEL_16', 'LABEL_16', 'LABEL_33', 'LABEL_11', 'LABEL_7', 'LABEL_7', 'LABEL_7', 'LABEL_8', 'LABEL_25', 'LABEL_8', 'LABEL_18', 'LABEL_33', 'LABEL_38', 'LABEL_8', 'LABEL_8', 'LABEL_34', 'LABEL_34', 'LABEL_11', 'LABEL_11', 'LABEL_9', 'LABEL_9', 'LABEL_9', 'LABEL_9', 'LABEL_9', 'LABEL_9', 'LABEL_9', 'LABEL_0', 'LABEL_0', 'LABEL_9', 'LABEL_9', 'LABEL_9', 'LABEL_9', 'LABEL_9', 'LABEL_18', 'LABEL_16', 'LABEL_33', 'LABEL_36', 'LABEL_25', 'LABEL_36', 'LABEL_33', 'LABEL_7', 'LABEL_7', 'LABEL_8', 'LABEL_8', 'LABEL_8', 'LABEL_8', 'LABEL_8', 'LABEL_35', 'LABEL_8', 'LABEL_35', 'LABEL_34', 'LABEL_34', 'LABEL_25', 'LABEL_25']\n",
      "Word IDs\n",
      "[None, 0, 1, 2, 2, 3, 3, 3, 4, 4, 4, 4, 4, 5, 5, 5, 6, 7, 7, 8, 8, 9, 10, 10, 11, 12, 12, 13, 13, 13, 14, 14, 15, 15, 16, 16, 17, 17, 17, 18, 18, 18, 18, 18, 19, 19, 19, 19, 19, 20, 20, 21, 21, 21, 22, 23, 23, 23, 24, 24, 25, 25, 25, 26, 26, 26, 27, 27, 28, 28, 28, 28, 29, 29, 30, 30, 30, 31, 31, 32, 32, 32, 32, 32, 33, None]\n",
      "Predicted token class\n",
      "['LABEL_25', 'LABEL_23', 'LABEL_25', 'LABEL_7', 'LABEL_9', 'LABEL_9', 'LABEL_13', 'LABEL_13', 'LABEL_13', 'LABEL_33', 'LABEL_8', 'LABEL_25', 'LABEL_8', 'LABEL_8', 'LABEL_37', 'LABEL_34', 'LABEL_34', 'LABEL_34', 'LABEL_34', 'LABEL_33', 'LABEL_7', 'LABEL_7', 'LABEL_8', 'LABEL_8', 'LABEL_11', 'LABEL_38', 'LABEL_38', 'LABEL_34', 'LABEL_8', 'LABEL_18', 'LABEL_18', 'LABEL_36', 'LABEL_25', 'LABEL_8', 'LABEL_33', 'LABEL_0', 'LABEL_0', 'LABEL_7', 'LABEL_7', 'LABEL_8', 'LABEL_8', 'LABEL_8', 'LABEL_11', 'LABEL_38', 'LABEL_38', 'LABEL_34', 'LABEL_8', 'LABEL_8', 'LABEL_8', 'LABEL_37', 'LABEL_38', 'LABEL_38', 'LABEL_34', 'LABEL_7', 'LABEL_8', 'LABEL_8', 'LABEL_8', 'LABEL_8', 'LABEL_8', 'LABEL_0', 'LABEL_0', 'LABEL_7', 'LABEL_8', 'LABEL_8', 'LABEL_8', 'LABEL_9', 'LABEL_33', 'LABEL_9', 'LABEL_9', 'LABEL_9', 'LABEL_9', 'LABEL_9', 'LABEL_9', 'LABEL_9', 'LABEL_9', 'LABEL_0', 'LABEL_9', 'LABEL_9', 'LABEL_9', 'LABEL_9', 'LABEL_9', 'LABEL_16', 'LABEL_7', 'LABEL_7', 'LABEL_7', 'LABEL_8', 'LABEL_8', 'LABEL_35', 'LABEL_25', 'LABEL_35', 'LABEL_34', 'LABEL_34', 'LABEL_25', 'LABEL_25']\n",
      "Word IDs\n",
      "[None, 0, 1, 2, 2, 3, 4, 4, 4, 5, 6, 6, 6, 6, 7, 7, 8, 9, 9, 10, 11, 11, 12, 12, 13, 13, 14, 14, 15, 15, 15, 16, 16, 16, 16, 17, 17, 18, 18, 19, 19, 20, 21, 21, 22, 22, 23, 23, 23, 23, 24, 24, 24, 25, 26, 26, 27, 27, 27, 28, 28, 29, 30, 30, 31, 31, 31, 32, 32, 32, 33, 34, 34, 34, 35, 35, 36, 36, 36, 37, 37, 37, 38, 38, 38, 39, 39, 40, 40, 40, 40, 40, 41, None]\n",
      "Predicted token class\n",
      "['LABEL_25', 'LABEL_23', 'LABEL_25', 'LABEL_7', 'LABEL_7', 'LABEL_8', 'LABEL_8', 'LABEL_18', 'LABEL_18', 'LABEL_17', 'LABEL_7', 'LABEL_8', 'LABEL_25', 'LABEL_8', 'LABEL_33', 'LABEL_8', 'LABEL_22', 'LABEL_36', 'LABEL_33', 'LABEL_34', 'LABEL_34', 'LABEL_34', 'LABEL_3', 'LABEL_8', 'LABEL_8', 'LABEL_8', 'LABEL_33', 'LABEL_19', 'LABEL_8', 'LABEL_8', 'LABEL_18', 'LABEL_8', 'LABEL_8', 'LABEL_18', 'LABEL_33', 'LABEL_35', 'LABEL_25', 'LABEL_8', 'LABEL_35', 'LABEL_34', 'LABEL_34', 'LABEL_34', 'LABEL_25', 'LABEL_25']\n",
      "Word IDs\n",
      "[None, 0, 1, 2, 2, 3, 3, 3, 3, 4, 4, 5, 5, 5, 5, 6, 6, 7, 7, 8, 9, 9, 10, 11, 11, 11, 11, 12, 13, 13, 13, 14, 14, 14, 15, 16, 16, 16, 16, 16, 16, 16, 17, None]\n",
      "Predicted token class\n",
      "['LABEL_25', 'LABEL_23', 'LABEL_25', 'LABEL_8', 'LABEL_8', 'LABEL_37', 'LABEL_34', 'LABEL_34', 'LABEL_8', 'LABEL_8', 'LABEL_18', 'LABEL_25', 'LABEL_33', 'LABEL_14', 'LABEL_38', 'LABEL_7', 'LABEL_8', 'LABEL_18', 'LABEL_8', 'LABEL_33', 'LABEL_8', 'LABEL_8', 'LABEL_8', 'LABEL_37', 'LABEL_34', 'LABEL_8', 'LABEL_8', 'LABEL_35', 'LABEL_25', 'LABEL_35', 'LABEL_34', 'LABEL_34', 'LABEL_25', 'LABEL_25']\n",
      "Word IDs\n",
      "[None, 0, 1, 2, 2, 3, 4, 4, 5, 5, 5, 5, 5, 6, 6, 6, 7, 7, 7, 7, 8, 8, 8, 9, 9, 10, 10, 11, 11, 11, 11, 11, 12, None]\n",
      "Predicted token class\n",
      "['LABEL_25', 'LABEL_23', 'LABEL_25', 'LABEL_8', 'LABEL_8', 'LABEL_38', 'LABEL_8', 'LABEL_18', 'LABEL_18', 'LABEL_8', 'LABEL_33', 'LABEL_7', 'LABEL_7', 'LABEL_7', 'LABEL_7', 'LABEL_8', 'LABEL_8', 'LABEL_8', 'LABEL_18', 'LABEL_33', 'LABEL_38', 'LABEL_38', 'LABEL_38', 'LABEL_34', 'LABEL_11', 'LABEL_8', 'LABEL_8', 'LABEL_33', 'LABEL_33', 'LABEL_22', 'LABEL_25', 'LABEL_8', 'LABEL_8', 'LABEL_8', 'LABEL_33', 'LABEL_38', 'LABEL_38', 'LABEL_34', 'LABEL_34', 'LABEL_8', 'LABEL_8', 'LABEL_8', 'LABEL_18', 'LABEL_33', 'LABEL_38', 'LABEL_25', 'LABEL_34', 'LABEL_8', 'LABEL_8', 'LABEL_8', 'LABEL_8', 'LABEL_33', 'LABEL_35', 'LABEL_34', 'LABEL_34', 'LABEL_25', 'LABEL_25']\n",
      "Word IDs\n",
      "[None, 0, 1, 2, 2, 3, 4, 4, 4, 4, 4, 5, 5, 5, 5, 6, 6, 6, 6, 6, 7, 7, 7, 7, 8, 8, 8, 8, 8, 9, 9, 9, 9, 9, 9, 10, 10, 10, 10, 11, 11, 11, 11, 11, 12, 12, 12, 13, 13, 13, 13, 13, 14, 14, 14, 15, None]\n",
      "Predicted token class\n",
      "['LABEL_25', 'LABEL_28', 'LABEL_23', 'LABEL_28', 'LABEL_8', 'LABEL_8', 'LABEL_8', 'LABEL_8', 'LABEL_0', 'LABEL_16', 'LABEL_8', 'LABEL_8', 'LABEL_8', 'LABEL_8', 'LABEL_28', 'LABEL_8', 'LABEL_25', 'LABEL_25', 'LABEL_8', 'LABEL_8', 'LABEL_25', 'LABEL_25']\n",
      "Word IDs\n",
      "[None, 0, 1, 2, 3, 3, 3, 3, 4, 5, 6, 6, 6, 6, 7, 8, 8, 8, 8, 8, 9, None]\n",
      "Predicted token class\n",
      "['LABEL_25', 'LABEL_28', 'LABEL_23', 'LABEL_23', 'LABEL_28', 'LABEL_8', 'LABEL_8', 'LABEL_8', 'LABEL_25', 'LABEL_8', 'LABEL_28', 'LABEL_8', 'LABEL_25', 'LABEL_8', 'LABEL_25', 'LABEL_25']\n",
      "Word IDs\n",
      "[None, 0, 1, 1, 2, 3, 3, 3, 3, 3, 4, 5, 5, 5, 6, None]\n",
      "Predicted token class\n",
      "['LABEL_25', 'LABEL_28', 'LABEL_23', 'LABEL_23', 'LABEL_28', 'LABEL_8', 'LABEL_25', 'LABEL_8', 'LABEL_28', 'LABEL_8', 'LABEL_25', 'LABEL_8', 'LABEL_25', 'LABEL_25']\n",
      "Word IDs\n",
      "[None, 0, 1, 1, 2, 3, 3, 3, 4, 5, 5, 5, 6, None]\n",
      "Predicted token class\n",
      "['LABEL_25', 'LABEL_28', 'LABEL_23', 'LABEL_23', 'LABEL_28', 'LABEL_8', 'LABEL_25', 'LABEL_8', 'LABEL_8', 'LABEL_28', 'LABEL_8', 'LABEL_25', 'LABEL_8', 'LABEL_25', 'LABEL_25']\n",
      "Word IDs\n",
      "[None, 0, 1, 1, 2, 3, 3, 3, 3, 4, 5, 5, 5, 6, None]\n",
      "Predicted token class\n",
      "['LABEL_25', 'LABEL_28', 'LABEL_23', 'LABEL_28', 'LABEL_7', 'LABEL_7', 'LABEL_8', 'LABEL_8', 'LABEL_28', 'LABEL_8', 'LABEL_25', 'LABEL_25', 'LABEL_8', 'LABEL_25', 'LABEL_25']\n",
      "Word IDs\n",
      "[None, 0, 1, 2, 3, 3, 4, 4, 5, 6, 6, 6, 6, 7, None]\n"
     ]
    },
    {
     "name": "stdout",
     "output_type": "stream",
     "text": [
      "Predicted token class\n",
      "['LABEL_25', 'LABEL_28', 'LABEL_23', 'LABEL_28', 'LABEL_7', 'LABEL_8', 'LABEL_7', 'LABEL_8', 'LABEL_25', 'LABEL_9', 'LABEL_18', 'LABEL_8', 'LABEL_8', 'LABEL_8', 'LABEL_7', 'LABEL_8', 'LABEL_8', 'LABEL_28', 'LABEL_8', 'LABEL_25', 'LABEL_8', 'LABEL_25', 'LABEL_25']\n",
      "Word IDs\n",
      "[None, 0, 1, 2, 3, 3, 3, 4, 4, 4, 4, 5, 5, 6, 6, 6, 6, 7, 8, 8, 8, 9, None]\n",
      "Predicted token class\n",
      "['LABEL_25', 'LABEL_28', 'LABEL_23', 'LABEL_23', 'LABEL_28', 'LABEL_8', 'LABEL_8', 'LABEL_8', 'LABEL_8', 'LABEL_8', 'LABEL_33', 'LABEL_38', 'LABEL_25', 'LABEL_8', 'LABEL_9', 'LABEL_34', 'LABEL_38', 'LABEL_34', 'LABEL_34', 'LABEL_34', 'LABEL_34', 'LABEL_7', 'LABEL_7', 'LABEL_8', 'LABEL_7', 'LABEL_8', 'LABEL_8', 'LABEL_8', 'LABEL_33', 'LABEL_8', 'LABEL_8', 'LABEL_8', 'LABEL_38', 'LABEL_34', 'LABEL_7', 'LABEL_8', 'LABEL_25', 'LABEL_8', 'LABEL_25', 'LABEL_25']\n",
      "Word IDs\n",
      "[None, 0, 1, 1, 2, 3, 3, 3, 3, 3, 3, 4, 4, 4, 4, 4, 4, 4, 4, 4, 4, 5, 5, 5, 5, 6, 6, 6, 6, 7, 7, 7, 8, 8, 9, 10, 10, 10, 11, None]\n",
      "Predicted token class\n",
      "['LABEL_25', 'LABEL_28', 'LABEL_23', 'LABEL_28', 'LABEL_7', 'LABEL_7', 'LABEL_8', 'LABEL_18', 'LABEL_8', 'LABEL_8', 'LABEL_8', 'LABEL_8', 'LABEL_8', 'LABEL_8', 'LABEL_8', 'LABEL_18', 'LABEL_33', 'LABEL_38', 'LABEL_8', 'LABEL_25', 'LABEL_38', 'LABEL_34', 'LABEL_8', 'LABEL_8', 'LABEL_8', 'LABEL_25', 'LABEL_8', 'LABEL_8', 'LABEL_33', 'LABEL_7', 'LABEL_7', 'LABEL_8', 'LABEL_8', 'LABEL_8', 'LABEL_8', 'LABEL_8', 'LABEL_35', 'LABEL_34', 'LABEL_34', 'LABEL_34', 'LABEL_34', 'LABEL_25', 'LABEL_25']\n",
      "Word IDs\n",
      "[None, 0, 1, 2, 3, 3, 4, 4, 5, 5, 5, 6, 6, 6, 6, 6, 6, 7, 7, 7, 7, 7, 8, 8, 8, 8, 8, 8, 8, 9, 9, 10, 10, 11, 11, 11, 12, 13, 13, 13, 13, 14, None]\n",
      "Predicted token class\n",
      "['LABEL_25', 'LABEL_9', 'LABEL_9', 'LABEL_9', 'LABEL_9', 'LABEL_25', 'LABEL_9', 'LABEL_9', 'LABEL_9', 'LABEL_9', 'LABEL_9', 'LABEL_8', 'LABEL_8', 'LABEL_8', 'LABEL_8', 'LABEL_25', 'LABEL_9', 'LABEL_8', 'LABEL_8', 'LABEL_0', 'LABEL_0', 'LABEL_9', 'LABEL_9', 'LABEL_9', 'LABEL_8', 'LABEL_8', 'LABEL_33', 'LABEL_38', 'LABEL_8', 'LABEL_7', 'LABEL_8', 'LABEL_8', 'LABEL_8', 'LABEL_0', 'LABEL_0', 'LABEL_8', 'LABEL_8', 'LABEL_8', 'LABEL_33', 'LABEL_33', 'LABEL_8', 'LABEL_8', 'LABEL_8', 'LABEL_25', 'LABEL_8', 'LABEL_8', 'LABEL_33', 'LABEL_7', 'LABEL_7', 'LABEL_8', 'LABEL_8', 'LABEL_8', 'LABEL_8', 'LABEL_18', 'LABEL_33', 'LABEL_35', 'LABEL_35', 'LABEL_8', 'LABEL_35', 'LABEL_25', 'LABEL_34', 'LABEL_34', 'LABEL_34', 'LABEL_1', 'LABEL_0', 'LABEL_16', 'LABEL_33', 'LABEL_33', 'LABEL_33', 'LABEL_7', 'LABEL_7', 'LABEL_7', 'LABEL_10', 'LABEL_8', 'LABEL_10', 'LABEL_18', 'LABEL_18', 'LABEL_35', 'LABEL_35', 'LABEL_34', 'LABEL_34', 'LABEL_34', 'LABEL_25', 'LABEL_25']\n",
      "Word IDs\n",
      "[None, 0, 1, 1, 1, 1, 1, 1, 2, 2, 3, 3, 4, 4, 4, 5, 6, 7, 7, 8, 8, 9, 9, 9, 10, 10, 10, 11, 11, 11, 12, 12, 12, 13, 13, 14, 14, 14, 15, 15, 16, 16, 16, 16, 16, 16, 16, 17, 17, 18, 18, 18, 18, 18, 18, 19, 19, 19, 19, 19, 19, 19, 19, 20, 20, 21, 22, 22, 22, 23, 23, 23, 24, 24, 24, 24, 24, 25, 25, 25, 25, 25, 26, None]\n",
      "Predicted token class\n",
      "['LABEL_25', 'LABEL_7', 'LABEL_7', 'LABEL_8', 'LABEL_18', 'LABEL_8', 'LABEL_8', 'LABEL_8', 'LABEL_8', 'LABEL_0', 'LABEL_0', 'LABEL_10', 'LABEL_10', 'LABEL_8', 'LABEL_18', 'LABEL_33', 'LABEL_7', 'LABEL_7', 'LABEL_7', 'LABEL_10', 'LABEL_10', 'LABEL_8', 'LABEL_8', 'LABEL_33', 'LABEL_8', 'LABEL_8', 'LABEL_9', 'LABEL_25', 'LABEL_8', 'LABEL_8', 'LABEL_33', 'LABEL_8', 'LABEL_8', 'LABEL_8', 'LABEL_33', 'LABEL_33', 'LABEL_35', 'LABEL_35', 'LABEL_35', 'LABEL_34', 'LABEL_34', 'LABEL_34', 'LABEL_25', 'LABEL_25']\n",
      "Word IDs\n",
      "[None, 0, 0, 1, 1, 2, 2, 2, 2, 3, 3, 4, 4, 4, 4, 4, 5, 5, 5, 6, 6, 6, 7, 8, 9, 9, 9, 9, 9, 9, 9, 10, 10, 10, 10, 10, 11, 11, 11, 11, 11, 11, 12, None]\n",
      "Predicted token class\n",
      "['LABEL_25', 'LABEL_23', 'LABEL_25', 'LABEL_7', 'LABEL_8', 'LABEL_25', 'LABEL_8', 'LABEL_8', 'LABEL_25', 'LABEL_25']\n",
      "Word IDs\n",
      "[None, 0, 1, 2, 3, 3, 3, 3, 4, None]\n",
      "Predicted token class\n",
      "['LABEL_25', 'LABEL_8', 'LABEL_8', 'LABEL_8', 'LABEL_25', 'LABEL_8', 'LABEL_8', 'LABEL_8', 'LABEL_7', 'LABEL_8', 'LABEL_8', 'LABEL_8', 'LABEL_8', 'LABEL_8', 'LABEL_8', 'LABEL_25', 'LABEL_8', 'LABEL_8', 'LABEL_8', 'LABEL_0', 'LABEL_0', 'LABEL_8', 'LABEL_8', 'LABEL_8', 'LABEL_8', 'LABEL_8', 'LABEL_8', 'LABEL_8', 'LABEL_8', 'LABEL_33', 'LABEL_33', 'LABEL_37', 'LABEL_25', 'LABEL_8', 'LABEL_8', 'LABEL_34', 'LABEL_34', 'LABEL_34', 'LABEL_34', 'LABEL_34', 'LABEL_33', 'LABEL_35', 'LABEL_34', 'LABEL_34', 'LABEL_34', 'LABEL_25', 'LABEL_25']\n",
      "Word IDs\n",
      "[None, 0, 0, 0, 0, 0, 0, 0, 1, 2, 2, 2, 2, 3, 3, 4, 5, 5, 5, 6, 6, 7, 7, 7, 7, 8, 8, 8, 8, 9, 9, 10, 10, 10, 10, 10, 10, 10, 10, 10, 10, 11, 11, 11, 11, 12, None]\n",
      "Predicted token class\n",
      "['LABEL_25', 'LABEL_23', 'LABEL_25', 'LABEL_19', 'LABEL_19', 'LABEL_8', 'LABEL_8', 'LABEL_8', 'LABEL_8', 'LABEL_0', 'LABEL_8', 'LABEL_8', 'LABEL_8', 'LABEL_8', 'LABEL_8', 'LABEL_25', 'LABEL_8', 'LABEL_8', 'LABEL_8', 'LABEL_33', 'LABEL_33', 'LABEL_8', 'LABEL_25', 'LABEL_8', 'LABEL_8', 'LABEL_25', 'LABEL_25']\n",
      "Word IDs\n",
      "[None, 0, 1, 2, 2, 3, 3, 3, 3, 4, 5, 5, 5, 5, 6, 6, 6, 6, 6, 6, 6, 7, 7, 7, 7, 8, None]\n",
      "Predicted token class\n",
      "['LABEL_25', 'LABEL_7', 'LABEL_7', 'LABEL_8', 'LABEL_8', 'LABEL_8', 'LABEL_18', 'LABEL_25', 'LABEL_28', 'LABEL_28', 'LABEL_23', 'LABEL_28', 'LABEL_8', 'LABEL_8', 'LABEL_8', 'LABEL_8', 'LABEL_8', 'LABEL_8', 'LABEL_37', 'LABEL_34', 'LABEL_34', 'LABEL_1', 'LABEL_8', 'LABEL_1', 'LABEL_33', 'LABEL_7', 'LABEL_7', 'LABEL_7', 'LABEL_7', 'LABEL_8', 'LABEL_8', 'LABEL_8', 'LABEL_25', 'LABEL_33', 'LABEL_35', 'LABEL_25', 'LABEL_35', 'LABEL_34', 'LABEL_34', 'LABEL_34', 'LABEL_34', 'LABEL_25', 'LABEL_25']\n",
      "Word IDs\n",
      "[None, 0, 0, 1, 1, 1, 1, 2, 2, 3, 4, 5, 6, 6, 6, 6, 6, 6, 7, 8, 8, 9, 9, 10, 10, 11, 11, 11, 11, 12, 12, 12, 12, 12, 13, 13, 13, 13, 13, 14, 14, 15, None]\n",
      "Predicted token class\n",
      "['LABEL_25', 'LABEL_28', 'LABEL_23', 'LABEL_28', 'LABEL_7', 'LABEL_7', 'LABEL_25', 'LABEL_7', 'LABEL_8', 'LABEL_8', 'LABEL_8', 'LABEL_35', 'LABEL_34', 'LABEL_34', 'LABEL_25', 'LABEL_25']\n",
      "Word IDs\n",
      "[None, 0, 1, 2, 3, 3, 3, 3, 4, 4, 4, 5, 6, 6, 7, None]\n",
      "Predicted token class\n",
      "['LABEL_25', 'LABEL_28', 'LABEL_23', 'LABEL_28', 'LABEL_7', 'LABEL_7', 'LABEL_8', 'LABEL_25', 'LABEL_8', 'LABEL_8', 'LABEL_8', 'LABEL_33', 'LABEL_38', 'LABEL_25', 'LABEL_38', 'LABEL_34', 'LABEL_19', 'LABEL_19', 'LABEL_8', 'LABEL_8', 'LABEL_25', 'LABEL_33', 'LABEL_33', 'LABEL_8', 'LABEL_8', 'LABEL_1', 'LABEL_33', 'LABEL_8', 'LABEL_8', 'LABEL_8', 'LABEL_35', 'LABEL_34', 'LABEL_34', 'LABEL_25', 'LABEL_25']\n",
      "Word IDs\n",
      "[None, 0, 1, 2, 3, 3, 4, 4, 4, 4, 4, 4, 5, 5, 5, 5, 6, 6, 7, 7, 7, 7, 8, 9, 9, 10, 10, 11, 11, 11, 12, 13, 13, 14, None]\n",
      "Predicted token class\n",
      "['LABEL_25', 'LABEL_28', 'LABEL_23', 'LABEL_28', 'LABEL_7', 'LABEL_7', 'LABEL_8', 'LABEL_7', 'LABEL_8', 'LABEL_8', 'LABEL_8', 'LABEL_8', 'LABEL_18', 'LABEL_35', 'LABEL_25', 'LABEL_35', 'LABEL_34', 'LABEL_34', 'LABEL_34', 'LABEL_0', 'LABEL_7', 'LABEL_8', 'LABEL_28', 'LABEL_8', 'LABEL_8', 'LABEL_35', 'LABEL_34', 'LABEL_34', 'LABEL_25', 'LABEL_25']\n",
      "Word IDs\n",
      "[None, 0, 1, 2, 3, 3, 4, 4, 5, 5, 5, 5, 5, 6, 6, 6, 6, 7, 7, 8, 9, 9, 9, 10, 10, 11, 12, 12, 13, None]\n",
      "Predicted token class\n",
      "['LABEL_25', 'LABEL_28', 'LABEL_23', 'LABEL_28', 'LABEL_14', 'LABEL_38', 'LABEL_7', 'LABEL_8', 'LABEL_8', 'LABEL_8', 'LABEL_33', 'LABEL_25', 'LABEL_17', 'LABEL_11', 'LABEL_25', 'LABEL_14', 'LABEL_38', 'LABEL_7', 'LABEL_8', 'LABEL_8', 'LABEL_8', 'LABEL_18', 'LABEL_33', 'LABEL_38', 'LABEL_38', 'LABEL_34', 'LABEL_33', 'LABEL_8', 'LABEL_8', 'LABEL_8', 'LABEL_8', 'LABEL_32', 'LABEL_33', 'LABEL_8', 'LABEL_8', 'LABEL_8', 'LABEL_33', 'LABEL_33', 'LABEL_37', 'LABEL_37', 'LABEL_34', 'LABEL_34', 'LABEL_33', 'LABEL_33', 'LABEL_37', 'LABEL_0', 'LABEL_37', 'LABEL_25', 'LABEL_8', 'LABEL_37', 'LABEL_37', 'LABEL_34', 'LABEL_34', 'LABEL_33', 'LABEL_33', 'LABEL_33', 'LABEL_8', 'LABEL_8', 'LABEL_35', 'LABEL_34', 'LABEL_34', 'LABEL_25', 'LABEL_25']\n",
      "Word IDs\n",
      "[None, 0, 1, 2, 3, 3, 3, 4, 4, 4, 4, 5, 6, 6, 7, 8, 8, 8, 9, 9, 9, 9, 9, 10, 10, 10, 10, 11, 11, 11, 11, 12, 12, 13, 13, 13, 13, 13, 14, 14, 15, 15, 15, 15, 16, 17, 18, 18, 18, 18, 18, 19, 19, 19, 19, 20, 21, 21, 22, 23, 23, 24, None]\n",
      "Predicted token class\n",
      "['LABEL_25', 'LABEL_28', 'LABEL_23', 'LABEL_23', 'LABEL_28', 'LABEL_7', 'LABEL_7', 'LABEL_7', 'LABEL_8', 'LABEL_9', 'LABEL_18', 'LABEL_14', 'LABEL_38', 'LABEL_7', 'LABEL_8', 'LABEL_8', 'LABEL_8', 'LABEL_8', 'LABEL_0', 'LABEL_8', 'LABEL_8', 'LABEL_8', 'LABEL_8', 'LABEL_14', 'LABEL_9', 'LABEL_8', 'LABEL_8', 'LABEL_8', 'LABEL_3', 'LABEL_8', 'LABEL_8', 'LABEL_37', 'LABEL_37', 'LABEL_34', 'LABEL_34', 'LABEL_34', 'LABEL_33', 'LABEL_33', 'LABEL_8', 'LABEL_8', 'LABEL_35', 'LABEL_1', 'LABEL_33', 'LABEL_8', 'LABEL_8', 'LABEL_8', 'LABEL_33', 'LABEL_33', 'LABEL_38', 'LABEL_8', 'LABEL_8', 'LABEL_38', 'LABEL_38', 'LABEL_34', 'LABEL_33', 'LABEL_33', 'LABEL_16', 'LABEL_8', 'LABEL_16', 'LABEL_8', 'LABEL_8', 'LABEL_9', 'LABEL_8', 'LABEL_8', 'LABEL_8', 'LABEL_33', 'LABEL_14', 'LABEL_38', 'LABEL_7', 'LABEL_8', 'LABEL_8', 'LABEL_8', 'LABEL_8', 'LABEL_0', 'LABEL_8', 'LABEL_8', 'LABEL_8', 'LABEL_8', 'LABEL_8', 'LABEL_8', 'LABEL_8', 'LABEL_37', 'LABEL_34', 'LABEL_34', 'LABEL_34', 'LABEL_35', 'LABEL_25', 'LABEL_35', 'LABEL_35', 'LABEL_35', 'LABEL_34', 'LABEL_34', 'LABEL_34', 'LABEL_25', 'LABEL_25']\n",
      "Word IDs\n",
      "[None, 0, 1, 1, 2, 3, 3, 3, 4, 4, 4, 5, 5, 5, 6, 6, 6, 6, 7, 8, 8, 8, 8, 9, 9, 10, 10, 10, 11, 12, 12, 12, 13, 14, 14, 14, 14, 14, 15, 15, 15, 16, 16, 17, 17, 17, 17, 17, 18, 18, 18, 18, 18, 18, 18, 18, 19, 19, 19, 20, 20, 20, 20, 20, 20, 20, 21, 21, 21, 22, 22, 22, 22, 23, 24, 24, 24, 24, 25, 25, 25, 26, 27, 27, 27, 28, 28, 28, 28, 28, 28, 28, 28, 29, None]\n",
      "Predicted token class\n",
      "['LABEL_25', 'LABEL_23', 'LABEL_25', 'LABEL_7', 'LABEL_7', 'LABEL_8', 'LABEL_37', 'LABEL_38', 'LABEL_34', 'LABEL_8', 'LABEL_8', 'LABEL_33', 'LABEL_33', 'LABEL_10', 'LABEL_25', 'LABEL_10', 'LABEL_8', 'LABEL_8', 'LABEL_8', 'LABEL_35', 'LABEL_34', 'LABEL_34', 'LABEL_34', 'LABEL_34', 'LABEL_34', 'LABEL_25', 'LABEL_25']\n",
      "Word IDs\n",
      "[None, 0, 1, 2, 2, 3, 3, 4, 4, 5, 5, 5, 6, 7, 7, 7, 7, 8, 8, 9, 9, 9, 9, 9, 9, 10, None]\n"
     ]
    },
    {
     "name": "stdout",
     "output_type": "stream",
     "text": [
      "Predicted token class\n",
      "['LABEL_25', 'LABEL_8', 'LABEL_8', 'LABEL_8', 'LABEL_25', 'LABEL_8', 'LABEL_8', 'LABEL_33', 'LABEL_14', 'LABEL_38', 'LABEL_7', 'LABEL_8', 'LABEL_8', 'LABEL_8', 'LABEL_7', 'LABEL_8', 'LABEL_8', 'LABEL_0', 'LABEL_10', 'LABEL_8', 'LABEL_10', 'LABEL_8', 'LABEL_17', 'LABEL_33', 'LABEL_16', 'LABEL_33', 'LABEL_33', 'LABEL_14', 'LABEL_38', 'LABEL_7', 'LABEL_7', 'LABEL_7', 'LABEL_8', 'LABEL_35', 'LABEL_35', 'LABEL_1', 'LABEL_7', 'LABEL_8', 'LABEL_8', 'LABEL_8', 'LABEL_0', 'LABEL_8', 'LABEL_8', 'LABEL_8', 'LABEL_8', 'LABEL_8', 'LABEL_8', 'LABEL_18', 'LABEL_8', 'LABEL_33', 'LABEL_8', 'LABEL_8', 'LABEL_8', 'LABEL_35', 'LABEL_1', 'LABEL_7', 'LABEL_8', 'LABEL_8', 'LABEL_33', 'LABEL_38', 'LABEL_34', 'LABEL_8', 'LABEL_8', 'LABEL_35', 'LABEL_34', 'LABEL_34', 'LABEL_34', 'LABEL_34', 'LABEL_34', 'LABEL_25', 'LABEL_25']\n",
      "Word IDs\n",
      "[None, 0, 0, 0, 0, 0, 0, 0, 1, 1, 1, 2, 2, 2, 2, 3, 3, 4, 5, 5, 5, 5, 6, 6, 7, 7, 7, 8, 8, 8, 9, 9, 10, 10, 11, 12, 12, 13, 13, 13, 14, 15, 15, 15, 15, 16, 16, 16, 16, 16, 17, 17, 17, 18, 19, 19, 20, 20, 20, 21, 21, 22, 22, 23, 23, 23, 23, 23, 23, 24, None]\n",
      "Predicted token class\n",
      "['LABEL_25', 'LABEL_23', 'LABEL_25', 'LABEL_7', 'LABEL_8', 'LABEL_7', 'LABEL_7', 'LABEL_8', 'LABEL_8', 'LABEL_8', 'LABEL_8', 'LABEL_33', 'LABEL_37', 'LABEL_8', 'LABEL_37', 'LABEL_34', 'LABEL_34', 'LABEL_8', 'LABEL_25', 'LABEL_8', 'LABEL_8', 'LABEL_25', 'LABEL_25']\n",
      "Word IDs\n",
      "[None, 0, 1, 2, 2, 2, 2, 3, 3, 3, 3, 3, 4, 4, 4, 5, 5, 6, 6, 6, 6, 7, None]\n",
      "Predicted token class\n",
      "['LABEL_25', 'LABEL_28', 'LABEL_23', 'LABEL_28', 'LABEL_14', 'LABEL_38', 'LABEL_7', 'LABEL_7', 'LABEL_7', 'LABEL_7', 'LABEL_7', 'LABEL_8', 'LABEL_8', 'LABEL_8', 'LABEL_8', 'LABEL_37', 'LABEL_8', 'LABEL_8', 'LABEL_8', 'LABEL_8', 'LABEL_16', 'LABEL_11', 'LABEL_7', 'LABEL_7', 'LABEL_7', 'LABEL_8', 'LABEL_8', 'LABEL_8', 'LABEL_8', 'LABEL_8', 'LABEL_38', 'LABEL_34', 'LABEL_7', 'LABEL_7', 'LABEL_7', 'LABEL_8', 'LABEL_9', 'LABEL_8', 'LABEL_0', 'LABEL_7', 'LABEL_7', 'LABEL_7', 'LABEL_8', 'LABEL_8', 'LABEL_25', 'LABEL_8', 'LABEL_0', 'LABEL_14', 'LABEL_38', 'LABEL_7', 'LABEL_8', 'LABEL_18', 'LABEL_8', 'LABEL_8', 'LABEL_7', 'LABEL_7', 'LABEL_7', 'LABEL_7', 'LABEL_8', 'LABEL_25', 'LABEL_8', 'LABEL_8', 'LABEL_33', 'LABEL_33', 'LABEL_35', 'LABEL_34', 'LABEL_34', 'LABEL_34', 'LABEL_34', 'LABEL_34', 'LABEL_0', 'LABEL_8', 'LABEL_8', 'LABEL_33', 'LABEL_35', 'LABEL_34', 'LABEL_34', 'LABEL_34', 'LABEL_34', 'LABEL_34', 'LABEL_34', 'LABEL_34', 'LABEL_34', 'LABEL_1', 'LABEL_0', 'LABEL_35', 'LABEL_8', 'LABEL_8', 'LABEL_35', 'LABEL_34', 'LABEL_34', 'LABEL_34', 'LABEL_34', 'LABEL_25', 'LABEL_25']\n",
      "Word IDs\n",
      "[None, 0, 1, 2, 3, 3, 3, 4, 4, 4, 4, 5, 5, 5, 5, 5, 6, 6, 6, 6, 6, 7, 7, 8, 8, 8, 9, 9, 9, 9, 10, 10, 11, 11, 11, 12, 12, 12, 13, 14, 14, 14, 15, 15, 15, 15, 16, 17, 17, 17, 18, 18, 19, 19, 20, 20, 20, 20, 21, 21, 21, 21, 21, 21, 22, 22, 22, 22, 22, 22, 23, 24, 24, 24, 25, 25, 26, 26, 26, 26, 26, 26, 26, 27, 27, 28, 28, 28, 28, 28, 28, 28, 28, 29, None]\n",
      "Predicted token class\n",
      "['LABEL_25', 'LABEL_28', 'LABEL_23', 'LABEL_28', 'LABEL_3', 'LABEL_8', 'LABEL_8', 'LABEL_8', 'LABEL_8', 'LABEL_14', 'LABEL_38', 'LABEL_7', 'LABEL_8', 'LABEL_25', 'LABEL_8', 'LABEL_8', 'LABEL_8', 'LABEL_8', 'LABEL_10', 'LABEL_8', 'LABEL_8', 'LABEL_8', 'LABEL_8', 'LABEL_8', 'LABEL_33', 'LABEL_33', 'LABEL_25', 'LABEL_8', 'LABEL_8', 'LABEL_8', 'LABEL_8', 'LABEL_16', 'LABEL_8', 'LABEL_8', 'LABEL_8', 'LABEL_8', 'LABEL_8', 'LABEL_8', 'LABEL_33', 'LABEL_14', 'LABEL_38', 'LABEL_7', 'LABEL_8', 'LABEL_8', 'LABEL_8', 'LABEL_0', 'LABEL_8', 'LABEL_8', 'LABEL_8', 'LABEL_8', 'LABEL_38', 'LABEL_34', 'LABEL_34', 'LABEL_7', 'LABEL_7', 'LABEL_8', 'LABEL_8', 'LABEL_8', 'LABEL_18', 'LABEL_33', 'LABEL_38', 'LABEL_8', 'LABEL_8', 'LABEL_25', 'LABEL_34', 'LABEL_38', 'LABEL_34', 'LABEL_33', 'LABEL_33', 'LABEL_7', 'LABEL_7', 'LABEL_8', 'LABEL_8', 'LABEL_8', 'LABEL_33', 'LABEL_22', 'LABEL_36', 'LABEL_36', 'LABEL_36', 'LABEL_33', 'LABEL_8', 'LABEL_8', 'LABEL_8', 'LABEL_18', 'LABEL_7', 'LABEL_7', 'LABEL_8', 'LABEL_33', 'LABEL_33', 'LABEL_35', 'LABEL_34', 'LABEL_34', 'LABEL_34', 'LABEL_34', 'LABEL_25', 'LABEL_25']\n",
      "Word IDs\n",
      "[None, 0, 1, 2, 3, 4, 4, 4, 4, 5, 5, 5, 6, 6, 6, 6, 7, 7, 7, 7, 7, 8, 8, 8, 8, 8, 9, 10, 10, 10, 10, 10, 11, 11, 11, 11, 11, 11, 11, 12, 12, 12, 13, 13, 13, 14, 15, 15, 15, 15, 16, 16, 17, 18, 18, 19, 19, 19, 19, 19, 20, 20, 20, 20, 20, 20, 20, 21, 21, 22, 22, 23, 23, 23, 23, 24, 25, 25, 25, 25, 26, 26, 26, 26, 27, 27, 28, 28, 28, 29, 30, 30, 30, 30, 31, None]\n",
      "Predicted token class\n",
      "['LABEL_25', 'LABEL_3', 'LABEL_7', 'LABEL_7', 'LABEL_8', 'LABEL_8', 'LABEL_10', 'LABEL_10', 'LABEL_10', 'LABEL_18', 'LABEL_22', 'LABEL_8', 'LABEL_8', 'LABEL_33', 'LABEL_33', 'LABEL_8', 'LABEL_8', 'LABEL_8', 'LABEL_8', 'LABEL_8', 'LABEL_8', 'LABEL_8', 'LABEL_8', 'LABEL_18', 'LABEL_33', 'LABEL_37', 'LABEL_25', 'LABEL_37', 'LABEL_37', 'LABEL_8', 'LABEL_9', 'LABEL_9', 'LABEL_8', 'LABEL_8', 'LABEL_8', 'LABEL_8', 'LABEL_8', 'LABEL_8', 'LABEL_8', 'LABEL_0', 'LABEL_8', 'LABEL_8', 'LABEL_8', 'LABEL_8', 'LABEL_38', 'LABEL_38', 'LABEL_34', 'LABEL_34', 'LABEL_20', 'LABEL_7', 'LABEL_11', 'LABEL_8', 'LABEL_8', 'LABEL_8', 'LABEL_25', 'LABEL_8', 'LABEL_9', 'LABEL_33', 'LABEL_33', 'LABEL_8', 'LABEL_8', 'LABEL_8', 'LABEL_0', 'LABEL_0', 'LABEL_8', 'LABEL_8', 'LABEL_1', 'LABEL_33', 'LABEL_35', 'LABEL_8', 'LABEL_34', 'LABEL_34', 'LABEL_34', 'LABEL_0', 'LABEL_7', 'LABEL_22', 'LABEL_8', 'LABEL_8', 'LABEL_8', 'LABEL_34', 'LABEL_33', 'LABEL_25', 'LABEL_37', 'LABEL_8', 'LABEL_37', 'LABEL_37', 'LABEL_34', 'LABEL_34', 'LABEL_8', 'LABEL_8', 'LABEL_8', 'LABEL_0', 'LABEL_8', 'LABEL_8', 'LABEL_8', 'LABEL_8', 'LABEL_33', 'LABEL_37', 'LABEL_8', 'LABEL_34', 'LABEL_33', 'LABEL_9', 'LABEL_9', 'LABEL_38', 'LABEL_7', 'LABEL_8', 'LABEL_8', 'LABEL_8', 'LABEL_8', 'LABEL_8', 'LABEL_8', 'LABEL_18', 'LABEL_33', 'LABEL_33', 'LABEL_35', 'LABEL_34', 'LABEL_34', 'LABEL_34', 'LABEL_25', 'LABEL_25']\n",
      "Word IDs\n",
      "[None, 0, 1, 1, 2, 2, 3, 3, 3, 3, 4, 4, 4, 4, 4, 5, 5, 5, 5, 6, 6, 6, 6, 6, 6, 7, 7, 7, 7, 8, 8, 8, 8, 8, 8, 8, 9, 9, 9, 10, 11, 11, 11, 11, 12, 12, 13, 13, 14, 14, 15, 16, 16, 16, 17, 18, 18, 18, 18, 19, 19, 19, 20, 20, 21, 21, 22, 22, 23, 23, 23, 23, 23, 24, 24, 25, 25, 25, 25, 25, 25, 26, 27, 27, 27, 27, 28, 28, 29, 29, 29, 30, 31, 31, 31, 31, 31, 32, 32, 32, 32, 33, 33, 33, 33, 34, 34, 34, 34, 35, 35, 35, 35, 35, 36, 36, 36, 36, 37, None]\n",
      "Predicted token class\n",
      "['LABEL_25', 'LABEL_8', 'LABEL_25', 'LABEL_8', 'LABEL_8', 'LABEL_0', 'LABEL_0', 'LABEL_8', 'LABEL_8', 'LABEL_8', 'LABEL_25', 'LABEL_25']\n",
      "Word IDs\n",
      "[None, 0, 0, 0, 0, 1, 1, 2, 2, 2, 3, None]\n",
      "Predicted token class\n",
      "['LABEL_25', 'LABEL_23', 'LABEL_25', 'LABEL_8', 'LABEL_25', 'LABEL_8', 'LABEL_8', 'LABEL_25', 'LABEL_25']\n",
      "Word IDs\n",
      "[None, 0, 1, 2, 2, 2, 2, 3, None]\n",
      "Predicted token class\n",
      "['LABEL_25', 'LABEL_3', 'LABEL_8', 'LABEL_8', 'LABEL_8', 'LABEL_8', 'LABEL_8', 'LABEL_8', 'LABEL_8', 'LABEL_8', 'LABEL_33', 'LABEL_0', 'LABEL_0', 'LABEL_8', 'LABEL_8', 'LABEL_8', 'LABEL_25', 'LABEL_8', 'LABEL_8', 'LABEL_7', 'LABEL_7', 'LABEL_8', 'LABEL_8', 'LABEL_8', 'LABEL_8', 'LABEL_8', 'LABEL_0', 'LABEL_0', 'LABEL_8', 'LABEL_8', 'LABEL_8', 'LABEL_33', 'LABEL_0', 'LABEL_0', 'LABEL_7', 'LABEL_7', 'LABEL_7', 'LABEL_7', 'LABEL_8', 'LABEL_8', 'LABEL_8', 'LABEL_8', 'LABEL_33', 'LABEL_38', 'LABEL_34', 'LABEL_34', 'LABEL_25', 'LABEL_8', 'LABEL_8', 'LABEL_8', 'LABEL_8', 'LABEL_8', 'LABEL_8', 'LABEL_8', 'LABEL_8', 'LABEL_8', 'LABEL_8', 'LABEL_18', 'LABEL_33', 'LABEL_0', 'LABEL_0', 'LABEL_8', 'LABEL_8', 'LABEL_33', 'LABEL_38', 'LABEL_25', 'LABEL_34', 'LABEL_14', 'LABEL_38', 'LABEL_7', 'LABEL_8', 'LABEL_8', 'LABEL_8', 'LABEL_25', 'LABEL_33', 'LABEL_3', 'LABEL_11', 'LABEL_33', 'LABEL_11', 'LABEL_8', 'LABEL_8', 'LABEL_8', 'LABEL_35', 'LABEL_8', 'LABEL_35', 'LABEL_34', 'LABEL_34', 'LABEL_25', 'LABEL_1', 'LABEL_33', 'LABEL_25', 'LABEL_28', 'LABEL_25']\n",
      "Word IDs\n",
      "[None, 0, 1, 1, 1, 1, 2, 2, 2, 2, 2, 3, 3, 4, 4, 4, 4, 4, 4, 5, 5, 6, 6, 7, 7, 7, 8, 8, 9, 9, 9, 9, 10, 10, 11, 12, 12, 12, 13, 13, 13, 13, 13, 14, 14, 14, 15, 16, 16, 16, 16, 17, 17, 17, 17, 17, 17, 17, 17, 18, 18, 19, 19, 19, 20, 20, 20, 21, 21, 21, 22, 22, 22, 22, 22, 23, 24, 24, 24, 25, 25, 25, 26, 26, 26, 26, 26, 27, 28, 28, 29, 29, None]\n",
      "Predicted token class\n",
      "['LABEL_25', 'LABEL_28', 'LABEL_23', 'LABEL_28', 'LABEL_8', 'LABEL_9', 'LABEL_9', 'LABEL_25', 'LABEL_8', 'LABEL_8', 'LABEL_8', 'LABEL_8', 'LABEL_8', 'LABEL_8', 'LABEL_8', 'LABEL_7', 'LABEL_25', 'LABEL_7', 'LABEL_10', 'LABEL_8', 'LABEL_10', 'LABEL_25', 'LABEL_8', 'LABEL_8', 'LABEL_8', 'LABEL_0', 'LABEL_0', 'LABEL_3', 'LABEL_8', 'LABEL_8', 'LABEL_8', 'LABEL_8', 'LABEL_33', 'LABEL_33', 'LABEL_37', 'LABEL_25', 'LABEL_8', 'LABEL_8', 'LABEL_37', 'LABEL_34', 'LABEL_34', 'LABEL_34', 'LABEL_8', 'LABEL_8', 'LABEL_8', 'LABEL_8', 'LABEL_8', 'LABEL_8', 'LABEL_25', 'LABEL_25']\n",
      "Word IDs\n",
      "[None, 0, 1, 2, 3, 3, 3, 3, 3, 3, 3, 4, 4, 4, 4, 5, 5, 5, 6, 6, 6, 7, 8, 8, 8, 9, 9, 10, 11, 11, 11, 11, 11, 11, 12, 12, 12, 12, 12, 12, 13, 13, 14, 14, 14, 14, 15, 15, 16, None]\n"
     ]
    },
    {
     "name": "stdout",
     "output_type": "stream",
     "text": [
      "Predicted token class\n",
      "['LABEL_25', 'LABEL_28', 'LABEL_23', 'LABEL_23', 'LABEL_28', 'LABEL_21', 'LABEL_18', 'LABEL_8', 'LABEL_8', 'LABEL_25', 'LABEL_33', 'LABEL_38', 'LABEL_34', 'LABEL_38', 'LABEL_7', 'LABEL_7', 'LABEL_7', 'LABEL_7', 'LABEL_8', 'LABEL_7', 'LABEL_8', 'LABEL_7', 'LABEL_7', 'LABEL_8', 'LABEL_7', 'LABEL_8', 'LABEL_8', 'LABEL_25', 'LABEL_7', 'LABEL_8', 'LABEL_8', 'LABEL_25', 'LABEL_8', 'LABEL_7', 'LABEL_7', 'LABEL_7', 'LABEL_8', 'LABEL_7', 'LABEL_8', 'LABEL_8', 'LABEL_25', 'LABEL_7', 'LABEL_7', 'LABEL_7', 'LABEL_8', 'LABEL_8', 'LABEL_0', 'LABEL_0', 'LABEL_7', 'LABEL_7', 'LABEL_8', 'LABEL_7', 'LABEL_8', 'LABEL_8', 'LABEL_8', 'LABEL_10', 'LABEL_8', 'LABEL_35', 'LABEL_25', 'LABEL_25']\n",
      "Word IDs\n",
      "[None, 0, 1, 1, 2, 3, 3, 4, 4, 4, 4, 5, 5, 5, 6, 6, 6, 7, 7, 7, 7, 8, 8, 8, 8, 9, 9, 10, 11, 11, 11, 11, 11, 11, 12, 12, 12, 12, 13, 13, 14, 15, 15, 15, 16, 16, 17, 17, 18, 18, 18, 18, 19, 19, 19, 20, 20, 20, 21, None]\n",
      "Predicted token class\n",
      "['LABEL_25', 'LABEL_28', 'LABEL_23', 'LABEL_23', 'LABEL_28', 'LABEL_8', 'LABEL_8', 'LABEL_8', 'LABEL_8', 'LABEL_25', 'LABEL_8', 'LABEL_9', 'LABEL_8', 'LABEL_8', 'LABEL_0', 'LABEL_7', 'LABEL_7', 'LABEL_7', 'LABEL_8', 'LABEL_8', 'LABEL_16', 'LABEL_7', 'LABEL_7', 'LABEL_8', 'LABEL_8', 'LABEL_10', 'LABEL_8', 'LABEL_10', 'LABEL_8', 'LABEL_0', 'LABEL_0', 'LABEL_8', 'LABEL_25', 'LABEL_8', 'LABEL_8', 'LABEL_8', 'LABEL_0', 'LABEL_0', 'LABEL_16', 'LABEL_8', 'LABEL_8', 'LABEL_8', 'LABEL_0', 'LABEL_0', 'LABEL_8', 'LABEL_8', 'LABEL_8', 'LABEL_8', 'LABEL_25', 'LABEL_28', 'LABEL_23', 'LABEL_23', 'LABEL_28', 'LABEL_8', 'LABEL_9', 'LABEL_9', 'LABEL_8', 'LABEL_9', 'LABEL_8', 'LABEL_8', 'LABEL_7', 'LABEL_8', 'LABEL_8', 'LABEL_8', 'LABEL_25', 'LABEL_8', 'LABEL_25', 'LABEL_8', 'LABEL_8', 'LABEL_0', 'LABEL_0', 'LABEL_8', 'LABEL_8', 'LABEL_8', 'LABEL_7', 'LABEL_7', 'LABEL_7', 'LABEL_8', 'LABEL_8', 'LABEL_0', 'LABEL_0', 'LABEL_16', 'LABEL_7', 'LABEL_10', 'LABEL_8', 'LABEL_10', 'LABEL_8', 'LABEL_0', 'LABEL_0', 'LABEL_8', 'LABEL_8', 'LABEL_8', 'LABEL_8', 'LABEL_8', 'LABEL_25', 'LABEL_25']\n",
      "Word IDs\n",
      "[None, 0, 1, 1, 2, 3, 3, 3, 3, 4, 5, 5, 5, 5, 6, 6, 7, 7, 8, 8, 9, 10, 10, 10, 10, 11, 11, 11, 11, 12, 12, 13, 13, 13, 13, 13, 14, 14, 15, 16, 16, 16, 17, 17, 18, 18, 18, 18, 19, 20, 21, 21, 22, 23, 23, 23, 23, 23, 23, 23, 24, 25, 25, 25, 26, 27, 27, 27, 27, 28, 28, 29, 29, 29, 30, 30, 30, 31, 31, 32, 32, 33, 34, 35, 35, 35, 35, 36, 36, 37, 37, 37, 37, 37, 38, None]\n",
      "Predicted token class\n",
      "['LABEL_25', 'LABEL_28', 'LABEL_23', 'LABEL_28', 'LABEL_8', 'LABEL_9', 'LABEL_9', 'LABEL_25', 'LABEL_8', 'LABEL_8', 'LABEL_0', 'LABEL_9', 'LABEL_16', 'LABEL_8', 'LABEL_8', 'LABEL_8', 'LABEL_25', 'LABEL_8', 'LABEL_8', 'LABEL_8', 'LABEL_8', 'LABEL_8', 'LABEL_8', 'LABEL_25', 'LABEL_8', 'LABEL_8', 'LABEL_8', 'LABEL_0', 'LABEL_0', 'LABEL_8', 'LABEL_25', 'LABEL_8', 'LABEL_8', 'LABEL_8', 'LABEL_33', 'LABEL_33', 'LABEL_38', 'LABEL_7', 'LABEL_8', 'LABEL_8', 'LABEL_8', 'LABEL_8', 'LABEL_8', 'LABEL_33', 'LABEL_38', 'LABEL_38', 'LABEL_38', 'LABEL_34', 'LABEL_8', 'LABEL_8', 'LABEL_8', 'LABEL_25', 'LABEL_25']\n",
      "Word IDs\n",
      "[None, 0, 1, 2, 3, 3, 3, 3, 3, 3, 4, 4, 5, 6, 6, 6, 7, 8, 8, 8, 9, 9, 9, 10, 11, 11, 11, 12, 12, 13, 13, 13, 13, 13, 14, 14, 15, 15, 16, 16, 16, 16, 16, 16, 17, 17, 17, 17, 18, 18, 18, 19, None]\n",
      "Predicted token class\n",
      "['LABEL_25', 'LABEL_28', 'LABEL_23', 'LABEL_28', 'LABEL_8', 'LABEL_8', 'LABEL_8', 'LABEL_8', 'LABEL_0', 'LABEL_0', 'LABEL_8', 'LABEL_8', 'LABEL_8', 'LABEL_8', 'LABEL_8', 'LABEL_25', 'LABEL_8', 'LABEL_8', 'LABEL_25', 'LABEL_8', 'LABEL_0', 'LABEL_8', 'LABEL_8', 'LABEL_8', 'LABEL_25', 'LABEL_25']\n",
      "Word IDs\n",
      "[None, 0, 1, 2, 3, 3, 3, 3, 4, 4, 5, 5, 5, 6, 6, 7, 8, 8, 8, 8, 9, 10, 10, 10, 11, None]\n",
      "Predicted token class\n",
      "['LABEL_25', 'LABEL_28', 'LABEL_23', 'LABEL_23', 'LABEL_28', 'LABEL_7', 'LABEL_8', 'LABEL_8', 'LABEL_8', 'LABEL_25', 'LABEL_8', 'LABEL_8', 'LABEL_8', 'LABEL_0', 'LABEL_7', 'LABEL_7', 'LABEL_7', 'LABEL_7', 'LABEL_7', 'LABEL_7', 'LABEL_8', 'LABEL_8', 'LABEL_8', 'LABEL_8', 'LABEL_33', 'LABEL_33', 'LABEL_18', 'LABEL_33', 'LABEL_33', 'LABEL_38', 'LABEL_8', 'LABEL_38', 'LABEL_38', 'LABEL_34', 'LABEL_8', 'LABEL_25', 'LABEL_25']\n",
      "Word IDs\n",
      "[None, 0, 1, 1, 2, 3, 4, 4, 4, 4, 4, 4, 4, 5, 6, 6, 6, 6, 7, 7, 8, 8, 8, 8, 9, 9, 9, 9, 9, 10, 10, 10, 10, 10, 11, 12, None]\n",
      "Predicted token class\n",
      "['LABEL_25', 'LABEL_28', 'LABEL_23', 'LABEL_23', 'LABEL_28', 'LABEL_7', 'LABEL_7', 'LABEL_8', 'LABEL_25', 'LABEL_8', 'LABEL_10', 'LABEL_10', 'LABEL_8', 'LABEL_8', 'LABEL_8', 'LABEL_8', 'LABEL_25', 'LABEL_25']\n",
      "Word IDs\n",
      "[None, 0, 1, 1, 2, 3, 3, 4, 4, 4, 5, 5, 5, 6, 6, 6, 7, None]\n",
      "Predicted token class\n",
      "['LABEL_25', 'LABEL_28', 'LABEL_23', 'LABEL_23', 'LABEL_28', 'LABEL_7', 'LABEL_7', 'LABEL_7', 'LABEL_8', 'LABEL_8', 'LABEL_28', 'LABEL_8', 'LABEL_8', 'LABEL_8', 'LABEL_28', 'LABEL_0', 'LABEL_0', 'LABEL_8', 'LABEL_8', 'LABEL_8', 'LABEL_8', 'LABEL_8', 'LABEL_7', 'LABEL_8', 'LABEL_8', 'LABEL_8', 'LABEL_33', 'LABEL_38', 'LABEL_25', 'LABEL_34', 'LABEL_8', 'LABEL_25', 'LABEL_8', 'LABEL_8', 'LABEL_25', 'LABEL_25']\n",
      "Word IDs\n",
      "[None, 0, 1, 1, 2, 3, 3, 3, 4, 4, 5, 6, 6, 6, 7, 8, 8, 9, 9, 9, 9, 9, 9, 10, 10, 10, 10, 11, 11, 11, 12, 12, 12, 12, 13, None]\n",
      "Predicted token class\n",
      "['LABEL_25', 'LABEL_28', 'LABEL_23', 'LABEL_28', 'LABEL_7', 'LABEL_7', 'LABEL_7', 'LABEL_7', 'LABEL_7', 'LABEL_7', 'LABEL_8', 'LABEL_8', 'LABEL_8', 'LABEL_8', 'LABEL_8', 'LABEL_8', 'LABEL_33', 'LABEL_38', 'LABEL_8', 'LABEL_34', 'LABEL_8', 'LABEL_8', 'LABEL_8', 'LABEL_8', 'LABEL_0', 'LABEL_0', 'LABEL_3', 'LABEL_7', 'LABEL_25', 'LABEL_7', 'LABEL_8', 'LABEL_8', 'LABEL_8', 'LABEL_33', 'LABEL_8', 'LABEL_25', 'LABEL_8', 'LABEL_8', 'LABEL_8', 'LABEL_8', 'LABEL_8', 'LABEL_8', 'LABEL_33', 'LABEL_8', 'LABEL_8', 'LABEL_35', 'LABEL_25', 'LABEL_25']\n",
      "Word IDs\n",
      "[None, 0, 1, 2, 3, 3, 3, 4, 4, 4, 5, 5, 5, 6, 6, 6, 6, 7, 7, 7, 8, 8, 8, 8, 9, 9, 10, 11, 11, 11, 12, 12, 12, 12, 13, 13, 13, 13, 13, 14, 14, 14, 14, 15, 15, 15, 16, None]\n",
      "Predicted token class\n",
      "['LABEL_25', 'LABEL_28', 'LABEL_23', 'LABEL_23', 'LABEL_28', 'LABEL_8', 'LABEL_8', 'LABEL_8', 'LABEL_8', 'LABEL_8', 'LABEL_8', 'LABEL_8', 'LABEL_8', 'LABEL_33', 'LABEL_33', 'LABEL_7', 'LABEL_7', 'LABEL_7', 'LABEL_7', 'LABEL_8', 'LABEL_7', 'LABEL_8', 'LABEL_8', 'LABEL_8', 'LABEL_33', 'LABEL_33', 'LABEL_8', 'LABEL_25', 'LABEL_8', 'LABEL_8', 'LABEL_8', 'LABEL_33', 'LABEL_38', 'LABEL_38', 'LABEL_38', 'LABEL_34', 'LABEL_34', 'LABEL_8', 'LABEL_8', 'LABEL_8', 'LABEL_33', 'LABEL_38', 'LABEL_8', 'LABEL_34', 'LABEL_8', 'LABEL_10', 'LABEL_33', 'LABEL_25', 'LABEL_25']\n",
      "Word IDs\n",
      "[None, 0, 1, 1, 2, 3, 3, 3, 3, 4, 4, 4, 4, 5, 5, 6, 6, 6, 7, 7, 7, 8, 8, 8, 8, 9, 10, 10, 10, 10, 10, 10, 11, 11, 11, 11, 11, 12, 12, 12, 12, 13, 13, 13, 14, 14, 14, 15, None]\n",
      "Predicted token class\n",
      "['LABEL_25', 'LABEL_28', 'LABEL_23', 'LABEL_23', 'LABEL_28', 'LABEL_8', 'LABEL_8', 'LABEL_8', 'LABEL_8', 'LABEL_25', 'LABEL_8', 'LABEL_25', 'LABEL_8', 'LABEL_8', 'LABEL_8', 'LABEL_8', 'LABEL_8', 'LABEL_25', 'LABEL_8', 'LABEL_25', 'LABEL_8', 'LABEL_8', 'LABEL_8', 'LABEL_25', 'LABEL_7', 'LABEL_7', 'LABEL_7', 'LABEL_8', 'LABEL_8', 'LABEL_25', 'LABEL_8', 'LABEL_8', 'LABEL_0', 'LABEL_7', 'LABEL_8', 'LABEL_8', 'LABEL_8', 'LABEL_8', 'LABEL_33', 'LABEL_35', 'LABEL_9', 'LABEL_35', 'LABEL_34', 'LABEL_34', 'LABEL_25', 'LABEL_25']\n",
      "Word IDs\n",
      "[None, 0, 1, 1, 2, 3, 3, 3, 3, 4, 5, 5, 5, 5, 5, 5, 5, 6, 7, 7, 7, 7, 7, 8, 9, 9, 9, 10, 10, 11, 12, 12, 13, 13, 14, 14, 14, 14, 14, 15, 15, 15, 15, 15, 16, None]\n",
      "Predicted token class\n",
      "['LABEL_25', 'LABEL_28', 'LABEL_23', 'LABEL_23', 'LABEL_23', 'LABEL_28', 'LABEL_8', 'LABEL_8', 'LABEL_8', 'LABEL_8', 'LABEL_8', 'LABEL_0', 'LABEL_0', 'LABEL_8', 'LABEL_8', 'LABEL_8', 'LABEL_8', 'LABEL_33', 'LABEL_38', 'LABEL_25', 'LABEL_34', 'LABEL_8', 'LABEL_8', 'LABEL_8', 'LABEL_25', 'LABEL_0', 'LABEL_25', 'LABEL_25']\n",
      "Word IDs\n",
      "[None, 0, 1, 1, 1, 2, 3, 3, 3, 4, 4, 5, 5, 6, 6, 6, 6, 6, 7, 7, 7, 8, 8, 8, 9, 10, 10, None]\n",
      "Predicted token class\n",
      "['LABEL_25', 'LABEL_23', 'LABEL_23', 'LABEL_28', 'LABEL_7', 'LABEL_7', 'LABEL_7', 'LABEL_8', 'LABEL_9', 'LABEL_18', 'LABEL_35', 'LABEL_25', 'LABEL_35', 'LABEL_34', 'LABEL_34', 'LABEL_34', 'LABEL_34', 'LABEL_0', 'LABEL_3', 'LABEL_8', 'LABEL_8', 'LABEL_8', 'LABEL_8', 'LABEL_33', 'LABEL_18', 'LABEL_33', 'LABEL_33', 'LABEL_8', 'LABEL_8', 'LABEL_8', 'LABEL_8', 'LABEL_33', 'LABEL_33', 'LABEL_8', 'LABEL_8', 'LABEL_8', 'LABEL_37', 'LABEL_8', 'LABEL_35', 'LABEL_34', 'LABEL_34', 'LABEL_34', 'LABEL_14', 'LABEL_38', 'LABEL_7', 'LABEL_7', 'LABEL_8', 'LABEL_8', 'LABEL_8', 'LABEL_8', 'LABEL_25', 'LABEL_25']\n",
      "Word IDs\n",
      "[None, 0, 0, 1, 2, 2, 2, 3, 3, 3, 4, 4, 4, 4, 4, 4, 4, 5, 6, 7, 7, 7, 7, 8, 8, 8, 8, 9, 9, 9, 9, 10, 10, 11, 11, 11, 12, 12, 12, 12, 12, 12, 13, 13, 13, 14, 15, 15, 15, 15, 16, None]\n",
      "Predicted token class\n",
      "['LABEL_25', 'LABEL_23', 'LABEL_25', 'LABEL_8', 'LABEL_25', 'LABEL_8', 'LABEL_8', 'LABEL_7', 'LABEL_7', 'LABEL_8', 'LABEL_8', 'LABEL_25', 'LABEL_25']\n",
      "Word IDs\n",
      "[None, 0, 1, 2, 2, 2, 2, 3, 3, 4, 4, 5, None]\n",
      "Predicted token class\n",
      "['LABEL_25', 'LABEL_28', 'LABEL_23', 'LABEL_28', 'LABEL_7', 'LABEL_7', 'LABEL_8', 'LABEL_7', 'LABEL_8', 'LABEL_9', 'LABEL_18', 'LABEL_38', 'LABEL_38', 'LABEL_34', 'LABEL_7', 'LABEL_7', 'LABEL_8', 'LABEL_25', 'LABEL_8', 'LABEL_8', 'LABEL_18', 'LABEL_33', 'LABEL_8', 'LABEL_8', 'LABEL_33', 'LABEL_33', 'LABEL_7', 'LABEL_7', 'LABEL_7', 'LABEL_8', 'LABEL_9', 'LABEL_33', 'LABEL_35', 'LABEL_35', 'LABEL_34', 'LABEL_34', 'LABEL_34', 'LABEL_25', 'LABEL_25']\n",
      "Word IDs\n",
      "[None, 0, 1, 2, 3, 3, 3, 3, 4, 4, 4, 5, 5, 5, 6, 6, 7, 7, 7, 7, 7, 7, 8, 8, 8, 9, 10, 10, 10, 11, 11, 11, 12, 12, 12, 12, 12, 13, None]\n",
      "Predicted token class\n",
      "['LABEL_25', 'LABEL_28', 'LABEL_23', 'LABEL_28', 'LABEL_7', 'LABEL_7', 'LABEL_8', 'LABEL_7', 'LABEL_8', 'LABEL_9', 'LABEL_18', 'LABEL_38', 'LABEL_38', 'LABEL_38', 'LABEL_7', 'LABEL_7', 'LABEL_8', 'LABEL_25', 'LABEL_8', 'LABEL_8', 'LABEL_18', 'LABEL_33', 'LABEL_7', 'LABEL_7', 'LABEL_7', 'LABEL_8', 'LABEL_9', 'LABEL_18', 'LABEL_35', 'LABEL_35', 'LABEL_25', 'LABEL_35', 'LABEL_34', 'LABEL_34', 'LABEL_25', 'LABEL_25']\n",
      "Word IDs\n",
      "[None, 0, 1, 2, 3, 3, 3, 3, 4, 4, 4, 5, 5, 5, 6, 6, 7, 7, 7, 7, 7, 7, 8, 8, 8, 9, 9, 9, 10, 10, 10, 10, 10, 10, 11, None]\n",
      "Predicted token class\n",
      "['LABEL_25', 'LABEL_13', 'LABEL_13', 'LABEL_8', 'LABEL_8', 'LABEL_1', 'LABEL_33', 'LABEL_35', 'LABEL_25', 'LABEL_34', 'LABEL_8', 'LABEL_25', 'LABEL_34', 'LABEL_14', 'LABEL_37', 'LABEL_7', 'LABEL_7', 'LABEL_8', 'LABEL_8', 'LABEL_8', 'LABEL_37', 'LABEL_34', 'LABEL_33', 'LABEL_33', 'LABEL_25', 'LABEL_16', 'LABEL_16', 'LABEL_33', 'LABEL_33', 'LABEL_13', 'LABEL_13', 'LABEL_16', 'LABEL_8', 'LABEL_25', 'LABEL_10', 'LABEL_8', 'LABEL_35', 'LABEL_34', 'LABEL_34', 'LABEL_34', 'LABEL_25', 'LABEL_25']\n",
      "Word IDs\n",
      "[None, 0, 0, 1, 1, 2, 2, 3, 3, 3, 3, 3, 3, 4, 4, 4, 4, 5, 5, 5, 6, 6, 6, 6, 7, 8, 8, 9, 9, 10, 10, 10, 11, 11, 11, 11, 12, 12, 12, 12, 13, None]\n"
     ]
    },
    {
     "name": "stdout",
     "output_type": "stream",
     "text": [
      "Predicted token class\n",
      "['LABEL_25', 'LABEL_28', 'LABEL_23', 'LABEL_28', 'LABEL_8', 'LABEL_9', 'LABEL_9', 'LABEL_8', 'LABEL_9', 'LABEL_8', 'LABEL_33', 'LABEL_25', 'LABEL_7', 'LABEL_7', 'LABEL_7', 'LABEL_8', 'LABEL_9', 'LABEL_18', 'LABEL_37', 'LABEL_8', 'LABEL_34', 'LABEL_33', 'LABEL_7', 'LABEL_7', 'LABEL_8', 'LABEL_8', 'LABEL_8', 'LABEL_8', 'LABEL_18', 'LABEL_33', 'LABEL_8', 'LABEL_8', 'LABEL_8', 'LABEL_25', 'LABEL_8', 'LABEL_8', 'LABEL_8', 'LABEL_8', 'LABEL_25', 'LABEL_8', 'LABEL_18', 'LABEL_33', 'LABEL_33', 'LABEL_35', 'LABEL_35', 'LABEL_35', 'LABEL_34', 'LABEL_34', 'LABEL_34', 'LABEL_1', 'LABEL_0', 'LABEL_11', 'LABEL_7', 'LABEL_11', 'LABEL_7', 'LABEL_7', 'LABEL_8', 'LABEL_8', 'LABEL_8', 'LABEL_8', 'LABEL_16', 'LABEL_38', 'LABEL_38', 'LABEL_34', 'LABEL_8', 'LABEL_9', 'LABEL_33', 'LABEL_8', 'LABEL_22', 'LABEL_35', 'LABEL_34', 'LABEL_34', 'LABEL_34', 'LABEL_25', 'LABEL_25']\n",
      "Word IDs\n",
      "[None, 0, 1, 2, 3, 3, 3, 3, 3, 3, 3, 4, 5, 5, 5, 6, 6, 6, 7, 7, 7, 7, 8, 8, 9, 9, 9, 9, 9, 9, 10, 10, 10, 10, 10, 10, 10, 11, 11, 11, 11, 11, 11, 12, 12, 12, 12, 12, 12, 13, 13, 14, 14, 14, 15, 15, 16, 16, 16, 16, 17, 18, 18, 18, 19, 19, 19, 20, 20, 21, 21, 21, 21, 22, None]\n",
      "Predicted token class\n",
      "['LABEL_25', 'LABEL_23', 'LABEL_25', 'LABEL_8', 'LABEL_25', 'LABEL_8', 'LABEL_8', 'LABEL_8', 'LABEL_8', 'LABEL_25', 'LABEL_8', 'LABEL_38', 'LABEL_34', 'LABEL_8', 'LABEL_8', 'LABEL_25', 'LABEL_25']\n",
      "Word IDs\n",
      "[None, 0, 1, 2, 2, 2, 2, 3, 3, 3, 3, 4, 4, 5, 5, 6, None]\n",
      "Predicted token class\n",
      "['LABEL_25', 'LABEL_7', 'LABEL_7', 'LABEL_7', 'LABEL_8', 'LABEL_9', 'LABEL_18', 'LABEL_7', 'LABEL_0', 'LABEL_7', 'LABEL_7', 'LABEL_7', 'LABEL_8', 'LABEL_8', 'LABEL_8', 'LABEL_8', 'LABEL_8', 'LABEL_18', 'LABEL_33', 'LABEL_35', 'LABEL_35', 'LABEL_35', 'LABEL_34', 'LABEL_34', 'LABEL_0', 'LABEL_8', 'LABEL_8', 'LABEL_8', 'LABEL_8', 'LABEL_8', 'LABEL_8', 'LABEL_8', 'LABEL_8', 'LABEL_35', 'LABEL_34', 'LABEL_34', 'LABEL_0', 'LABEL_16', 'LABEL_33', 'LABEL_35', 'LABEL_25', 'LABEL_35', 'LABEL_35', 'LABEL_34', 'LABEL_34', 'LABEL_25', 'LABEL_25']\n",
      "Word IDs\n",
      "[None, 0, 0, 0, 1, 1, 1, 2, 3, 4, 4, 4, 4, 5, 5, 5, 5, 5, 5, 6, 6, 6, 6, 6, 7, 8, 8, 8, 8, 9, 9, 9, 9, 10, 10, 10, 11, 12, 12, 13, 13, 13, 13, 13, 13, 14, None]\n",
      "Predicted token class\n",
      "['LABEL_25', 'LABEL_23', 'LABEL_25', 'LABEL_8', 'LABEL_25', 'LABEL_8', 'LABEL_25', 'LABEL_25']\n",
      "Word IDs\n",
      "[None, 0, 1, 2, 2, 2, 3, None]\n",
      "Predicted token class\n",
      "['LABEL_25', 'LABEL_3', 'LABEL_8', 'LABEL_8', 'LABEL_8', 'LABEL_8', 'LABEL_8', 'LABEL_8', 'LABEL_8', 'LABEL_8', 'LABEL_33', 'LABEL_0', 'LABEL_0', 'LABEL_8', 'LABEL_8', 'LABEL_9', 'LABEL_25', 'LABEL_9', 'LABEL_9', 'LABEL_9', 'LABEL_9', 'LABEL_9', 'LABEL_8', 'LABEL_8', 'LABEL_8', 'LABEL_8', 'LABEL_0', 'LABEL_0', 'LABEL_8', 'LABEL_8', 'LABEL_8', 'LABEL_33', 'LABEL_0', 'LABEL_0', 'LABEL_7', 'LABEL_7', 'LABEL_7', 'LABEL_7', 'LABEL_8', 'LABEL_8', 'LABEL_8', 'LABEL_8', 'LABEL_33', 'LABEL_38', 'LABEL_34', 'LABEL_34', 'LABEL_25', 'LABEL_8', 'LABEL_8', 'LABEL_8', 'LABEL_8', 'LABEL_3', 'LABEL_11', 'LABEL_11', 'LABEL_7', 'LABEL_8', 'LABEL_0', 'LABEL_14', 'LABEL_38', 'LABEL_7', 'LABEL_8', 'LABEL_8', 'LABEL_8', 'LABEL_8', 'LABEL_33', 'LABEL_8', 'LABEL_25', 'LABEL_8', 'LABEL_35', 'LABEL_25', 'LABEL_35', 'LABEL_34', 'LABEL_34', 'LABEL_25', 'LABEL_1', 'LABEL_33', 'LABEL_25', 'LABEL_28', 'LABEL_25']\n",
      "Word IDs\n",
      "[None, 0, 1, 1, 1, 1, 2, 2, 2, 2, 2, 3, 3, 4, 4, 4, 4, 4, 4, 5, 5, 6, 6, 7, 7, 7, 8, 8, 9, 9, 9, 9, 10, 10, 11, 12, 12, 12, 13, 13, 13, 13, 13, 14, 14, 14, 15, 16, 16, 16, 16, 17, 18, 18, 19, 19, 20, 21, 21, 21, 22, 22, 22, 22, 22, 23, 23, 23, 24, 24, 24, 24, 24, 25, 26, 26, 27, 27, None]\n"
     ]
    }
   ],
   "source": [
    "predicted_pos_tags = []\n",
    "for i in range(len(test_data)):\n",
    "    tup = test_data[i]\n",
    "    sentence = \" \".join(tup[0])\n",
    "    sentence = sentence.replace(\"\\u200c\",\"\")\n",
    "    \n",
    "\n",
    "    predicted_labels = get_predictions(sentence=sentence, \n",
    "                                   tokenizer=tokenizer,\n",
    "                                   model=model\n",
    "                                   )\n",
    "    pos = []\n",
    "    for index in range(len(sentence.split(' '))):\n",
    "        tag_id = int(predicted_labels[index].split(\"_\")[1])\n",
    "        tag = encoding_dict[tag_id]\n",
    "        pos.append(tag)\n",
    "        \n",
    "    predicted_pos_tags.append(pos)\n",
    "    "
   ]
  },
  {
   "cell_type": "code",
   "execution_count": 162,
   "id": "e65368bb",
   "metadata": {},
   "outputs": [
    {
     "data": {
      "text/plain": [
       "['RD__BUL',\n",
       " 'RD__PUNC',\n",
       " 'N__NN',\n",
       " 'V__VM__VNF',\n",
       " 'V__VAUX',\n",
       " 'N__NN',\n",
       " 'PR__PRI',\n",
       " 'N__NN',\n",
       " 'N__NN',\n",
       " 'V__VM__VNF',\n",
       " 'N__NN',\n",
       " 'V__VM__VF',\n",
       " 'RD__PUNC']"
      ]
     },
     "execution_count": 162,
     "metadata": {},
     "output_type": "execute_result"
    }
   ],
   "source": [
    "predicted_pos_tags[0]"
   ]
  },
  {
   "cell_type": "code",
   "execution_count": 74,
   "id": "1340ce70",
   "metadata": {},
   "outputs": [
    {
     "data": {
      "text/plain": [
       "100"
      ]
     },
     "execution_count": 74,
     "metadata": {},
     "output_type": "execute_result"
    }
   ],
   "source": [
    "len(predicted_pos_tags)"
   ]
  },
  {
   "cell_type": "code",
   "execution_count": 66,
   "id": "2c1ec0f6",
   "metadata": {},
   "outputs": [
    {
     "data": {
      "text/plain": [
       "100"
      ]
     },
     "execution_count": 66,
     "metadata": {},
     "output_type": "execute_result"
    }
   ],
   "source": [
    "len(test_data)"
   ]
  },
  {
   "cell_type": "code",
   "execution_count": 75,
   "id": "cec46c66",
   "metadata": {},
   "outputs": [],
   "source": [
    "mismatch = 0\n",
    "crt = 0\n",
    "tot = 0\n",
    "for i in range(len(test_data)):\n",
    "    pred = predicted_pos_tags[i]\n",
    "    #pred = [i.replace(\"_\",\"__\") for i in pred]\n",
    "    ac = test_data[i][1]\n",
    "    #print(f\"Actual : {ac} || Pred : {pred} || Sentence : {' '.join(test_data[i][0])} || {' '.join(test_data_crf[i][0])}\")\n",
    "    if len(pred)!=len(ac):\n",
    "        mismatch=1\n",
    "    for j in range(len(pred)):\n",
    "        if pred[j]==ac[j]:\n",
    "            crt+=1\n",
    "        tot+=1\n",
    "    "
   ]
  },
  {
   "cell_type": "code",
   "execution_count": 76,
   "id": "7252e797",
   "metadata": {},
   "outputs": [],
   "source": [
    "if mismatch==1:\n",
    "    print(\"There are mismatches in lenghts\")"
   ]
  },
  {
   "cell_type": "code",
   "execution_count": 77,
   "id": "0be2a9aa",
   "metadata": {},
   "outputs": [
    {
     "data": {
      "text/plain": [
       "0"
      ]
     },
     "execution_count": 77,
     "metadata": {},
     "output_type": "execute_result"
    }
   ],
   "source": [
    "mismatch"
   ]
  },
  {
   "cell_type": "code",
   "execution_count": 78,
   "id": "0c7d8c1e",
   "metadata": {},
   "outputs": [
    {
     "name": "stdout",
     "output_type": "stream",
     "text": [
      "n : 2448, total : 2448\n"
     ]
    }
   ],
   "source": [
    "n = 0\n",
    "for i in test_data:\n",
    "    n+=len(i[1])\n",
    "print(f\"n : {n}, total : {tot}\")"
   ]
  },
  {
   "cell_type": "code",
   "execution_count": 79,
   "id": "69cd67e8",
   "metadata": {},
   "outputs": [
    {
     "name": "stdout",
     "output_type": "stream",
     "text": [
      "Total Actual : 2448\n",
      "Correct : 2164\n",
      "Accuracy : 88.40%\n"
     ]
    }
   ],
   "source": [
    "print(f\"Total Actual : {tot}\\nCorrect : {crt}\\nAccuracy : {(crt/tot)*100:.2f}%\")"
   ]
  },
  {
   "cell_type": "code",
   "execution_count": 260,
   "id": "9f5808ea",
   "metadata": {},
   "outputs": [
    {
     "name": "stdout",
     "output_type": "stream",
     "text": [
      "['5', '.', 'ಮಂಜೂರು', 'ಆಗಿ', 'ಇರುವ', 'ಜಮೀನಿನಲ್ಲಿ', 'ಯಾವುದೇ', 'ರೀತಿಯಲ್ಲಿ', 'ಅತಿಕ್ರಮಣ', 'ಆಗದಂತೆ', 'ಕ್ರಮ', 'ವಹಿಸುವುದು', ';'] || ['QT_QTC', 'RD_PUNC', 'N_NNP', 'V_VM_VNF', 'V_VM_VNF', 'N_NN', 'DM_DMI', 'N_NN', 'N_NN', 'V_VM_VNF', 'N_NN', 'V_VM_VF', 'RD_PUNC']\n"
     ]
    }
   ],
   "source": [
    "print(f\"{test_data_crf[0][0]} || {test_data_crf[0][1]}\")"
   ]
  },
  {
   "cell_type": "code",
   "execution_count": 261,
   "id": "227dc416",
   "metadata": {},
   "outputs": [
    {
     "name": "stdout",
     "output_type": "stream",
     "text": [
      "k = 1 || Token : 5 || Actual : RD__BUL || Predicted : QT__QTC\n",
      "k = 2 || Token : ಮಂಜೂರು || Actual : N__NN || Predicted : N__NNP\n",
      "k = 3 || Token : ಇರುವ || Actual : V__VAUX || Predicted : V__VM__VNF\n",
      "k = 4 || Token : ಯಾವುದೇ || Actual : PR__PRI || Predicted : DM__DMI\n",
      "k = 5 || Token : ಅತಿಕ್ರಮಣ || Actual : N__NNV || Predicted : N__NN\n",
      "k = 6 || Token : 6 || Actual : RD__BUL || Predicted : QT__QTC\n",
      "k = 7 || Token : ಮಂಂಜೂರಾತಿ || Actual : JJ || Predicted : N__NNP\n",
      "k = 8 || Token : ಯಾವುದೇ || Actual : PR__PRI || Predicted : DM__DMI\n",
      "k = 9 || Token : ದಾವೆ || Actual : JJ || Predicted : N__NN\n",
      "k = 10 || Token : ಇದ್ದಲ್ಲಿ || Actual : V__VAUX || Predicted : V__VM__VNF\n",
      "k = 11 || Token : ತೀರ್ಪಿಗೆ || Actual : N__NNV || Predicted : N__NN\n",
      "k = 12 || Token : ಒಳಪಟ್ಟು || Actual : V__VM__VF || Predicted : V__VM__VNF\n",
      "k = 13 || Token : ಇರುತ್ತದೆ || Actual : V__VAUX || Predicted : V__VM__VF\n",
      "k = 14 || Token : 7 || Actual : RD__BUL || Predicted : QT__QTC\n",
      "k = 15 || Token : ಆದ || Actual : V__VM__VNG || Predicted : V__VM__VNF\n",
      "k = 16 || Token : ಕಂದಾಯ || Actual : JJ || Predicted : N__NN\n",
      "k = 17 || Token : ಮಾರಾಟ || Actual : N__NNV || Predicted : N__NN\n",
      "k = 18 || Token : ಆಗಲೀ || Actual : V__VAUX || Predicted : V__VM__VNF\n",
      "k = 19 || Token : ಆಗಲೀ || Actual : V__VAUX || Predicted : V__VM__VNF\n",
      "k = 20 || Token : ವರ್ಗಾವಣೆ || Actual : N__NNV || Predicted : N__NN\n",
      "k = 21 || Token : ಇತರೆ || Actual : JJ || Predicted : RP__RPD\n",
      "k = 22 || Token : ಯಾವುದೇ || Actual : PR__PRI || Predicted : DM__DMI\n",
      "k = 23 || Token : 8 || Actual : RD__BUL || Predicted : QT__QTC\n",
      "k = 24 || Token : ಆದ || Actual : V__VM__VNG || Predicted : V__VM__VNF\n",
      "k = 25 || Token : ಯಾವುದೇ || Actual : PR__PRI || Predicted : DM__DMI\n",
      "k = 26 || Token : ಇದ್ದಲ್ಲಿ || Actual : V__VAUX || Predicted : V__VM__VNF\n",
      "k = 27 || Token : ಸದರಿ || Actual : JJ || Predicted : N__NN\n",
      "k = 28 || Token : ಹಿಂತೆಗೆದು || Actual : V__VM__VNG || Predicted : V__VM__VNF\n",
      "k = 29 || Token : ಕೊಳ್ಳುವ || Actual : V__VAUX || Predicted : V__VM__VNF\n",
      "k = 30 || Token : ಹೊಂದಿ || Actual : V__VM__VF || Predicted : V__VM__VNF\n",
      "k = 31 || Token : ಇರುತ್ತದೆ || Actual : V__VAUX || Predicted : V__VM__VF\n",
      "k = 32 || Token : 9 || Actual : RD__BUL || Predicted : QT__QTC\n",
      "k = 33 || Token : ಆದ || Actual : V__VM__VNG || Predicted : V__VM__VNF\n",
      "k = 34 || Token : ಅಭಿವೃದ್ಧಿ || Actual : JJ || Predicted : N__NN\n",
      "k = 35 || Token : ಆರಂಭಿಸುವ || Actual : V__VM__VNG || Predicted : V__VM__VNF\n",
      "k = 36 || Token : ಪೂರ್ವದಲ್ಲಿ || Actual : N__NST || Predicted : N__NN\n",
      "k = 37 || Token : ಪಡೆಯಬೇಕಾದ || Actual : V__VM__VNG || Predicted : V__VM__VNF\n",
      "k = 38 || Token : ಸಂಬಂಧಿಸಿದ || Actual : V__VM__VNG || Predicted : V__VM__VNF\n",
      "k = 39 || Token : ಪಡೆಯುವುದು || Actual : V__VM__VNG || Predicted : V__VM__VNF\n",
      "k = 40 || Token : ಪಾವತಿಸಬೇಕಾದ || Actual : V__VM__VNG || Predicted : V__VM__VNF\n",
      "k = 41 || Token : 10 || Actual : RD__BUL || Predicted : QT__QTC\n",
      "k = 42 || Token : ಆದ || Actual : V__VM__VNG || Predicted : V__VM__VNF\n",
      "k = 43 || Token : ಭೂ || Actual : JJ || Predicted : N__NN\n",
      "k = 44 || Token : ಮಂಜೂರಾತಿ || Actual : JJ || Predicted : N__NN\n",
      "k = 45 || Token : ಇದ್ದು || Actual : V__VM__VNG || Predicted : V__VM__VNF\n",
      "k = 46 || Token : ಸದರಿ || Actual : JJ || Predicted : N__NN\n",
      "k = 47 || Token : ಆದಲ್ಲಿ || Actual : V__VM__VNG || Predicted : V__VM__VNF\n",
      "k = 48 || Token : ಮಂಜೂರಾತಿ || Actual : JJ || Predicted : N__NN\n",
      "k = 49 || Token : ಆದ || Actual : V__VM__VNG || Predicted : V__VM__VNF\n",
      "k = 50 || Token : ಯಾವುದೇ || Actual : PR__PRI || Predicted : DM__DMI\n",
      "k = 51 || Token : ಪಡೆಯಲು || Actual : V__VM__VF || Predicted : V__VM__VINF\n",
      "k = 52 || Token : ಆಗುವುದು || Actual : V__VAUX || Predicted : V__VM__VF\n",
      "k = 53 || Token : 11 || Actual : RD__BUL || Predicted : QT__QTC\n",
      "k = 54 || Token : ಜಿಲ್ಲಾ || Actual : JJ || Predicted : N__NN\n",
      "k = 55 || Token : ಇತರೆ || Actual : JJ || Predicted : RP__RPD\n",
      "k = 56 || Token : ಆಗಿದೆ || Actual : V__VAUX || Predicted : V__VM__VF\n",
      "k = 57 || Token : 03.11.2022 || Actual : N__NNP || Predicted : QT__QTC\n",
      "k = 58 || Token : ರಂದು || Actual : PSP || Predicted : N__NN\n",
      "k = 59 || Token : ನಡೆದ || Actual : V__VM__VNG || Predicted : V__VM__VNF\n",
      "k = 60 || Token : ಸಚಿವರ || Actual : N__NN || Predicted : N__NNP\n",
      "k = 61 || Token : ಸಂಪುಟ || Actual : JJ || Predicted : N__NN\n",
      "k = 62 || Token : ನಿರ್ಣಯದಂತೆ || Actual : N__NN || Predicted : V__VM__VNF\n",
      "k = 63 || Token : ಸಿ || Actual : N__NNP || Predicted : N__NN\n",
      "k = 64 || Token : ಹೊರಡಿಸಲು || Actual : V__VM__VF || Predicted : V__VM__VINF\n",
      "k = 65 || Token : ಆಗಿದೆ || Actual : V__VAUX || Predicted : V__VM__VF\n",
      "k = 66 || Token : ಹೊಸನಗರ || Actual : N__NNP || Predicted : N__NN\n",
      "k = 67 || Token : ಎಕರೆ || Actual : RP__CL || Predicted : N__NN\n",
      "k = 68 || Token : ಗೋಮಾಳ || Actual : JJ || Predicted : N__NNP\n",
      "k = 69 || Token : ಸಮುದಾಯ || Actual : JJ || Predicted : N__NN\n",
      "k = 70 || Token : ಭವನ || Actual : JJ || Predicted : N__NN\n",
      "k = 71 || Token : ನಿರ್ಮಾಣದ || Actual : N__NNV || Predicted : N__NN\n",
      "k = 72 || Token : ಕ್ಷತ್ರೀಯ || Actual : N__NNP || Predicted : JJ\n",
      "k = 73 || Token : ಮರಾಠ || Actual : N__NNP || Predicted : N__NN\n",
      "k = 74 || Token : ಯುವ || Actual : N__NNP || Predicted : V__VM__VNF\n",
      "k = 75 || Token : ವೇದಿಕೆ || Actual : N__NNP || Predicted : N__NN\n",
      "k = 76 || Token : ರಿ || Actual : N__NNP || Predicted : N__NN\n",
      "k = 77 || Token : ರಿಪ್ಪನ್‌ಪೇಟೆ || Actual : N__NNP || Predicted : N__NN\n",
      "k = 78 || Token : ಹೊಸನಗರ || Actual : N__NNP || Predicted : N__NN\n",
      "k = 79 || Token : ಮಾಡುವ || Actual : V__VM__VNG || Predicted : V__VM__VNF\n",
      "k = 80 || Token : ಪತ್ರ || Actual : JJ || Predicted : N__NN\n",
      "k = 81 || Token : LND || Actual : N__NNP || Predicted : N__NN\n",
      "k = 82 || Token : CR || Actual : N__NNP || Predicted : N__NN\n",
      "k = 83 || Token : 08.02.2018 || Actual : N__NNP || Predicted : N__NN\n",
      "k = 84 || Token : ನಂ. || Actual : N__NN || Predicted : N__NNP\n",
      "k = 85 || Token : ಎಕರೆ || Actual : RP__CL || Predicted : N__NN\n",
      "k = 86 || Token : ಗೋಮಾಳ || Actual : JJ || Predicted : N__NNP\n",
      "k = 87 || Token : ಕ್ಷತ್ರೀಯ || Actual : N__NNP || Predicted : JJ\n",
      "k = 88 || Token : ಮರಾಠ || Actual : N__NNP || Predicted : N__NN\n",
      "k = 89 || Token : ಸಮುದಾಯ || Actual : JJ || Predicted : N__NN\n",
      "k = 90 || Token : ಭವನ || Actual : JJ || Predicted : N__NN\n",
      "k = 91 || Token : ನಿರ್ಮಾಣದ || Actual : N__NNV || Predicted : N__NN\n",
      "k = 92 || Token : ಕ್ಷತ್ರೀಯ || Actual : N__NNP || Predicted : JJ\n",
      "k = 93 || Token : ಮರಾಠ || Actual : N__NNP || Predicted : N__NN\n",
      "k = 94 || Token : ಯುವ || Actual : N__NNP || Predicted : V__VM__VNF\n",
      "k = 95 || Token : ವೇದಿಕೆ || Actual : N__NNP || Predicted : N__NN\n",
      "k = 96 || Token : ರಿ || Actual : N__NNP || Predicted : N__NN\n",
      "k = 97 || Token : ರಿಪ್ಪನ್‌ಪೇಟೆ || Actual : N__NNP || Predicted : N__NN\n",
      "k = 98 || Token : ಮಾಡುವ || Actual : V__VM__VNG || Predicted : V__VM__VNF\n",
      "k = 99 || Token : ಆದ || Actual : V__VAUX || Predicted : V__VM__VNF\n",
      "k = 100 || Token : ಕ್ರಮ || Actual : JJ || Predicted : N__NN\n",
      "k = 101 || Token : ಆಕ್ಷೇಪಣೆಗಳಿಗೆ || Actual : N__NNV || Predicted : N__NN\n",
      "k = 102 || Token : ಜಿಲ್ಲಾ || Actual : JJ || Predicted : N__NN\n",
      "k = 103 || Token : ಮೇಲೆ || Actual : N__NST || Predicted : RP__RPD\n",
      "k = 104 || Token : ಆದ || Actual : V__VAUX || Predicted : V__VM__VNF\n",
      "k = 105 || Token : ಕ್ರಮ || Actual : JJ || Predicted : N__NN\n",
      "k = 106 || Token : ಸಲ್ಲಿಸಿ || Actual : V__VM__VF || Predicted : V__VM__VNF\n",
      "k = 107 || Token : ಇರುತ್ತಾರೆ || Actual : V__VAUX || Predicted : V__VM__VF\n",
      "k = 108 || Token : ಹೊಸನಗರ || Actual : N__NNP || Predicted : N__NN\n",
      "k = 109 || Token : ಎಕರೆ || Actual : RP__CL || Predicted : N__NN\n",
      "k = 110 || Token : ಗುಂಟೆ || Actual : RP__CL || Predicted : N__NN\n",
      "k = 111 || Token : ಇದ್ದು || Actual : V__VM__VNG || Predicted : V__VM__VNF\n",
      "k = 112 || Token : ಗೋಮಾಳ || Actual : N__NN || Predicted : N__NNP\n",
      "k = 113 || Token : ವರ್ಗೀಕರಣಗೊಂಡು || Actual : V__VM__VF || Predicted : V__VM__VNF\n",
      "k = 114 || Token : ಇರುತ್ತದೆ || Actual : V__VAUX || Predicted : V__VM__VF\n",
      "k = 115 || Token : ಇದ್ದು || Actual : V__VM__VNG || Predicted : V__VM__VNF\n",
      "k = 116 || Token : ಮೇವಿಗೆ || Actual : N__NN || Predicted : N__NNP\n",
      "k = 117 || Token : ಸರ್ವೆ || Actual : JJ || Predicted : N__NN\n",
      "k = 118 || Token : ಒಟ್ಟು || Actual : JJ || Predicted : N__NN\n",
      "k = 119 || Token : ಎಕರೆ || Actual : RP__CL || Predicted : N__NN\n",
      "k = 120 || Token : ಗುಂಟೆ || Actual : RP__CL || Predicted : N__NN\n",
      "k = 121 || Token : ಗೋಮಾಳ || Actual : JJ || Predicted : N__NN\n",
      "k = 122 || Token : ಇರುವುದರಿಂದ || Actual : V__VM__VNG || Predicted : V__VM__VNF\n",
      "k = 123 || Token : ಗೋಮಾಳ || Actual : JJ || Predicted : N__NN\n",
      "k = 124 || Token : ಕೊರತೆ || Actual : N__NNV || Predicted : N__NN\n",
      "k = 125 || Token : ಮಾಡಿ || Actual : V__VM__VF || Predicted : V__VM__VNF\n",
      "k = 126 || Token : ಇರುತ್ತಾರೆ || Actual : V__VAUX || Predicted : V__VM__VF\n",
      "k = 127 || Token : ಹೊಸನಗರ || Actual : N__NNP || Predicted : N__NN\n",
      "k = 128 || Token : ಇರುವ || Actual : V__VAUX || Predicted : V__VM__VNF\n",
      "k = 129 || Token : ತನಿಖಾ || Actual : JJ || Predicted : N__NN\n",
      "k = 130 || Token : ಕೆರೆಹಳ್ಳಿ || Actual : N__NNP || Predicted : N__NN\n",
      "k = 131 || Token : ರಸ್ತೆ || Actual : JJ || Predicted : N__NN\n",
      "k = 132 || Token : ಆಗಿ || Actual : V__VAUX || Predicted : V__VM__VNF\n",
      "k = 133 || Token : ಸುಮಾರು || Actual : N__NN || Predicted : RP__RPD\n",
      "k = 134 || Token : ಕಿ.ಮೀ. || Actual : RP__CL || Predicted : N__NN\n",
      "k = 135 || Token : ಆಗಿ || Actual : V__VAUX || Predicted : V__VM__VNF\n",
      "k = 136 || Token : ಮೇಲೆ || Actual : RP__RPD || Predicted : N__NST\n",
      "k = 137 || Token : ಅಧಿಕ || Actual : QT__QTF || Predicted : JJ\n",
      "k = 138 || Token : ವಿದ್ಯುತ್‌ || Actual : JJ || Predicted : N__NN\n",
      "k = 139 || Token : ಹಾದು || Actual : V__VM__VF || Predicted : V__VM__VNF\n",
      "k = 140 || Token : ಹೋಗಿ || Actual : V__VAUX || Predicted : V__VM__VNF\n",
      "k = 141 || Token : ಇರುವ || Actual : V__VAUX || Predicted : V__VM__VNF\n",
      "k = 142 || Token : ಎಕರೆ || Actual : RP__CL || Predicted : N__NN\n",
      "k = 143 || Token : ಎಲ್ಲಾ || Actual : JJ || Predicted : QT__QTF\n",
      "k = 144 || Token : ಯಾವುದೇ || Actual : PR__PRI || Predicted : DM__DMI\n",
      "k = 145 || Token : ಆಗಿ || Actual : V__VM__VF || Predicted : V__VM__VNF\n",
      "k = 146 || Token : ಇರುವುದಿಲ್ಲ || Actual : V__VAUX || Predicted : V__VM__VF\n",
      "k = 147 || Token : ತಿಳಿಸಿ || Actual : V__VM__VF || Predicted : V__VM__VNF\n",
      "k = 148 || Token : ಇರುತ್ತಾರೆ || Actual : V__VAUX || Predicted : V__VM__VF\n",
      "k = 149 || Token : ಉಪ || Actual : JJ || Predicted : N__NN\n",
      "k = 150 || Token : ಮುದ್ರಾಂಕ || Actual : JJ || Predicted : N__NN\n",
      "k = 151 || Token : ಇರುವ || Actual : V__VAUX || Predicted : V__VM__VNF\n",
      "k = 152 || Token : 16.12.2019 || Actual : N__NNP || Predicted : QT__QTC\n",
      "k = 153 || Token : ರ || Actual : PSP || Predicted : N__NN\n",
      "k = 154 || Token : ಕೆರೆಹಳ್ಳಿ || Actual : N__NNP || Predicted : N__NN\n",
      "k = 155 || Token : ಖುಷ್ಕಿ || Actual : JJ || Predicted : N__NN\n",
      "k = 156 || Token : ಮಾರ್ಗಸೂಚಿ || Actual : JJ || Predicted : N__NN\n",
      "k = 157 || Token : ಆಗಿ || Actual : V__VM__VF || Predicted : V__VM__VNF\n",
      "k = 158 || Token : ಇರುತ್ತದೆ || Actual : V__VAUX || Predicted : V__VM__VF\n",
      "k = 159 || Token : ನೀಡಿ || Actual : V__VM__VF || Predicted : V__VM__VNF\n",
      "k = 160 || Token : ಇರುತ್ತಾರೆ || Actual : V__VAUX || Predicted : V__VM__VF\n",
      "k = 161 || Token : ಕ್ಷತ್ರೀಯ || Actual : N__NNP || Predicted : JJ\n",
      "k = 162 || Token : ಮರಾಠ || Actual : N__NNP || Predicted : N__NN\n",
      "k = 163 || Token : ಯುವ || Actual : N__NNP || Predicted : V__VM__VNF\n",
      "k = 164 || Token : ವೇದಿಕೆ || Actual : N__NNP || Predicted : N__NN\n",
      "k = 165 || Token : ರಿ || Actual : N__NNP || Predicted : N__NN\n",
      "k = 166 || Token : ರಿಪ್ಪನ್‌ಪೇಟೆ || Actual : N__NNP || Predicted : N__NN\n",
      "k = 167 || Token : 15.06.2013 || Actual : N__NNP || Predicted : QT__QTC\n",
      "k = 168 || Token : ರಂದು || Actual : PSP || Predicted : N__NN\n",
      "k = 169 || Token : ಆಗಿ || Actual : V__VM__VF || Predicted : V__VM__VNF\n",
      "k = 170 || Token : ಇರುತ್ತದೆ || Actual : V__VAUX || Predicted : V__VM__VF\n",
      "k = 171 || Token : ಹಾಗೂ || Actual : CC__CCS || Predicted : CC__CCD\n",
      "k = 172 || Token : ಯಾವುದೇ || Actual : PR__PRI || Predicted : DM__DMI\n",
      "k = 173 || Token : ಹೊಂದಿ || Actual : V__VM__VF || Predicted : N__NN\n",
      "k = 174 || Token : ಇರುವುದಿಲ್ಲ || Actual : V__VAUX || Predicted : V__VM__VF\n",
      "k = 175 || Token : ಪ್ರಮಾಣ || Actual : JJ || Predicted : N__NN\n",
      "k = 176 || Token : ಸಲ್ಲಿಸಿ || Actual : V__VM__VF || Predicted : V__VM__VNF\n",
      "k = 177 || Token : ಇರುತ್ತಾರೆ || Actual : V__VAUX || Predicted : V__VM__VF\n",
      "k = 178 || Token : ಆಡಿಟ್ || Actual : JJ || Predicted : N__NN\n",
      "k = 179 || Token : ಸಲ್ಲಿಸಿ || Actual : V__VM__VF || Predicted : V__VM__VNF\n",
      "k = 180 || Token : ಇರುತ್ತದೆ || Actual : V__VAUX || Predicted : V__VM__VF\n",
      "k = 181 || Token : ಜಿಲ್ಲಾ || Actual : JJ || Predicted : N__NN\n",
      "k = 182 || Token : ಆದೇಶ || Actual : JJ || Predicted : N__NN\n",
      "k = 183 || Token : ಆರ್‌ಡಿ || Actual : N__NNP || Predicted : N__NN\n",
      "k = 184 || Token : ಎಲ್‌ಜಿಎಸ್‌ || Actual : N__NNP || Predicted : N__NN\n",
      "k = 185 || Token : 01.02.2023 || Actual : N__NNP || Predicted : N__NN\n",
      "k = 186 || Token : ವಿವರಿಸಿ || Actual : V__VM__VNF || Predicted : RB\n",
      "k = 187 || Token : ಇರುವ || Actual : V__VAUX || Predicted : V__VM__VNF\n",
      "k = 188 || Token : ಶಿವಮೊಗ್ಗ || Actual : N__NNP || Predicted : N__NN\n",
      "k = 189 || Token : ಹೊಸನಗರ || Actual : N__NNP || Predicted : N__NN\n",
      "k = 190 || Token : ಎಕರೆ || Actual : RP__CL || Predicted : N__NN\n",
      "k = 191 || Token : ಗೋಮಾಳ || Actual : JJ || Predicted : N__NNP\n",
      "k = 192 || Token : ಭೂ || Actual : JJ || Predicted : N__NN\n",
      "k = 193 || Token : ಕಂದಾಯ || Actual : JJ || Predicted : N__NN\n",
      "k = 194 || Token : 4ರ || Actual : N__NN || Predicted : QT__QTC\n",
      "k = 195 || Token : ಅಡಿ || Actual : RP__RPD || Predicted : N__NN\n",
      "k = 196 || Token : ಗೋಮಾಳ || Actual : JJ || Predicted : N__NN\n",
      "k = 197 || Token : ಭೂ || Actual : JJ || Predicted : N__NN\n",
      "k = 198 || Token : ಮಂಜೂರಾತಿ || Actual : JJ || Predicted : N__NN\n",
      "k = 199 || Token : 27ರ || Actual : N__NN || Predicted : QT__QTC\n",
      "k = 200 || Token : ಅಡಿ || Actual : RP__RPD || Predicted : N__NN\n",
      "k = 201 || Token : ಪ್ರದತ್ತವಾದ || Actual : RB || Predicted : JJ\n",
      "k = 202 || Token : ಭೂ || Actual : JJ || Predicted : N__NN\n",
      "k = 203 || Token : ಮಂಜೂರಾತಿ || Actual : JJ || Predicted : N__NN\n",
      "k = 204 || Token : 22ಎ || Actual : N__NNP || Predicted : QT__QTC\n",
      "k = 205 || Token : ಅನ್ವಯ || Actual : RP__RPD || Predicted : N__NN\n",
      "k = 206 || Token : ಮಾರುಕಟ್ಟೆ || Actual : JJ || Predicted : N__NN\n",
      "k = 207 || Token : ಇತರೇ || Actual : JJ || Predicted : RP__RPD\n",
      "k = 208 || Token : ಶಾಸನಬದ್ಧ || Actual : JJ || Predicted : N__NN\n",
      "k = 209 || Token : ಕ್ಷತ್ರೀಯ || Actual : N__NNP || Predicted : JJ\n",
      "k = 210 || Token : ಮರಾಠ || Actual : N__NNP || Predicted : N__NN\n",
      "k = 211 || Token : ಯುವ || Actual : N__NNP || Predicted : V__VM__VNF\n",
      "k = 212 || Token : ವೇದಿಕೆ || Actual : N__NNP || Predicted : N__NN\n",
      "k = 213 || Token : ರಿ || Actual : N__NNP || Predicted : N__NN\n",
      "k = 214 || Token : ರಿಷ್ಟನ್‌ಪೇಟೆ || Actual : N__NNP || Predicted : N__NN\n",
      "k = 215 || Token : ಹೊಸನಗರ || Actual : N__NNP || Predicted : N__NN\n",
      "k = 216 || Token : ಬಡ || Actual : JJ || Predicted : N__NN\n",
      "k = 217 || Token : ಸಮುದಾಯ || Actual : JJ || Predicted : N__NN\n",
      "k = 218 || Token : ಭವನ || Actual : JJ || Predicted : N__NN\n",
      "k = 219 || Token : ನಿರ್ಮಾಣದ || Actual : N__NNV || Predicted : N__NN\n",
      "k = 220 || Token : ಕಂಡ || Actual : V__VM__VNG || Predicted : V__VM__VNF\n",
      "k = 221 || Token : ಒಳಪಟ್ಟು || Actual : V__VM__VNG || Predicted : V__VM__VNF\n",
      "k = 222 || Token : 1 || Actual : RD__BUL || Predicted : QT__QTC\n",
      "k = 223 || Token : ಭೂ || Actual : JJ || Predicted : N__NN\n",
      "k = 224 || Token : ಕಂದಾಯ || Actual : JJ || Predicted : N__NN\n",
      "k = 225 || Token : ಅಡಿ || Actual : RP__RPD || Predicted : N__NN\n",
      "k = 226 || Token : ಗೋಮಾಳ || Actual : N__NN || Predicted : N__NNP\n",
      "k = 227 || Token : ಜಿಲ್ಲಾ || Actual : JJ || Predicted : N__NN\n",
      "k = 228 || Token : ಮಂಜೂರಾತಿ || Actual : JJ || Predicted : N__NN\n",
      "k = 229 || Token : ನೀಡಲು || Actual : V__VM__VINF || Predicted : V__VM__VNF\n",
      "k = 230 || Token : 2 || Actual : RD__BUL || Predicted : QT__QTC\n",
      "k = 231 || Token : ಮಂಜೂರಾತಿ || Actual : JJ || Predicted : N__NNP\n",
      "k = 232 || Token : ಮಾರುಕಟ್ಟೆ || Actual : JJ || Predicted : N__NN\n",
      "k = 233 || Token : ರಷ್ಟು || Actual : PSP || Predicted : N__NN\n",
      "k = 234 || Token : ಇತರೆ || Actual : JJ || Predicted : RP__RPD\n",
      "k = 235 || Token : ಶಾಸನಬದ್ಧ || Actual : JJ || Predicted : N__NN\n",
      "k = 236 || Token : 3 || Actual : RD__BUL || Predicted : QT__QTC\n",
      "k = 237 || Token : ಆದ || Actual : V__VM__VNG || Predicted : V__VM__VNF\n",
      "k = 238 || Token : ಯಾವ || Actual : PR__PRQ || Predicted : DM__DMQ\n",
      "k = 239 || Token : ಆಗಿ || Actual : V__VAUX || Predicted : V__VM__VNF\n",
      "k = 240 || Token : ಇದೆಯೋ || Actual : V__VAUX || Predicted : V__VM__VNF\n",
      "k = 241 || Token : ಅದೇ || Actual : DM__DMD || Predicted : JJ\n",
      "k = 242 || Token : ಒಳಗೆ || Actual : RP__RPD || Predicted : N__NST\n",
      "k = 243 || Token : 4 || Actual : RD__BUL || Predicted : QT__QTC\n",
      "k = 244 || Token : ಆದ || Actual : V__VM__VNG || Predicted : V__VM__VNF\n",
      "k = 245 || Token : ಖಾಯಂ || Actual : RB || Predicted : N__NN\n",
      "k = 246 || Token : ಆಗುವ || Actual : V__VM__VNG || Predicted : V__VM__VNF\n",
      "k = 247 || Token : ಬಳಸತಕ್ಕದ್ದು || Actual : V__VM__VF || Predicted : V__VM__VNF\n",
      "k = 248 || Token : 5 || Actual : RD__BUL || Predicted : QT__QTC\n",
      "k = 249 || Token : ಮಂಜೂರು || Actual : N__NN || Predicted : N__NNP\n",
      "k = 250 || Token : ಇರುವ || Actual : V__VAUX || Predicted : V__VM__VNF\n",
      "k = 251 || Token : ಯಾವುದೇ || Actual : PR__PRI || Predicted : DM__DMI\n",
      "k = 252 || Token : 6 || Actual : RD__BUL || Predicted : QT__QTC\n",
      "k = 253 || Token : ಮಂಜೂರಾತಿ || Actual : JJ || Predicted : N__NNP\n",
      "k = 254 || Token : ಯಾವುದೇ || Actual : PR__PRI || Predicted : DM__DMI\n",
      "k = 255 || Token : ದಾವೆ || Actual : JJ || Predicted : N__NN\n",
      "k = 256 || Token : ಇದ್ದಲ್ಲಿ || Actual : V__VAUX || Predicted : V__VM__VNF\n",
      "k = 257 || Token : ಮಂಜೂರಾತಿ || Actual : JJ || Predicted : N__NN\n",
      "k = 258 || Token : ತೀರ್ಪಿಗೆ || Actual : N__NNV || Predicted : N__NN\n",
      "k = 259 || Token : ಒಳಪಟ್ಟು || Actual : V__VM__VF || Predicted : V__VM__VNF\n",
      "k = 260 || Token : ಇರುತ್ತದೆ || Actual : V__VAUX || Predicted : V__VM__VF\n",
      "k = 261 || Token : 7 || Actual : RD__BUL || Predicted : QT__QTC\n",
      "k = 262 || Token : ಆದ || Actual : V__VM__VNG || Predicted : V__VM__VNF\n",
      "k = 263 || Token : ಕಂದಾಯ || Actual : JJ || Predicted : N__NN\n",
      "k = 264 || Token : ಮಾರಾಟ || Actual : N__NNV || Predicted : N__NN\n",
      "k = 265 || Token : ಆಗಲಿ || Actual : V__VAUX || Predicted : V__VM__VNF\n",
      "k = 266 || Token : ಆಗಲೀ || Actual : V__VAUX || Predicted : V__VM__VNF\n",
      "k = 267 || Token : ವರ್ಗಾವಣೆ || Actual : N__NNV || Predicted : N__NN\n",
      "k = 268 || Token : ಇತರೆ || Actual : JJ || Predicted : RP__RPD\n",
      "k = 269 || Token : ಯಾವುದೇ || Actual : PR__PRI || Predicted : DM__DMI\n",
      "k = 270 || Token : 8 || Actual : RD__BUL || Predicted : QT__QTC\n",
      "k = 271 || Token : ಆದ || Actual : V__VM__VNG || Predicted : V__VM__VNF\n",
      "k = 272 || Token : ಯಾವುದೇ || Actual : PR__PRI || Predicted : DM__DMI\n",
      "k = 273 || Token : ಇದ್ದಲ್ಲಿ || Actual : V__VM__VNG || Predicted : V__VM__VNF\n",
      "k = 274 || Token : ಸದರಿ || Actual : JJ || Predicted : N__NN\n",
      "k = 275 || Token : ಹಿಂತೆಗೆದು || Actual : V__VM__VNG || Predicted : V__VM__VNF\n",
      "k = 276 || Token : ಕೊಳ್ಳುವ || Actual : V__VAUX || Predicted : V__VM__VNF\n",
      "k = 277 || Token : ಹೊಂದಿ || Actual : V__VM__VF || Predicted : V__VM__VNF\n",
      "k = 278 || Token : ಇರುತ್ತದೆ || Actual : V__VAUX || Predicted : V__VM__VF\n",
      "k = 279 || Token : 9 || Actual : RD__BUL || Predicted : QT__QTC\n",
      "k = 280 || Token : ಆದ || Actual : V__VM__VNG || Predicted : V__VM__VNF\n",
      "k = 281 || Token : ಅಭಿವೃದ್ಧಿ || Actual : JJ || Predicted : N__NN\n",
      "k = 282 || Token : ಆರಂಭಿಸುವ || Actual : V__VM__VNG || Predicted : V__VM__VNF\n",
      "k = 283 || Token : ಪೂರ್ವದಲ್ಲಿ || Actual : N__NST || Predicted : N__NN\n",
      "k = 284 || Token : ಪಡೆಯಬೇಕಾದ || Actual : V__VM__VNG || Predicted : V__VM__VNF\n",
      "k = 285 || Token : ಸಂಬಂಧಿಸಿದ || Actual : V__VM__VNG || Predicted : V__VM__VNF\n",
      "k = 286 || Token : ಪಾವತಿಸಬೇಕಾದ || Actual : V__VM__VNG || Predicted : V__VM__VNF\n",
      "k = 287 || Token : 10 || Actual : RD__BUL || Predicted : QT__QTC\n",
      "k = 288 || Token : ಆದ || Actual : V__VM__VNG || Predicted : V__VM__VNF\n",
      "k = 289 || Token : ಭೂ || Actual : JJ || Predicted : N__NN\n",
      "k = 290 || Token : ಮಂಜೂರಾತಿ || Actual : JJ || Predicted : N__NN\n",
      "k = 291 || Token : ಇದ್ದು || Actual : V__VM__VNG || Predicted : V__VM__VNF\n",
      "k = 292 || Token : ಸದರಿ || Actual : JJ || Predicted : N__NN\n",
      "k = 293 || Token : ಆದಲ್ಲಿ || Actual : V__VM__VNG || Predicted : V__VM__VNF\n",
      "k = 294 || Token : ಮಂಜೂರಾತಿ || Actual : JJ || Predicted : N__NN\n",
      "k = 295 || Token : ಆದ || Actual : V__VM__VNG || Predicted : V__VM__VNF\n",
      "k = 296 || Token : ಯಾವುದೇ || Actual : PR__PRI || Predicted : DM__DMI\n",
      "k = 297 || Token : ಪಡೆಯಲು || Actual : V__VM__VF || Predicted : V__VM__VINF\n",
      "k = 298 || Token : ಆಗುವುದು || Actual : V__VAUX || Predicted : V__VM__VF\n",
      "k = 299 || Token : 11 || Actual : RD__BUL || Predicted : QT__QTC\n",
      "k = 300 || Token : ಜಿಲ್ಲಾ || Actual : JJ || Predicted : N__NN\n",
      "k = 301 || Token : ಇತರೆ || Actual : JJ || Predicted : RP__RPD\n",
      "k = 302 || Token : ಆಗಿದೆ || Actual : V__VAUX || Predicted : V__VM__VF\n",
      "k = 303 || Token : 18.01.2023 || Actual : N__NNP || Predicted : QT__QTC\n",
      "k = 304 || Token : ರಂದು || Actual : PSP || Predicted : N__NN\n",
      "k = 305 || Token : ನಡೆದ || Actual : V__VM__VNG || Predicted : V__VM__VNF\n",
      "k = 306 || Token : ಸಚಿವ || Actual : JJ || Predicted : N__NNP\n",
      "k = 307 || Token : ಸಂಪುಟ || Actual : JJ || Predicted : N__NN\n",
      "k = 308 || Token : ನಿರ್ಣಯದಂತೆ || Actual : N__NN || Predicted : V__VM__VNF\n",
      "k = 309 || Token : ಪ್ರಕರಣ || Actual : JJ || Predicted : N__NN\n",
      "k = 310 || Token : ಸಿ || Actual : N__NNP || Predicted : N__NN\n",
      "k = 311 || Token : ಹೊರಡಿಸಲು || Actual : V__VM__VF || Predicted : V__VM__VINF\n",
      "k = 312 || Token : ಆಗಿದೆ || Actual : V__VAUX || Predicted : V__VM__VF\n",
      "k = 313 || Token : ನಡವಳಿಗಳು || Actual : N__NNV || Predicted : N__NN\n",
      "k = 314 || Token : ನಗರ || Actual : N__NNP || Predicted : N__NN\n",
      "k = 315 || Token : ಉತ್ತರ || Actual : N__NNP || Predicted : N__NN\n",
      "k = 316 || Token : ಮಾದವಾರ || Actual : N__NNP || Predicted : N__NN\n",
      "k = 317 || Token : ಎಕರೆ || Actual : RP__CL || Predicted : N__NN\n",
      "k = 318 || Token : ಸರ್ಕಾರಿ || Actual : JJ || Predicted : N__NN\n",
      "k = 319 || Token : ಖರಾಬು || Actual : JJ || Predicted : N__NN\n",
      "k = 320 || Token : ಕೊಳವೆ || Actual : JJ || Predicted : N__NN\n",
      "k = 321 || Token : ಪಂಪಿಂಗ್‌ || Actual : JJ || Predicted : N__NNP\n",
      "k = 322 || Token : ISPS || Actual : RD__RDF || Predicted : N__NN\n",
      "k = 323 || Token : ನೀರು || Actual : N__NNP || Predicted : N__NN\n",
      "k = 324 || Token : ಸರಬರಾಜು || Actual : N__NNP || Predicted : N__NN\n",
      "k = 325 || Token : ಮತ್ತು || Actual : N__NNP || Predicted : CC__CCD\n",
      "k = 326 || Token : ಒಳಚರಂಡಿ || Actual : N__NNP || Predicted : N__NN\n",
      "k = 327 || Token : ಮಂಡಳಿಗೆ || Actual : N__NNP || Predicted : N__NN\n",
      "k = 328 || Token : ಮಾಡುವ || Actual : V__VM__VNG || Predicted : V__VM__VNF\n",
      "k = 329 || Token : ಆದ || Actual : V__VAUX || Predicted : V__VM__VNF\n",
      "k = 330 || Token : ರ || Actual : PSP || Predicted : N__NN\n",
      "k = 331 || Token : ಮೂಲಕ || Actual : RP__RPD || Predicted : PSP\n",
      "k = 332 || Token : 110ಹ || Actual : N__NNP || Predicted : QT__QTC\n",
      "k = 333 || Token : ಜಲ || Actual : N__NNP || Predicted : N__NN\n",
      "k = 334 || Token : ಮಂಡಳಿ || Actual : N__NNP || Predicted : N__NN\n",
      "k = 335 || Token : ಸಲ್ಲಿಸಿ || Actual : V__VM__VF || Predicted : V__VM__VNF\n",
      "k = 336 || Token : ಇರುತ್ತಾರೆ || Actual : V__VAUX || Predicted : V__VM__VF\n",
      "k = 337 || Token : 1 || Actual : RD__BUL || Predicted : QT__QTC\n",
      "k = 338 || Token : ಅಪರ || Actual : JJ || Predicted : N__NN\n",
      "k = 339 || Token : ಅಭಿವೃದ್ಧಿ || Actual : JJ || Predicted : N__NN\n",
      "k = 340 || Token : 11.01.2017 || Actual : N__NNP || Predicted : QT__QTC\n",
      "k = 341 || Token : ನಡೆದ || Actual : V__VM__VNG || Predicted : V__VM__VNF\n",
      "k = 342 || Token : ನಡವಳಿಯ || Actual : N__NNV || Predicted : N__NN\n",
      "k = 343 || Token : ಬರುವ || Actual : V__VM__VNG || Predicted : V__VM__VNF\n",
      "k = 344 || Token : ಕುಡಿಯುವ || Actual : JJ || Predicted : V__VM__VNF\n",
      "k = 345 || Token : ಒಳಚರಂಡಿ || Actual : JJ || Predicted : V__VM__VNF\n",
      "k = 346 || Token : ಕೊಳಚೆ || Actual : JJ || Predicted : N__NN\n",
      "k = 347 || Token : ಶುದ್ಧಿಕರಣ || Actual : JJ || Predicted : N__NN\n",
      "k = 348 || Token : STP || Actual : RD__RDF || Predicted : N__NN\n",
      "k = 349 || Token : ಕೊಳವೆ || Actual : JJ || Predicted : N__NN\n",
      "k = 350 || Token : ಪಂಪಿಂಗ್‌ || Actual : JJ || Predicted : N__NNP\n",
      "k = 351 || Token : ISPS || Actual : RD__RDF || Predicted : N__NN\n",
      "k = 352 || Token : ನೆಲ || Actual : JJ || Predicted : N__NN\n",
      "k = 353 || Token : ಜಲ || Actual : JJ || Predicted : N__NN\n",
      "k = 354 || Token : GLR || Actual : RD__RDF || Predicted : N__NN\n",
      "k = 355 || Token : ನಿರ್ಮಾಣಕ್ಕೆ || Actual : N__NNV || Predicted : N__NN\n",
      "k = 356 || Token : ಆಗಿ || Actual : RP__RPD || Predicted : V__VM__VNF\n",
      "k = 357 || Token : ಇರುವ || Actual : V__VM__VNG || Predicted : V__VM__VNF\n",
      "k = 358 || Token : ಮಾಡುವ || Actual : V__VM__VNG || Predicted : V__VM__VNF\n",
      "k = 359 || Token : ಸಲ್ಲಿಸುವ || Actual : V__VM__VNG || Predicted : V__VM__VNF\n",
      "k = 360 || Token : ಜಿಲ್ಲಾ || Actual : JJ || Predicted : N__NN\n",
      "k = 361 || Token : ಕೋರಿ || Actual : V__VM__VNG || Predicted : V__VM__VNF\n",
      "k = 362 || Token : ಆಗಿ || Actual : V__VAUX || Predicted : V__VM__VNF\n",
      "k = 363 || Token : ತಿಳಿಸಿ || Actual : V__VM__VF || Predicted : V__VM__VNF\n",
      "k = 364 || Token : ಇರುತ್ತಾರೆ || Actual : V__VAUX || Predicted : V__VM__VF\n",
      "k = 365 || Token : 2 || Actual : RD__BUL || Predicted : QT__QTC\n",
      "k = 366 || Token : ಅದರಂತೆ || Actual : CC__CCS || Predicted : PR__PRP\n",
      "k = 367 || Token : ಜಿಲ್ಲಾ || Actual : JJ || Predicted : N__NN\n",
      "k = 368 || Token : ನಗರ || Actual : N__NNP || Predicted : N__NN\n",
      "k = 369 || Token : ಕಂದಾಯ || Actual : JJ || Predicted : N__NN\n",
      "k = 370 || Token : ನೀರು || Actual : N__NNP || Predicted : N__NN\n",
      "k = 371 || Token : ಸರಬರಾಜು || Actual : N__NNP || Predicted : N__NN\n",
      "k = 372 || Token : ಮತ್ತು || Actual : N__NNP || Predicted : CC__CCD\n",
      "k = 373 || Token : ಒಳಚರಂಡಿ || Actual : N__NNP || Predicted : N__NN\n",
      "k = 374 || Token : ಮಂಡಳಿಗೆ || Actual : N__NNP || Predicted : N__NN\n",
      "k = 375 || Token : ಕೊಳಚೆ || Actual : JJ || Predicted : N__NN\n",
      "k = 376 || Token : ಶುದ್ದೀಕರಣ || Actual : JJ || Predicted : N__NN\n",
      "k = 377 || Token : ಕೊಳಚೆ || Actual : JJ || Predicted : N__NN\n",
      "k = 378 || Token : ಪಂಪಿಂಗ್‌ || Actual : JJ || Predicted : N__NNP\n",
      "k = 379 || Token : ನೆಲ || Actual : JJ || Predicted : N__NN\n",
      "k = 380 || Token : ಜಲ || Actual : JJ || Predicted : N__NN\n",
      "k = 381 || Token : ಇರುವ || Actual : V__VM__VNG || Predicted : V__VM__VNF\n",
      "k = 382 || Token : ಆಗಿ || Actual : V__VAUX || Predicted : V__VM__VNF\n",
      "k = 383 || Token : ತಿಳಿಸಿ || Actual : V__VM__VF || Predicted : V__VM__VNF\n",
      "k = 384 || Token : ಇರುತ್ತಾರೆ || Actual : V__VAUX || Predicted : V__VM__VF\n",
      "k = 385 || Token : ನಂ. || Actual : N__NN || Predicted : N__NNP\n",
      "k = 386 || Token : ಎಕರೆ || Actual : RP__CL || Predicted : N__NN\n",
      "k = 387 || Token : ಚಿಕ್ಕಬಾಣಾವಾರ || Actual : N__NNP || Predicted : N__NN\n",
      "k = 388 || Token : ಕೊಳವೆ || Actual : N__NNP || Predicted : N__NN\n",
      "k = 389 || Token : ನೀರು || Actual : N__NNP || Predicted : N__NN\n",
      "k = 390 || Token : ಸ್ಟೇಷನಿನ || Actual : N__NNP || Predicted : N__NN\n",
      "k = 391 || Token : ISPS || Actual : RD__RDF || Predicted : N__NN\n",
      "k = 392 || Token : ಗಾಣಿಗರ || Actual : N__NNP || Predicted : N__NN\n",
      "k = 393 || Token : ನಂ. || Actual : N__NN || Predicted : N__NNP\n",
      "k = 394 || Token : ಎಕರೆ || Actual : RP__CL || Predicted : N__NN\n",
      "k = 395 || Token : ಗುಂಟೆ || Actual : RP__CL || Predicted : N__NN\n",
      "k = 396 || Token : ಕೊಳಚೆ || Actual : JJ || Predicted : N__NN\n",
      "k = 397 || Token : ಶುದ್ಧೀಕರಣ || Actual : JJ || Predicted : N__NN\n",
      "k = 398 || Token : STP || Actual : RD__RDF || Predicted : N__NN\n",
      "k = 399 || Token : ಹಸ್ತಾಂತಿಸಬೇಕಾಗಿ || Actual : V__VM__VNF || Predicted : RB\n",
      "k = 400 || Token : ಇರುವುದು || Actual : V__VAUX || Predicted : V__VM__VNG\n",
      "k = 401 || Token : ಆದರೆ || Actual : CC__CCS || Predicted : CC__CCD\n",
      "k = 402 || Token : ಹಸ್ತಾಂತರಿಸುವ || Actual : V__VM__VNG || Predicted : V__VM__VNF\n",
      "k = 403 || Token : ಯಾವುದೇ || Actual : PR__PRI || Predicted : DM__DMI\n",
      "k = 404 || Token : ಜಲ || Actual : JJ || Predicted : N__NN\n",
      "k = 405 || Token : ಮಾಡಿ || Actual : V__VM__VF || Predicted : V__VM__VNF\n",
      "k = 406 || Token : ಇರುತ್ತಾರೆ || Actual : V__VAUX || Predicted : V__VM__VF\n",
      "k = 407 || Token : 3 || Actual : RD__BUL || Predicted : QT__QTC\n",
      "k = 408 || Token : ಪ್ರಸ್ತುತ || Actual : JJ || Predicted : N__NN\n",
      "k = 409 || Token : ಬೃಹತ್‌ || Actual : JJ || Predicted : N__NNP\n",
      "k = 410 || Token : ಮಹಾನಗರ || Actual : N__NNP || Predicted : N__NN\n",
      "k = 411 || Token : ಪಾಲಿಕೆ || Actual : N__NNP || Predicted : N__NN\n",
      "k = 412 || Token : ನಗರ || Actual : N__NNP || Predicted : N__NN\n",
      "k = 413 || Token : ದಾಸರಹಳ್ಳಿ || Actual : N__NNP || Predicted : N__NN\n",
      "k = 414 || Token : ಒಳಪಡುವ || Actual : V__VM__VNG || Predicted : V__VM__VNF\n",
      "k = 415 || Token : ಉಪ || Actual : JJ || Predicted : N__NN\n",
      "k = 416 || Token : ತ್ಯಾಜ್ಯ || Actual : JJ || Predicted : N__NN\n",
      "k = 417 || Token : ಸಂಸ್ಕರಣಾ || Actual : JJ || Predicted : N__NN\n",
      "k = 418 || Token : STP || Actual : RD__RDF || Predicted : N__NNP\n",
      "k = 419 || Token : ISPS || Actual : RD__RDF || Predicted : N__NN\n",
      "k = 420 || Token : ಗಳನ್ನು || Actual : PSP || Predicted : N__NN\n",
      "k = 421 || Token : ಸ್ಥಾಪಿಸುವ || Actual : V__VM__VNG || Predicted : V__VM__VNF\n",
      "k = 422 || Token : ಸುಮಾರು || Actual : N__NN || Predicted : RP__RPD\n",
      "k = 423 || Token : ಕಿಲೋಮೀಟರುಗಳ || Actual : RP__CL || Predicted : N__NN\n",
      "k = 424 || Token : Trunk || Actual : RD__RDF || Predicted : N__NN\n",
      "k = 425 || Token : Sewer || Actual : RD__RDF || Predicted : N__NN\n",
      "k = 426 || Token : ಅಳವಡಿಸುವ || Actual : V__VM__VNG || Predicted : V__VM__VNF\n",
      "k = 427 || Token : ಕೈಗೆತ್ತಿ || Actual : V__VM__VNF || Predicted : N__NN\n",
      "k = 428 || Token : ಕೊಳ್ಳಲು || Actual : V__VAUX || Predicted : V__VM__VINF\n",
      "k = 429 || Token : ಆಗಿ || Actual : V__VAUX || Predicted : V__VM__VNF\n",
      "k = 430 || Token : ಇದ್ದು || Actual : V__VAUX || Predicted : V__VM__VNF\n",
      "k = 431 || Token : ಅತಿ || Actual : RP__INTF || Predicted : JJ\n",
      "k = 432 || Token : ಪ್ರಮುಖ || Actual : RB || Predicted : N__NN\n",
      "k = 433 || Token : ಇದ್ದು || Actual : V__VAUX || Predicted : V__VM__VNF\n",
      "k = 434 || Token : ಮಾನ್ಯ || Actual : JJ || Predicted : N__NN\n",
      "k = 435 || Token : Dash || Actual : RD__RDF || Predicted : N__NN\n",
      "k = 436 || Token : Board || Actual : RD__RDF || Predicted : N__NN\n",
      "k = 437 || Token : ಖುದ್ಧಾಗಿ || Actual : RB || Predicted : JJ\n",
      "k = 438 || Token : ಮಾನ್ಯ || Actual : JJ || Predicted : N__NN\n",
      "k = 439 || Token : ಪ್ರಗತಿ || Actual : JJ || Predicted : N__NN\n",
      "k = 440 || Token : ಇರುವುದರಿಂದ || Actual : V__VAUX || Predicted : V__VM__VNF\n",
      "k = 441 || Token : ಹೊರತುಪಡಿಸಿ || Actual : RP__NEG || Predicted : V__VM__VNF\n",
      "k = 442 || Token : ಮುತ್ತಲಿನ || Actual : RD__ECH || Predicted : N__NN\n",
      "k = 443 || Token : ಯಾವುದೇ || Actual : PR__PRI || Predicted : DM__DMI\n",
      "k = 444 || Token : ಸರ್ಕಾರಿ || Actual : JJ || Predicted : N__NN\n",
      "k = 445 || Token : ಇರುವುದರಿಂದ || Actual : V__VAUX || Predicted : V__VM__VNF\n",
      "k = 446 || Token : ಜೈಕಾ || Actual : N__NN || Predicted : N__NNP\n",
      "k = 447 || Token : ಅಡಿಯಲ್ಲಿ || Actual : RP__RPD || Predicted : N__NN\n",
      "k = 448 || Token : ತೆಗೆದು || Actual : V__VM__VNG || Predicted : V__VM__VNF\n",
      "k = 449 || Token : ಕೊಂಡು || Actual : V__VAUX || Predicted : V__VM__VNF\n",
      "k = 450 || Token : ಇರುವ || Actual : V__VAUX || Predicted : V__VM__VNF\n",
      "k = 451 || Token : ಯಾವುದೇ || Actual : PR__PRI || Predicted : DM__DMI\n",
      "k = 452 || Token : ಜಲ || Actual : N__NNP || Predicted : N__NN\n",
      "k = 453 || Token : ಮಂಡಳಿಗೆ || Actual : N__NNP || Predicted : N__NN\n",
      "k = 454 || Token : ಕೋರಿ || Actual : V__VM__VF || Predicted : V__VM__VNF\n",
      "k = 455 || Token : ಇರುತ್ತಾರೆ || Actual : V__VAUX || Predicted : V__VM__VF\n",
      "k = 456 || Token : 110ಹ || Actual : N__NNP || Predicted : QT__QTC\n",
      "k = 457 || Token : ಜಲ || Actual : N__NNP || Predicted : N__NN\n",
      "k = 458 || Token : ಮಂಡಳಿ || Actual : N__NNP || Predicted : N__NN\n",
      "k = 459 || Token : ಆದೇಶ || Actual : JJ || Predicted : N__NN\n",
      "k = 460 || Token : ಆರ್‌ಡಿ || Actual : N__NNP || Predicted : N__NN\n",
      "k = 461 || Token : ಎಲ್‌ಜಿಬಿ || Actual : N__NNP || Predicted : N__NN\n",
      "k = 462 || Token : 01.02.2023 || Actual : N__NNP || Predicted : N__NN\n",
      "k = 463 || Token : ವಿವರಿಸಿ || Actual : V__VM__VNF || Predicted : RB\n",
      "k = 464 || Token : ಇರುವ || Actual : V__VAUX || Predicted : V__VM__VNF\n",
      "k = 465 || Token : ನಗರ || Actual : N__NNP || Predicted : N__NN\n",
      "k = 466 || Token : ಜಿಲ್ಲೆ || Actual : N__NNP || Predicted : N__NN\n",
      "k = 467 || Token : ಉತ್ತರ || Actual : N__NNP || Predicted : N__NN\n",
      "k = 468 || Token : ಮಾದವಾರ || Actual : N__NNP || Predicted : N__NN\n",
      "k = 469 || Token : ಎಕರೆ || Actual : RP__CL || Predicted : N__NN\n",
      "k = 470 || Token : ನಗರ || Actual : JJ || Predicted : N__NN\n",
      "k = 471 || Token : ಅಭಿವೃದ್ಧಿ || Actual : JJ || Predicted : N__NN\n",
      "k = 472 || Token : ಸರ್ಕಾರಿ || Actual : JJ || Predicted : N__NN\n",
      "k = 473 || Token : ಖರಾಬು || Actual : JJ || Predicted : N__NN\n",
      "k = 474 || Token : ಕೊಳವೆ || Actual : JJ || Predicted : N__NN\n",
      "k = 475 || Token : ಪಂಪಿಂಗ್‌ || Actual : JJ || Predicted : N__NNP\n",
      "k = 476 || Token : ISPS || Actual : RD__RDF || Predicted : N__NN\n",
      "k = 477 || Token : ನೀರು || Actual : N__NNP || Predicted : N__NN\n",
      "k = 478 || Token : ಸರಬರಾಜು || Actual : N__NNP || Predicted : N__NN\n",
      "k = 479 || Token : ಮತ್ತು || Actual : N__NNP || Predicted : CC__CCD\n",
      "k = 480 || Token : ಒಳಚರಂಡಿ || Actual : N__NNP || Predicted : N__NN\n",
      "k = 481 || Token : ಮಂಡಳಿಗೆ || Actual : N__NNP || Predicted : N__NN\n",
      "k = 482 || Token : BWSSB || Actual : RD__RDF || Predicted : N__NNP\n",
      "k = 483 || Token : ಕಂಡ || Actual : V__VM__VNG || Predicted : V__VM__VNF\n",
      "k = 484 || Token : ಒಳಪಟ್ಟು || Actual : V__VM__VNG || Predicted : V__VM__VNF\n",
      "k = 485 || Token : 1 || Actual : RD__BUL || Predicted : QT__QTC\n",
      "k = 486 || Token : ಸರ್ಕಾರಿ || Actual : JJ || Predicted : N__NN\n",
      "k = 487 || Token : ತೀರ್ಪುಗಳ || Actual : N__NNV || Predicted : N__NN\n",
      "k = 488 || Token : ಆಗಿ || Actual : V__VAUX || Predicted : V__VM__VNF\n",
      "k = 489 || Token : ಮಾನ್ಯ || Actual : JJ || Predicted : N__NN\n",
      "k = 490 || Token : ಹಸಿರು || Actual : JJ || Predicted : N__NN\n",
      "k = 491 || Token : ಕೆರೆ || Actual : N__NNP || Predicted : N__NN\n",
      "k = 492 || Token : ಸಂರಕ್ಷಣೆ || Actual : N__NNP || Predicted : N__NN\n",
      "k = 493 || Token : ಮತ್ತು || Actual : N__NNP || Predicted : CC__CCD\n",
      "k = 494 || Token : ಅಭಿವೃದ್ಧಿ || Actual : N__NNP || Predicted : N__NN\n",
      "k = 495 || Token : ಪ್ರಾಧಿಕಾರದ || Actual : N__NNP || Predicted : N__NN\n",
      "k = 496 || Token : ನೀರು || Actual : N__NNP || Predicted : N__NN\n",
      "k = 497 || Token : ಸರಬರಾಜು || Actual : N__NNP || Predicted : N__NN\n",
      "k = 498 || Token : ಮತ್ತು || Actual : N__NNP || Predicted : CC__CCD\n",
      "k = 499 || Token : ಒಳಚರಂಡಿ || Actual : N__NNP || Predicted : N__NN\n",
      "k = 500 || Token : ಮಂಡಳಿಯವರು || Actual : N__NNP || Predicted : N__NN\n",
      "k = 501 || Token : 2 || Actual : RD__BUL || Predicted : QT__QTC\n",
      "k = 502 || Token : ಖರಾಬು || Actual : JJ || Predicted : N__NN\n",
      "k = 503 || Token : ಭೂ || Actual : JJ || Predicted : N__NN\n",
      "k = 504 || Token : ಕಂದಾಯ || Actual : JJ || Predicted : N__NN\n",
      "k = 505 || Token : ಕಾಯ್ದೆ || Actual : N__NN || Predicted : V__VM__VNF\n",
      "k = 506 || Token : 1964ರ || Actual : N__NN || Predicted : QT__QTC\n",
      "k = 507 || Token : 68ರ || Actual : N__NN || Predicted : QT__QTC\n",
      "k = 508 || Token : ವಿಹಿತಗೊಳಿಸಿದ || Actual : V__VM__VNG || Predicted : V__VM__VNF\n",
      "k = 509 || Token : ನಂತರ || Actual : RP__RPD || Predicted : N__NST\n",
      "k = 510 || Token : ನೀರು || Actual : N__NNP || Predicted : N__NN\n",
      "k = 511 || Token : ಸರಬರಾಜು || Actual : N__NNP || Predicted : N__NN\n",
      "k = 512 || Token : ಮತ್ತು || Actual : N__NNP || Predicted : CC__CCD\n",
      "k = 513 || Token : ಒಳಚರಂಡಿ || Actual : N__NNP || Predicted : N__NN\n",
      "k = 514 || Token : ಮಂಡಳಿಯವರು || Actual : N__NNP || Predicted : N__NN\n",
      "k = 515 || Token : ಜಿಲ್ಲಾ || Actual : JJ || Predicted : N__NN\n",
      "k = 516 || Token : 3 || Actual : RD__BUL || Predicted : QT__QTC\n",
      "k = 517 || Token : ಸದರಿ || Actual : JJ || Predicted : N__NNP\n",
      "k = 518 || Token : ಕಳೆದು || Actual : V__VM__VNG || Predicted : V__VM__VNF\n",
      "k = 519 || Token : ಕೊಂಡು || Actual : V__VAUX || Predicted : V__VM__VNF\n",
      "k = 520 || Token : ಸದರಿ || Actual : JJ || Predicted : N__NN\n",
      "k = 521 || Token : ಹರಿದು || Actual : V__VM__VNG || Predicted : V__VM__VNF\n",
      "k = 522 || Token : ಬರುವ || Actual : V__VAUX || Predicted : V__VM__VNF\n",
      "k = 523 || Token : ಸದರಿ || Actual : JJ || Predicted : N__NN\n",
      "k = 524 || Token : ಹರಿದು || Actual : V__VM__VNG || Predicted : V__VM__VNF\n",
      "k = 525 || Token : ಬರುವ || Actual : V__VAUX || Predicted : V__VM__VNF\n",
      "k = 526 || Token : ಮಳೆ || Actual : JJ || Predicted : N__NN\n",
      "k = 527 || Token : ಮಳೆ || Actual : JJ || Predicted : N__NN\n",
      "k = 528 || Token : ನೀರು || Actual : N__NNP || Predicted : N__NN\n",
      "k = 529 || Token : ಸರಬರಾಜು || Actual : N__NNP || Predicted : N__NN\n",
      "k = 530 || Token : ಮತ್ತು || Actual : N__NNP || Predicted : CC__CCD\n",
      "k = 531 || Token : ಒಳಚರಂಡಿ || Actual : N__NNP || Predicted : N__NN\n",
      "k = 532 || Token : ಮಂಡಳಿಯವರು || Actual : N__NNP || Predicted : N__NN\n",
      "k = 533 || Token : ಅಗತ್ಯ || Actual : JJ || Predicted : N__NN\n",
      "k = 534 || Token : 4 || Actual : RD__BUL || Predicted : QT__QTC\n",
      "k = 535 || Token : ಯಾವ || Actual : PR__PRQ || Predicted : DM__DMQ\n",
      "k = 536 || Token : ಆಗಿ || Actual : V__VAUX || Predicted : V__VM__VNF\n",
      "k = 537 || Token : ಇದೆಯೋ || Actual : V__VAUX || Predicted : V__VM__VNF\n",
      "k = 538 || Token : ಅದೇ || Actual : DM__DMD || Predicted : JJ\n",
      "k = 539 || Token : ಒಳಗೆ || Actual : RP__RPD || Predicted : N__NST\n",
      "k = 540 || Token : 5 || Actual : RD__BUL || Predicted : QT__QTC\n",
      "k = 541 || Token : ಮಂಜೂರು || Actual : N__NN || Predicted : N__NNP\n",
      "k = 542 || Token : ಇರುವ || Actual : V__VAUX || Predicted : V__VM__VNF\n",
      "k = 543 || Token : ಯಾವುದೇ || Actual : PR__PRI || Predicted : DM__DMI\n",
      "k = 544 || Token : ಅತಿಕ್ರಮಣ || Actual : N__NNV || Predicted : N__NN\n",
      "k = 545 || Token : 6 || Actual : RD__BUL || Predicted : QT__QTC\n",
      "k = 546 || Token : ಆದ || Actual : V__VM__VNG || Predicted : V__VM__VNF\n",
      "k = 547 || Token : ಅಭಿವೃದ್ಧಿ || Actual : JJ || Predicted : N__NN\n",
      "k = 548 || Token : ಆರಂಭಿಸುವ || Actual : V__VM__VNG || Predicted : V__VM__VNF\n",
      "k = 549 || Token : ಪೂರ್ವದಲ್ಲಿ || Actual : N__NST || Predicted : N__NN\n",
      "k = 550 || Token : ಪಡೆಯಬೇಕಾದ || Actual : V__VM__VNG || Predicted : V__VM__VNF\n",
      "k = 551 || Token : ಸಂಬಂಧಿಸಿದ || Actual : V__VM__VNG || Predicted : V__VM__VNF\n"
     ]
    }
   ],
   "source": [
    "k = 0\n",
    "for i in range(len(test_data)):\n",
    "    ac = test_data[i][1]\n",
    "    sent = test_data[i][0]\n",
    "    pred = test_data_crf[i][1]\n",
    "    pred = [i.replace(\"_\",\"__\") for i in pred]\n",
    "    for j in range(len(ac)):\n",
    "        if pred[j] != ac[j]:\n",
    "            k+=1\n",
    "            print(f\"k = {k} || Token : {sent[j]} || Actual : {ac[j]} || Predicted : {pred[j]}\")"
   ]
  },
  {
   "cell_type": "code",
   "execution_count": 27,
   "id": "df656c07",
   "metadata": {},
   "outputs": [],
   "source": [
    "for i in test_data:\n",
    "    if \"ಅಂಥ\" in i[0]:\n",
    "        ex = \" \".join(i[0])\n",
    "        print(ex+\"\\n\")"
   ]
  },
  {
   "cell_type": "code",
   "execution_count": 229,
   "id": "b38e58c7",
   "metadata": {},
   "outputs": [],
   "source": [
    "ex = \"ಪ್ರಸ್ತಾವನೆಯಲ್ಲಿ ವಿವರಿಸಿ ಇರುವ ಅಂಶಗಳ ಹಿನ್ನೆಲೆಯಲ್ಲಿ , ಬೆಂಗಳೂರು ನಗರ ಜಿಲ್ಲೆ , ಬೆಂಗಳೂರು ಉತ್ತರ ತಾಲ್ಲೂಕು , ದಾಸನಪುರ ಹೋಬಳಿ , ಮಾದವಾರ ಗ್ರಾಮದ ಸ. ನಂ. 48 ರಲ್ಲಿ 1 - 00 ಎಕರೆ ಜಮೀನನ್ನು ನಗರ ಅಭಿವೃದ್ಧಿ ಇಲಾಖೆಯ ಹೆಸರಿನಲ್ಲಿ ಕಾಯ್ದಿರಿಸಿ ( ಮೂಲತಃ ಸರ್ಕಾರಿ ಕೆರೆ ಅಂಗಳ - ಸರ್ಕಾರಿ ಖರಾಬು ಕೆರೆ ) ಕೊಳವೆ ನೀರು ಪಂಪಿಂಗ್‌ ಸ್ಟೇಷನಿನ ಸ್ಥಾಪನೆಯ ಉದ್ದೇಶಕ್ಕೆ ( ISPS ) , ಬೆಂಗಳೂರು ನೀರು ಸರಬರಾಜು ಮತ್ತು ಒಳಚರಂಡಿ ಮಂಡಳಿಗೆ ( BWSSB ) ಇವರಿಗೆ ಉಚಿತವಾಗಿ ಈ ಕೆಳಗೆ ಕಂಡ ಷರತ್ತಿಗೆ ಒಳಪಟ್ಟು ಮಂಜೂರು ಮಾಡಿ ಆದೇಶಿಸಿದೆ .\""
   ]
  },
  {
   "cell_type": "code",
   "execution_count": 158,
   "id": "46e47064",
   "metadata": {},
   "outputs": [
    {
     "data": {
      "text/plain": [
       "'ಪ್ರಸ್ತಾವನೆಯಲ್ಲಿ ವಿವರಿಸಿ ಇರುವ ಅಂಶಗಳ ಹಿನ್ನೆಲೆಯಲ್ಲಿ , ಶಿವಮೊಗ್ಗ ಜಲ್ಲೆ , ಹೊಸನಗರ ತಾಲ್ಲೂಕು , ಕೆರೆಹಳ್ಳಿ ಹೋಬಳಿ , ಕೆರೆಹಳ್ಳಿ ಗ್ರಾಮದ ಸ. ನಂ. 37 ರಲ್ಲಿ 2 - 00 ಎಕರೆ ಗೋಮಾಳ ಜಮೀನನ್ನು ಕರ್ನಾಟಕ ಭೂ ಕಂದಾಯ ನಿಯಮಗಳು , 1966ರ ನಿಯಮ 97 ( 4ರ ) ಅಡಿ ಗೋಮಾಳ ಶೀರ್ಷಿಕೆಯಿಂದ ತಗ್ಗಿಸಿ , ಕರ್ನಾಟಕ ಭೂ ಮಂಜೂರಾತಿ ನಿಯಮಗಳು , 1969ರ ನಿಯಮ 27ರ ಅಡಿ ಸರ್ಕಾರಕ್ಕೆ ಪ್ರದತ್ತವಾದ ಅಧಿಕಾರವನ್ನು ಚಲಾಯಿಸಿ ಕರ್ನಾಟಕ ಭೂ ಮಂಜೂರಾತಿ ನಿಯಮಗಳು , 1969ರ ನಿಯಮ 22ಎ ( 1 ) ( i ) ( 3 ) ಅನ್ವಯ ಪ್ರಚಲಿತ ಮಾರುಕಟ್ಟೆ ಮೌಲ್ಯದ ಶೇ. 25 ಹಾಗೂ ಇತರೇ ಶಾಸನಬದ್ಧ ಶುಲ್ಕಗಳನ್ನು ವಿಧಿಸಿ ಕ್ಷತ್ರೀಯ ಮರಾಠ ಯುವ ವೇದಿಕೆ ( ರಿ ) , ರಿಷ್ಟನ್ಪೇಟೆ , ಹೊಸನಗರ ತಾಲ್ಲೂಕು , ಶಿವಮೊಗ್ಗ ಜಿಲ್ಲೆ ಇವರಿಗೆ ಬಡ ಮಕ್ಕಳ ವಿದ್ಯಾರ್ಥಿನಿಲಯ ಮತ್ತು ಸಮುದಾಯ ಭವನ ನಿರ್ಮಾಣದ ಉದ್ದೇಶಕ್ಕೆ ಈ ಕೆಳಗೆ ಕಂಡ ಷರತ್ತಿಗೆ ಒಳಪಟ್ಟು ಮಂಜೂರು ಮಾಡಿ ಆದೇಶಿಸಿದೆ .'"
      ]
     },
     "execution_count": 158,
     "metadata": {},
     "output_type": "execute_result"
    }
   ],
   "source": [
    "ex = ex.replace(\"\\u200c\",\"\")\n",
    "ex"
   ]
  },
  {
   "cell_type": "code",
   "execution_count": 125,
   "id": "17f591e4",
   "metadata": {},
   "outputs": [],
   "source": [
    "with open(\"./test_data_crf.pickle\",\"rb\") as f:\n",
    "    test_data_crf = pickle.load(f)"
   ]
  },
  {
   "cell_type": "code",
   "execution_count": 126,
   "id": "d37b4477",
   "metadata": {},
   "outputs": [
    {
     "data": {
      "text/plain": [
       "100"
      ]
     },
     "execution_count": 126,
     "metadata": {},
     "output_type": "execute_result"
    }
   ],
   "source": [
    "len(test_data_crf)"
   ]
  },
  {
   "cell_type": "code",
   "execution_count": 127,
   "id": "d05ffde9",
   "metadata": {},
   "outputs": [
    {
     "ename": "IndexError",
     "evalue": "list index out of range",
     "output_type": "error",
     "traceback": [
      "\u001b[0;31m---------------------------------------------------------------------------\u001b[0m",
      "\u001b[0;31mIndexError\u001b[0m                                Traceback (most recent call last)",
      "\u001b[0;32m/tmp/ipykernel_5637/1384825197.py\u001b[0m in \u001b[0;36m<module>\u001b[0;34m\u001b[0m\n\u001b[1;32m      8\u001b[0m         \u001b[0mmismatch\u001b[0m\u001b[0;34m=\u001b[0m\u001b[0;36m1\u001b[0m\u001b[0;34m\u001b[0m\u001b[0;34m\u001b[0m\u001b[0m\n\u001b[1;32m      9\u001b[0m     \u001b[0;32mfor\u001b[0m \u001b[0mj\u001b[0m \u001b[0;32min\u001b[0m \u001b[0mrange\u001b[0m\u001b[0;34m(\u001b[0m\u001b[0mlen\u001b[0m\u001b[0;34m(\u001b[0m\u001b[0mpred\u001b[0m\u001b[0;34m)\u001b[0m\u001b[0;34m)\u001b[0m\u001b[0;34m:\u001b[0m\u001b[0;34m\u001b[0m\u001b[0;34m\u001b[0m\u001b[0m\n\u001b[0;32m---> 10\u001b[0;31m         \u001b[0;32mif\u001b[0m \u001b[0mpred\u001b[0m\u001b[0;34m[\u001b[0m\u001b[0mj\u001b[0m\u001b[0;34m]\u001b[0m\u001b[0;34m==\u001b[0m\u001b[0mac\u001b[0m\u001b[0;34m[\u001b[0m\u001b[0mj\u001b[0m\u001b[0;34m]\u001b[0m\u001b[0;34m:\u001b[0m\u001b[0;34m\u001b[0m\u001b[0;34m\u001b[0m\u001b[0m\n\u001b[0m\u001b[1;32m     11\u001b[0m             \u001b[0mcrt\u001b[0m\u001b[0;34m+=\u001b[0m\u001b[0;36m1\u001b[0m\u001b[0;34m\u001b[0m\u001b[0;34m\u001b[0m\u001b[0m\n\u001b[1;32m     12\u001b[0m         \u001b[0mtot\u001b[0m\u001b[0;34m+=\u001b[0m\u001b[0;36m1\u001b[0m\u001b[0;34m\u001b[0m\u001b[0;34m\u001b[0m\u001b[0m\n",
      "\u001b[0;31mIndexError\u001b[0m: list index out of range"
     ]
    }
   ],
   "source": [
    "mismatch = 0\n",
    "crt = 0\n",
    "tot = 0\n",
    "for i in range(len(test_data)):\n",
    "    pred = test_data_crf[i][1]\n",
    "    ac = test_data[i][1]\n",
    "    if len(pred)!=len(ac):\n",
    "        mismatch=1\n",
    "    for j in range(len(pred)):\n",
    "        if pred[j]==ac[j]:\n",
    "            crt+=1\n",
    "        tot+=1"
   ]
  },
  {
   "cell_type": "code",
   "execution_count": 129,
   "id": "08b6d96d",
   "metadata": {},
   "outputs": [
    {
     "data": {
      "text/plain": [
       "['5',\n",
       " '.',\n",
       " 'ಮಂಜೂರು',\n",
       " 'ಆಗಿ',\n",
       " 'ಇರುವ',\n",
       " 'ಜಮೀನಿನಲ್ಲಿ',\n",
       " 'ಯಾವುದೇ',\n",
       " 'ರೀತಿಯಲ್ಲಿ',\n",
       " 'ಅತಿಕ್ರಮಣ',\n",
       " 'ಆಗದಂತೆ',\n",
       " 'ಕ್ರಮ',\n",
       " 'ವಹಿಸುವುದು',\n",
       " ';']"
      ]
     },
     "execution_count": 129,
     "metadata": {},
     "output_type": "execute_result"
    }
   ],
   "source": [
    "test_data[0][0]"
   ]
  },
  {
   "cell_type": "code",
   "execution_count": 182,
   "id": "fb7f2f0f",
   "metadata": {},
   "outputs": [
    {
     "data": {
      "text/plain": [
       "{0: 'CC__CCD',\n",
       " 1: 'CC__CCS',\n",
       " 2: 'CC__CCS__UT',\n",
       " 3: 'DM__DMD',\n",
       " 4: 'DM__DMI',\n",
       " 5: 'DM__DMQ',\n",
       " 6: 'DM__DMR',\n",
       " 7: 'JJ',\n",
       " 8: 'N__NN',\n",
       " 9: 'N__NNP',\n",
       " 10: 'N__NNV',\n",
       " 11: 'N__NST',\n",
       " 12: 'PR__PRC',\n",
       " 13: 'PR__PRF',\n",
       " 14: 'PR__PRI',\n",
       " 15: 'PR__PRL',\n",
       " 16: 'PR__PRP',\n",
       " 17: 'PR__PRQ',\n",
       " 18: 'PSP',\n",
       " 19: 'QT__QTC',\n",
       " 20: 'QT__QTF',\n",
       " 21: 'QT__QTO',\n",
       " 22: 'RB',\n",
       " 23: 'RD__BUL',\n",
       " 24: 'RD__ECH',\n",
       " 25: 'RD__PUNC',\n",
       " 26: 'RD__RDF',\n",
       " 27: 'RD__RPD',\n",
       " 28: 'RD__SYM',\n",
       " 29: 'RP__CL',\n",
       " 30: 'RP__INJ',\n",
       " 31: 'RP__INTF',\n",
       " 32: 'RP__NEG',\n",
       " 33: 'RP__RPD',\n",
       " 34: 'V__VAUX',\n",
       " 35: 'V__VM__VF',\n",
       " 36: 'V__VM__VINF',\n",
       " 37: 'V__VM__VNF',\n",
       " 38: 'V__VM__VNG'}"
      ]
     },
     "execution_count": 182,
     "metadata": {},
     "output_type": "execute_result"
    }
   ],
   "source": [
    "encoding_dict"
   ]
  },
  {
   "cell_type": "code",
   "execution_count": null,
   "id": "bb9ae303",
   "metadata": {},
   "outputs": [],
   "source": []
  }
 ],
 "metadata": {
  "kernelspec": {
   "display_name": "Python 3 (ipykernel)",
   "language": "python",
   "name": "python3"
  },
  "language_info": {
   "codemirror_mode": {
    "name": "ipython",
    "version": 3
   },
   "file_extension": ".py",
   "mimetype": "text/x-python",
   "name": "python",
   "nbconvert_exporter": "python",
   "pygments_lexer": "ipython3",
   "version": "3.10.12"
  }
 },
 "nbformat": 4,
 "nbformat_minor": 5
}
